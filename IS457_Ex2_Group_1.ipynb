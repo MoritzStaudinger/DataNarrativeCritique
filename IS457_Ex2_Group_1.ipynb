{
 "cells": [
  {
   "cell_type": "markdown",
   "id": "6a1f19b2",
   "metadata": {},
   "source": [
    "# Data Narrative Critique\n",
    "## IS 457 - Data Storytelling\n",
    "### Group Members:\n",
    "* Moritz Staudinger\n",
    "* Faiz Mohammed Faiz\n",
    "* Sunethra Kannan\n",
    "* Aditya Madduluri\n",
    "\n",
    "In this analysis, we reproduced the findings of \"Some People Are Too Superstitious To Have A Baby On Friday The 13th\" (https://fivethirtyeight.com/features/some-people-are-too-superstitious-to-have-a-baby-on-friday-the-13th/)"
   ]
  },
  {
   "cell_type": "code",
   "execution_count": 84,
   "id": "8dea2fc6",
   "metadata": {},
   "outputs": [],
   "source": [
    "import pandas as pd\n",
    "import plotly as plt\n",
    "import plotly.express as px\n",
    "import plotly.graph_objects as go"
   ]
  },
  {
   "cell_type": "markdown",
   "id": "2c597bb6",
   "metadata": {},
   "source": [
    "The datasets are available at: \n",
    "https://github.com/fivethirtyeight/data/tree/master/births"
   ]
  },
  {
   "cell_type": "code",
   "execution_count": 85,
   "id": "ea33a0a5",
   "metadata": {},
   "outputs": [],
   "source": [
    "df_ssa = pd.read_csv('US_births_2000-2014_SSA.csv')  \n",
    "df_nchs = pd.read_csv('US_births_1994-2003_CDC_NCHS.csv') "
   ]
  },
  {
   "cell_type": "markdown",
   "id": "93a74e6c",
   "metadata": {},
   "source": [
    "We can see that both files have the same columns and columnnames, this is important for combining them later"
   ]
  },
  {
   "cell_type": "code",
   "execution_count": 86,
   "id": "b0442d7b",
   "metadata": {},
   "outputs": [
    {
     "data": {
      "text/html": [
       "<div>\n",
       "<style scoped>\n",
       "    .dataframe tbody tr th:only-of-type {\n",
       "        vertical-align: middle;\n",
       "    }\n",
       "\n",
       "    .dataframe tbody tr th {\n",
       "        vertical-align: top;\n",
       "    }\n",
       "\n",
       "    .dataframe thead th {\n",
       "        text-align: right;\n",
       "    }\n",
       "</style>\n",
       "<table border=\"1\" class=\"dataframe\">\n",
       "  <thead>\n",
       "    <tr style=\"text-align: right;\">\n",
       "      <th></th>\n",
       "      <th>year</th>\n",
       "      <th>month</th>\n",
       "      <th>date_of_month</th>\n",
       "      <th>day_of_week</th>\n",
       "      <th>births</th>\n",
       "    </tr>\n",
       "  </thead>\n",
       "  <tbody>\n",
       "    <tr>\n",
       "      <th>0</th>\n",
       "      <td>2000</td>\n",
       "      <td>1</td>\n",
       "      <td>1</td>\n",
       "      <td>6</td>\n",
       "      <td>9083</td>\n",
       "    </tr>\n",
       "    <tr>\n",
       "      <th>1</th>\n",
       "      <td>2000</td>\n",
       "      <td>1</td>\n",
       "      <td>2</td>\n",
       "      <td>7</td>\n",
       "      <td>8006</td>\n",
       "    </tr>\n",
       "    <tr>\n",
       "      <th>2</th>\n",
       "      <td>2000</td>\n",
       "      <td>1</td>\n",
       "      <td>3</td>\n",
       "      <td>1</td>\n",
       "      <td>11363</td>\n",
       "    </tr>\n",
       "    <tr>\n",
       "      <th>3</th>\n",
       "      <td>2000</td>\n",
       "      <td>1</td>\n",
       "      <td>4</td>\n",
       "      <td>2</td>\n",
       "      <td>13032</td>\n",
       "    </tr>\n",
       "    <tr>\n",
       "      <th>4</th>\n",
       "      <td>2000</td>\n",
       "      <td>1</td>\n",
       "      <td>5</td>\n",
       "      <td>3</td>\n",
       "      <td>12558</td>\n",
       "    </tr>\n",
       "  </tbody>\n",
       "</table>\n",
       "</div>"
      ],
      "text/plain": [
       "   year  month  date_of_month  day_of_week  births\n",
       "0  2000      1              1            6    9083\n",
       "1  2000      1              2            7    8006\n",
       "2  2000      1              3            1   11363\n",
       "3  2000      1              4            2   13032\n",
       "4  2000      1              5            3   12558"
      ]
     },
     "execution_count": 86,
     "metadata": {},
     "output_type": "execute_result"
    }
   ],
   "source": [
    "df_ssa.head()"
   ]
  },
  {
   "cell_type": "code",
   "execution_count": 87,
   "id": "38d49e76",
   "metadata": {},
   "outputs": [
    {
     "data": {
      "text/html": [
       "<div>\n",
       "<style scoped>\n",
       "    .dataframe tbody tr th:only-of-type {\n",
       "        vertical-align: middle;\n",
       "    }\n",
       "\n",
       "    .dataframe tbody tr th {\n",
       "        vertical-align: top;\n",
       "    }\n",
       "\n",
       "    .dataframe thead th {\n",
       "        text-align: right;\n",
       "    }\n",
       "</style>\n",
       "<table border=\"1\" class=\"dataframe\">\n",
       "  <thead>\n",
       "    <tr style=\"text-align: right;\">\n",
       "      <th></th>\n",
       "      <th>year</th>\n",
       "      <th>month</th>\n",
       "      <th>date_of_month</th>\n",
       "      <th>day_of_week</th>\n",
       "      <th>births</th>\n",
       "    </tr>\n",
       "  </thead>\n",
       "  <tbody>\n",
       "    <tr>\n",
       "      <th>0</th>\n",
       "      <td>1994</td>\n",
       "      <td>1</td>\n",
       "      <td>1</td>\n",
       "      <td>6</td>\n",
       "      <td>8096</td>\n",
       "    </tr>\n",
       "    <tr>\n",
       "      <th>1</th>\n",
       "      <td>1994</td>\n",
       "      <td>1</td>\n",
       "      <td>2</td>\n",
       "      <td>7</td>\n",
       "      <td>7772</td>\n",
       "    </tr>\n",
       "    <tr>\n",
       "      <th>2</th>\n",
       "      <td>1994</td>\n",
       "      <td>1</td>\n",
       "      <td>3</td>\n",
       "      <td>1</td>\n",
       "      <td>10142</td>\n",
       "    </tr>\n",
       "    <tr>\n",
       "      <th>3</th>\n",
       "      <td>1994</td>\n",
       "      <td>1</td>\n",
       "      <td>4</td>\n",
       "      <td>2</td>\n",
       "      <td>11248</td>\n",
       "    </tr>\n",
       "    <tr>\n",
       "      <th>4</th>\n",
       "      <td>1994</td>\n",
       "      <td>1</td>\n",
       "      <td>5</td>\n",
       "      <td>3</td>\n",
       "      <td>11053</td>\n",
       "    </tr>\n",
       "  </tbody>\n",
       "</table>\n",
       "</div>"
      ],
      "text/plain": [
       "   year  month  date_of_month  day_of_week  births\n",
       "0  1994      1              1            6    8096\n",
       "1  1994      1              2            7    7772\n",
       "2  1994      1              3            1   10142\n",
       "3  1994      1              4            2   11248\n",
       "4  1994      1              5            3   11053"
      ]
     },
     "execution_count": 87,
     "metadata": {},
     "output_type": "execute_result"
    }
   ],
   "source": [
    "df_nchs.head()"
   ]
  },
  {
   "cell_type": "markdown",
   "id": "adb01f2a",
   "metadata": {},
   "source": [
    "Generating the average births per day of the year, without depending on the day of the week.\n",
    "Further calculating the average births as in the original report only for the 6th and 20th day of the month"
   ]
  },
  {
   "cell_type": "code",
   "execution_count": 88,
   "id": "84c27cbd",
   "metadata": {},
   "outputs": [
    {
     "data": {
      "text/html": [
       "<div>\n",
       "<style scoped>\n",
       "    .dataframe tbody tr th:only-of-type {\n",
       "        vertical-align: middle;\n",
       "    }\n",
       "\n",
       "    .dataframe tbody tr th {\n",
       "        vertical-align: top;\n",
       "    }\n",
       "\n",
       "    .dataframe thead th {\n",
       "        text-align: right;\n",
       "    }\n",
       "</style>\n",
       "<table border=\"1\" class=\"dataframe\">\n",
       "  <thead>\n",
       "    <tr style=\"text-align: right;\">\n",
       "      <th></th>\n",
       "      <th>year</th>\n",
       "      <th>month</th>\n",
       "      <th>date_of_month</th>\n",
       "      <th>day_of_week</th>\n",
       "      <th>births</th>\n",
       "    </tr>\n",
       "  </thead>\n",
       "  <tbody>\n",
       "    <tr>\n",
       "      <th>0</th>\n",
       "      <td>2000</td>\n",
       "      <td>1</td>\n",
       "      <td>1</td>\n",
       "      <td>6</td>\n",
       "      <td>9083</td>\n",
       "    </tr>\n",
       "    <tr>\n",
       "      <th>1</th>\n",
       "      <td>2000</td>\n",
       "      <td>1</td>\n",
       "      <td>2</td>\n",
       "      <td>7</td>\n",
       "      <td>8006</td>\n",
       "    </tr>\n",
       "    <tr>\n",
       "      <th>2</th>\n",
       "      <td>2000</td>\n",
       "      <td>1</td>\n",
       "      <td>3</td>\n",
       "      <td>1</td>\n",
       "      <td>11363</td>\n",
       "    </tr>\n",
       "    <tr>\n",
       "      <th>3</th>\n",
       "      <td>2000</td>\n",
       "      <td>1</td>\n",
       "      <td>4</td>\n",
       "      <td>2</td>\n",
       "      <td>13032</td>\n",
       "    </tr>\n",
       "    <tr>\n",
       "      <th>4</th>\n",
       "      <td>2000</td>\n",
       "      <td>1</td>\n",
       "      <td>5</td>\n",
       "      <td>3</td>\n",
       "      <td>12558</td>\n",
       "    </tr>\n",
       "    <tr>\n",
       "      <th>...</th>\n",
       "      <td>...</td>\n",
       "      <td>...</td>\n",
       "      <td>...</td>\n",
       "      <td>...</td>\n",
       "      <td>...</td>\n",
       "    </tr>\n",
       "    <tr>\n",
       "      <th>5474</th>\n",
       "      <td>2014</td>\n",
       "      <td>12</td>\n",
       "      <td>27</td>\n",
       "      <td>6</td>\n",
       "      <td>8656</td>\n",
       "    </tr>\n",
       "    <tr>\n",
       "      <th>5475</th>\n",
       "      <td>2014</td>\n",
       "      <td>12</td>\n",
       "      <td>28</td>\n",
       "      <td>7</td>\n",
       "      <td>7724</td>\n",
       "    </tr>\n",
       "    <tr>\n",
       "      <th>5476</th>\n",
       "      <td>2014</td>\n",
       "      <td>12</td>\n",
       "      <td>29</td>\n",
       "      <td>1</td>\n",
       "      <td>12811</td>\n",
       "    </tr>\n",
       "    <tr>\n",
       "      <th>5477</th>\n",
       "      <td>2014</td>\n",
       "      <td>12</td>\n",
       "      <td>30</td>\n",
       "      <td>2</td>\n",
       "      <td>13634</td>\n",
       "    </tr>\n",
       "    <tr>\n",
       "      <th>5478</th>\n",
       "      <td>2014</td>\n",
       "      <td>12</td>\n",
       "      <td>31</td>\n",
       "      <td>3</td>\n",
       "      <td>11990</td>\n",
       "    </tr>\n",
       "  </tbody>\n",
       "</table>\n",
       "<p>5470 rows × 5 columns</p>\n",
       "</div>"
      ],
      "text/plain": [
       "      year  month  date_of_month  day_of_week  births\n",
       "0     2000      1              1            6    9083\n",
       "1     2000      1              2            7    8006\n",
       "2     2000      1              3            1   11363\n",
       "3     2000      1              4            2   13032\n",
       "4     2000      1              5            3   12558\n",
       "...    ...    ...            ...          ...     ...\n",
       "5474  2014     12             27            6    8656\n",
       "5475  2014     12             28            7    7724\n",
       "5476  2014     12             29            1   12811\n",
       "5477  2014     12             30            2   13634\n",
       "5478  2014     12             31            3   11990\n",
       "\n",
       "[5470 rows x 5 columns]"
      ]
     },
     "execution_count": 88,
     "metadata": {},
     "output_type": "execute_result"
    }
   ],
   "source": [
    "# Only Execute this block if holidays should be excluded -> Will also affect the 2 plot, so be careful\n",
    "#Excluding Holidays (Martin Luther King Day, Presidents Day, Labor Day, Columbus Day)\n",
    "df_ssa=df_ssa[~((df_ssa[\"month\"]==1) & (df_ssa[\"date_of_month\"]==20) & (df_ssa[\"day_of_week\"]==1))] \n",
    "df_ssa=df_ssa[~((df_ssa[\"month\"]==2) & (df_ssa[\"date_of_month\"]==20) & (df_ssa[\"day_of_week\"]==1))] \n",
    "df_ssa=df_ssa[~((df_ssa[\"month\"]==9) & (df_ssa[\"date_of_month\"]==6) & (df_ssa[\"day_of_week\"]==1))] \n",
    "df_ssa=df_ssa[~((df_ssa[\"month\"]==10) & (df_ssa[\"date_of_month\"]==13) & (df_ssa[\"day_of_week\"]==1))] \n",
    "df_ssa # 9 rows to delete"
   ]
  },
  {
   "cell_type": "code",
   "execution_count": 89,
   "id": "bb64fd47",
   "metadata": {},
   "outputs": [],
   "source": [
    "df_ssa_holidays = df_ssa[(df_ssa[\"month\"]==1) & (df_ssa[\"date_of_month\"]==20) & (df_ssa[\"day_of_week\"]==1)] \n",
    "\n",
    "\n",
    "births_per_day_and_weekday_ssa = df_ssa[[\"date_of_month\", \"day_of_week\", \"births\"]].groupby(by=['date_of_month', 'day_of_week']).sum().reset_index()\n",
    "births_per_day_and_weekday_ssa[\"births\"] = births_per_day_and_weekday_ssa[\"births\"]/(df_ssa[\"year\"].unique().size)\n",
    "average_births_ssa = births_per_day_and_weekday_ssa[\"births\"].mean()\n",
    "average_births_6_20_ssa = births_per_day_and_weekday_ssa[(births_per_day_and_weekday_ssa['date_of_month']==6) | (births_per_day_and_weekday_ssa['date_of_month']==20)][\"births\"].mean()"
   ]
  },
  {
   "cell_type": "code",
   "execution_count": 90,
   "id": "20e3aaec",
   "metadata": {},
   "outputs": [
    {
     "name": "stdout",
     "output_type": "stream",
     "text": [
      "    date_of_month  day_of_week        births\n",
      "84             13            1  16601.400000\n",
      "85             13            2  22299.333333\n",
      "86             13            3  21226.733333\n",
      "87             13            4  23452.266667\n",
      "88             13            5  19916.600000\n",
      "89             13            6  14251.266667\n",
      "90             13            7  13302.533333\n",
      "19075.95821812596\n",
      "19335.75238095238\n"
     ]
    }
   ],
   "source": [
    "print(births_per_day_and_weekday_ssa[births_per_day_and_weekday_ssa[\"date_of_month\"]==13])\n",
    "print(average_births_ssa)\n",
    "print(average_births_6_20_ssa)"
   ]
  },
  {
   "cell_type": "markdown",
   "id": "c82b44bf",
   "metadata": {},
   "source": [
    "Repeating this process for the other dataset as well"
   ]
  },
  {
   "cell_type": "code",
   "execution_count": 91,
   "id": "21f121e3",
   "metadata": {},
   "outputs": [],
   "source": [
    "births_per_day_and_weekday_nchs = df_nchs[[\"date_of_month\", \"day_of_week\", \"births\"]].groupby(by=['date_of_month', 'day_of_week']).sum().reset_index()\n",
    "births_per_day_and_weekday_nchs[\"births\"] = births_per_day_and_weekday_nchs[\"births\"]/(df_nchs[\"year\"].unique().size)\n",
    "average_births_nchs = births_per_day_and_weekday_nchs[\"births\"].mean()\n",
    "average_births_6_20_nchs = births_per_day_and_weekday_nchs[(births_per_day_and_weekday_nchs['date_of_month']==6) | (births_per_day_and_weekday_nchs['date_of_month']==20)][\"births\"].mean()"
   ]
  },
  {
   "cell_type": "code",
   "execution_count": 92,
   "id": "f9ea6fc2",
   "metadata": {},
   "outputs": [
    {
     "name": "stdout",
     "output_type": "stream",
     "text": [
      "    date_of_month  day_of_week   births\n",
      "84             13            1  18381.2\n",
      "85             13            2  19469.5\n",
      "86             13            3  20216.3\n",
      "87             13            4  22539.5\n",
      "88             13            5  18247.7\n",
      "89             13            6  15602.3\n",
      "90             13            7  13311.9\n",
      "18305.132258064514\n",
      "18780.678571428576\n"
     ]
    }
   ],
   "source": [
    "print(births_per_day_and_weekday_nchs[births_per_day_and_weekday_nchs[\"date_of_month\"]==13])\n",
    "print(average_births_nchs)\n",
    "print(average_births_6_20_nchs)"
   ]
  },
  {
   "cell_type": "markdown",
   "id": "89d76479",
   "metadata": {},
   "source": [
    "Combining the two datasets and calculating the average births.\n",
    "Using the days of the week as further parameter and do not use the total value (as the authors seem to have used the same). The values seem to be better when adapting it on a per weekday basis"
   ]
  },
  {
   "cell_type": "code",
   "execution_count": 93,
   "id": "592bdc56",
   "metadata": {},
   "outputs": [],
   "source": [
    "births_per_day_and_weekday = births_per_day_and_weekday_nchs[[\"date_of_month\", 'day_of_week']]\n",
    "births_per_day_and_weekday[\"births\"] = (births_per_day_and_weekday_nchs[\"births\"]+births_per_day_and_weekday_ssa[\"births\"])/2\n",
    "average_births = births_per_day_and_weekday[\"births\"].mean()\n",
    "average_births_by_day = births_per_day_and_weekday[[\"births\", \"day_of_week\"]].groupby(by=[\"day_of_week\"]).mean()\n",
    "average_births_6_20 = births_per_day_and_weekday[(births_per_day_and_weekday['date_of_month']==6) | (births_per_day_and_weekday['date_of_month']==20)][\"births\"].mean()\n",
    "average_births_6_20_by_day = births_per_day_and_weekday[(births_per_day_and_weekday['date_of_month']==6) | (births_per_day_and_weekday['date_of_month']==20)][[\"births\", \"day_of_week\"]].groupby(by=[\"day_of_week\"]).mean()"
   ]
  },
  {
   "cell_type": "code",
   "execution_count": 94,
   "id": "a9303698",
   "metadata": {},
   "outputs": [
    {
     "data": {
      "text/html": [
       "<div>\n",
       "<style scoped>\n",
       "    .dataframe tbody tr th:only-of-type {\n",
       "        vertical-align: middle;\n",
       "    }\n",
       "\n",
       "    .dataframe tbody tr th {\n",
       "        vertical-align: top;\n",
       "    }\n",
       "\n",
       "    .dataframe thead th {\n",
       "        text-align: right;\n",
       "    }\n",
       "</style>\n",
       "<table border=\"1\" class=\"dataframe\">\n",
       "  <thead>\n",
       "    <tr style=\"text-align: right;\">\n",
       "      <th></th>\n",
       "      <th>births</th>\n",
       "    </tr>\n",
       "    <tr>\n",
       "      <th>day_of_week</th>\n",
       "      <th></th>\n",
       "    </tr>\n",
       "  </thead>\n",
       "  <tbody>\n",
       "    <tr>\n",
       "      <th>1</th>\n",
       "      <td>18060.100000</td>\n",
       "    </tr>\n",
       "    <tr>\n",
       "      <th>2</th>\n",
       "      <td>21309.591667</td>\n",
       "    </tr>\n",
       "    <tr>\n",
       "      <th>3</th>\n",
       "      <td>21368.125000</td>\n",
       "    </tr>\n",
       "    <tr>\n",
       "      <th>4</th>\n",
       "      <td>23791.891667</td>\n",
       "    </tr>\n",
       "    <tr>\n",
       "      <th>5</th>\n",
       "      <td>20427.991667</td>\n",
       "    </tr>\n",
       "    <tr>\n",
       "      <th>6</th>\n",
       "      <td>15024.991667</td>\n",
       "    </tr>\n",
       "    <tr>\n",
       "      <th>7</th>\n",
       "      <td>13424.816667</td>\n",
       "    </tr>\n",
       "  </tbody>\n",
       "</table>\n",
       "</div>"
      ],
      "text/plain": [
       "                   births\n",
       "day_of_week              \n",
       "1            18060.100000\n",
       "2            21309.591667\n",
       "3            21368.125000\n",
       "4            23791.891667\n",
       "5            20427.991667\n",
       "6            15024.991667\n",
       "7            13424.816667"
      ]
     },
     "execution_count": 94,
     "metadata": {},
     "output_type": "execute_result"
    }
   ],
   "source": [
    "average_births_6_20_by_day"
   ]
  },
  {
   "cell_type": "code",
   "execution_count": 95,
   "id": "a16d6790",
   "metadata": {},
   "outputs": [],
   "source": [
    "births_per_day_and_weekday[\"average_births_6_20\"] = average_births_6_20\n",
    "births_per_day_and_weekday[\"average_births\"] = average_births\n",
    "# per weekday\n",
    "births_per_day_and_weekday = births_per_day_and_weekday.join(average_births_6_20_by_day, on=[\"day_of_week\"], rsuffix=\"_avg_per_day_6_20\")\n",
    "births_per_day_and_weekday = births_per_day_and_weekday.join(average_births_by_day, on=[\"day_of_week\"], rsuffix=\"_avg_per_day\")"
   ]
  },
  {
   "cell_type": "code",
   "execution_count": 96,
   "id": "0c69bf70",
   "metadata": {},
   "outputs": [
    {
     "data": {
      "text/html": [
       "<div>\n",
       "<style scoped>\n",
       "    .dataframe tbody tr th:only-of-type {\n",
       "        vertical-align: middle;\n",
       "    }\n",
       "\n",
       "    .dataframe tbody tr th {\n",
       "        vertical-align: top;\n",
       "    }\n",
       "\n",
       "    .dataframe thead th {\n",
       "        text-align: right;\n",
       "    }\n",
       "</style>\n",
       "<table border=\"1\" class=\"dataframe\">\n",
       "  <thead>\n",
       "    <tr style=\"text-align: right;\">\n",
       "      <th></th>\n",
       "      <th>births</th>\n",
       "      <th>average_births_6_20</th>\n",
       "      <th>average_births</th>\n",
       "      <th>births_avg_per_day_6_20</th>\n",
       "      <th>births_avg_per_day</th>\n",
       "    </tr>\n",
       "  </thead>\n",
       "  <tbody>\n",
       "    <tr>\n",
       "      <th>84</th>\n",
       "      <td>17491.300000</td>\n",
       "      <td>19058.215476</td>\n",
       "      <td>18690.545238</td>\n",
       "      <td>18060.100000</td>\n",
       "      <td>19252.655914</td>\n",
       "    </tr>\n",
       "    <tr>\n",
       "      <th>85</th>\n",
       "      <td>20884.416667</td>\n",
       "      <td>19058.215476</td>\n",
       "      <td>18690.545238</td>\n",
       "      <td>21309.591667</td>\n",
       "      <td>21445.341935</td>\n",
       "    </tr>\n",
       "    <tr>\n",
       "      <th>86</th>\n",
       "      <td>20721.516667</td>\n",
       "      <td>19058.215476</td>\n",
       "      <td>18690.545238</td>\n",
       "      <td>21368.125000</td>\n",
       "      <td>21068.185484</td>\n",
       "    </tr>\n",
       "    <tr>\n",
       "      <th>87</th>\n",
       "      <td>22995.883333</td>\n",
       "      <td>19058.215476</td>\n",
       "      <td>18690.545238</td>\n",
       "      <td>23791.891667</td>\n",
       "      <td>20944.171505</td>\n",
       "    </tr>\n",
       "    <tr>\n",
       "      <th>88</th>\n",
       "      <td>19082.150000</td>\n",
       "      <td>19058.215476</td>\n",
       "      <td>18690.545238</td>\n",
       "      <td>20427.991667</td>\n",
       "      <td>20645.897312</td>\n",
       "    </tr>\n",
       "    <tr>\n",
       "      <th>89</th>\n",
       "      <td>14926.783333</td>\n",
       "      <td>19058.215476</td>\n",
       "      <td>18690.545238</td>\n",
       "      <td>15024.991667</td>\n",
       "      <td>14567.377957</td>\n",
       "    </tr>\n",
       "    <tr>\n",
       "      <th>90</th>\n",
       "      <td>13307.216667</td>\n",
       "      <td>19058.215476</td>\n",
       "      <td>18690.545238</td>\n",
       "      <td>13424.816667</td>\n",
       "      <td>12910.186559</td>\n",
       "    </tr>\n",
       "  </tbody>\n",
       "</table>\n",
       "</div>"
      ],
      "text/plain": [
       "          births  average_births_6_20  average_births  \\\n",
       "84  17491.300000         19058.215476    18690.545238   \n",
       "85  20884.416667         19058.215476    18690.545238   \n",
       "86  20721.516667         19058.215476    18690.545238   \n",
       "87  22995.883333         19058.215476    18690.545238   \n",
       "88  19082.150000         19058.215476    18690.545238   \n",
       "89  14926.783333         19058.215476    18690.545238   \n",
       "90  13307.216667         19058.215476    18690.545238   \n",
       "\n",
       "    births_avg_per_day_6_20  births_avg_per_day  \n",
       "84             18060.100000        19252.655914  \n",
       "85             21309.591667        21445.341935  \n",
       "86             21368.125000        21068.185484  \n",
       "87             23791.891667        20944.171505  \n",
       "88             20427.991667        20645.897312  \n",
       "89             15024.991667        14567.377957  \n",
       "90             13424.816667        12910.186559  "
      ]
     },
     "execution_count": 96,
     "metadata": {},
     "output_type": "execute_result"
    }
   ],
   "source": [
    "#Seems better!\n",
    "births_per_day_and_weekday[births_per_day_and_weekday[\"date_of_month\"]==13][[\"births\", \"average_births_6_20\",\"average_births\",\"births_avg_per_day_6_20\",\"births_avg_per_day\"]]"
   ]
  },
  {
   "cell_type": "markdown",
   "id": "523536c6",
   "metadata": {},
   "source": [
    "Calculating the percentage change, to the average births (for all variants)"
   ]
  },
  {
   "cell_type": "code",
   "execution_count": 97,
   "id": "177c7f62",
   "metadata": {},
   "outputs": [],
   "source": [
    "births_per_day_and_weekday[\"percentage_6_20\"] = ((births_per_day_and_weekday[\"births\"]-births_per_day_and_weekday[\"average_births_6_20\"])/births_per_day_and_weekday[\"average_births_6_20\"])*100\n",
    "births_per_day_and_weekday[\"percentage_total\"] = ((births_per_day_and_weekday[\"births\"]-births_per_day_and_weekday[\"average_births\"])/births_per_day_and_weekday[\"average_births\"])*100\n",
    "#per weekday\n",
    "births_per_day_and_weekday[\"percentage_6_20_day_of_week\"] = ((births_per_day_and_weekday[\"births\"]-births_per_day_and_weekday[\"births_avg_per_day_6_20\"])/births_per_day_and_weekday[\"births_avg_per_day_6_20\"])*100\n",
    "births_per_day_and_weekday[\"percentage_total_day_of_week\"] = ((births_per_day_and_weekday[\"births\"]-births_per_day_and_weekday[\"births_avg_per_day\"])/births_per_day_and_weekday[\"births_avg_per_day\"])*100"
   ]
  },
  {
   "cell_type": "markdown",
   "id": "04aff51a",
   "metadata": {},
   "source": [
    "Mapping the day of the week to its name, as it is better readable in the plot then"
   ]
  },
  {
   "cell_type": "code",
   "execution_count": 98,
   "id": "4dd3eb6f",
   "metadata": {},
   "outputs": [],
   "source": [
    "dayOfWeek={1:'Monday', 2:'Tuesday', 3:'Wednesday', 4:'Thursday', 5:'Friday', 6:'Saturday', 7:'Sunday'}\n",
    "births_per_day_and_weekday['weekday'] = births_per_day_and_weekday['day_of_week'].map(dayOfWeek)"
   ]
  },
  {
   "cell_type": "code",
   "execution_count": 99,
   "id": "3ff38e7a",
   "metadata": {},
   "outputs": [
    {
     "data": {
      "text/html": [
       "<div>\n",
       "<style scoped>\n",
       "    .dataframe tbody tr th:only-of-type {\n",
       "        vertical-align: middle;\n",
       "    }\n",
       "\n",
       "    .dataframe tbody tr th {\n",
       "        vertical-align: top;\n",
       "    }\n",
       "\n",
       "    .dataframe thead th {\n",
       "        text-align: right;\n",
       "    }\n",
       "</style>\n",
       "<table border=\"1\" class=\"dataframe\">\n",
       "  <thead>\n",
       "    <tr style=\"text-align: right;\">\n",
       "      <th></th>\n",
       "      <th>percentage_6_20</th>\n",
       "      <th>percentage_total</th>\n",
       "      <th>percentage_6_20_day_of_week</th>\n",
       "      <th>percentage_total_day_of_week</th>\n",
       "    </tr>\n",
       "  </thead>\n",
       "  <tbody>\n",
       "    <tr>\n",
       "      <th>84</th>\n",
       "      <td>-8.221732</td>\n",
       "      <td>-6.416320</td>\n",
       "      <td>-3.149484</td>\n",
       "      <td>-9.148639</td>\n",
       "    </tr>\n",
       "    <tr>\n",
       "      <th>85</th>\n",
       "      <td>9.582226</td>\n",
       "      <td>11.737867</td>\n",
       "      <td>-1.995228</td>\n",
       "      <td>-2.615604</td>\n",
       "    </tr>\n",
       "    <tr>\n",
       "      <th>86</th>\n",
       "      <td>8.727476</td>\n",
       "      <td>10.866304</td>\n",
       "      <td>-3.026042</td>\n",
       "      <td>-1.645461</td>\n",
       "    </tr>\n",
       "    <tr>\n",
       "      <th>87</th>\n",
       "      <td>20.661262</td>\n",
       "      <td>23.034845</td>\n",
       "      <td>-3.345713</td>\n",
       "      <td>9.796099</td>\n",
       "    </tr>\n",
       "    <tr>\n",
       "      <th>88</th>\n",
       "      <td>0.125586</td>\n",
       "      <td>2.095202</td>\n",
       "      <td>-6.588223</td>\n",
       "      <td>-7.574131</td>\n",
       "    </tr>\n",
       "    <tr>\n",
       "      <th>89</th>\n",
       "      <td>-21.677959</td>\n",
       "      <td>-20.137250</td>\n",
       "      <td>-0.653633</td>\n",
       "      <td>2.467193</td>\n",
       "    </tr>\n",
       "    <tr>\n",
       "      <th>90</th>\n",
       "      <td>-30.175956</td>\n",
       "      <td>-28.802416</td>\n",
       "      <td>-0.875990</td>\n",
       "      <td>3.075324</td>\n",
       "    </tr>\n",
       "  </tbody>\n",
       "</table>\n",
       "</div>"
      ],
      "text/plain": [
       "    percentage_6_20  percentage_total  percentage_6_20_day_of_week  \\\n",
       "84        -8.221732         -6.416320                    -3.149484   \n",
       "85         9.582226         11.737867                    -1.995228   \n",
       "86         8.727476         10.866304                    -3.026042   \n",
       "87        20.661262         23.034845                    -3.345713   \n",
       "88         0.125586          2.095202                    -6.588223   \n",
       "89       -21.677959        -20.137250                    -0.653633   \n",
       "90       -30.175956        -28.802416                    -0.875990   \n",
       "\n",
       "    percentage_total_day_of_week  \n",
       "84                     -9.148639  \n",
       "85                     -2.615604  \n",
       "86                     -1.645461  \n",
       "87                      9.796099  \n",
       "88                     -7.574131  \n",
       "89                      2.467193  \n",
       "90                      3.075324  "
      ]
     },
     "execution_count": 99,
     "metadata": {},
     "output_type": "execute_result"
    }
   ],
   "source": [
    "#Seems better!\n",
    "births_per_day_and_weekday[births_per_day_and_weekday[\"date_of_month\"]==13][[\"percentage_6_20\",\"percentage_total\", \"percentage_6_20_day_of_week\", \"percentage_total_day_of_week\" ]]"
   ]
  },
  {
   "cell_type": "markdown",
   "id": "5c1b7341",
   "metadata": {},
   "source": [
    "Recreating the original plot, with only taking the births on the 6th and 20th into account. Looks fairly similar, but differs on Monday. This could be, because we did not exclude holidays in our visualization, as the authors just linked a list of holidays and used this arbitrary dates."
   ]
  },
  {
   "cell_type": "code",
   "execution_count": 100,
   "id": "368c8be8",
   "metadata": {},
   "outputs": [
    {
     "data": {
      "application/vnd.plotly.v1+json": {
       "config": {
        "plotlyServerURL": "https://plot.ly"
       },
       "data": [
        {
         "alignmentgroup": "True",
         "hovertemplate": " =%{x}<br>Difference in percent to avg 6th and 20th weekday=%{y}<extra></extra>",
         "legendgroup": "",
         "marker": {
          "color": "violet",
          "pattern": {
           "shape": ""
          }
         },
         "name": "",
         "offsetgroup": "",
         "orientation": "v",
         "showlegend": false,
         "textposition": "auto",
         "type": "bar",
         "x": [
          "Monday",
          "Tuesday",
          "Wednesday",
          "Thursday",
          "Friday",
          "Saturday",
          "Sunday"
         ],
         "xaxis": "x",
         "y": [
          -3.149484222125012,
          -1.99522828335129,
          -3.026041514327221,
          -3.345712667515936,
          -6.588223104000663,
          -0.6536331966906289,
          -0.8759896162455245
         ],
         "yaxis": "y"
        }
       ],
       "layout": {
        "annotations": [
         {
          "showarrow": false,
          "text": "Excluding holidays",
          "x": 0,
          "y": -6.5,
          "yshift": 10
         }
        ],
        "barmode": "relative",
        "legend": {
         "tracegroupgap": 0
        },
        "paper_bgcolor": "rgba(240,240,240,240)",
        "plot_bgcolor": "rgba(0,0,0,0)",
        "template": {
         "data": {
          "bar": [
           {
            "error_x": {
             "color": "#2a3f5f"
            },
            "error_y": {
             "color": "#2a3f5f"
            },
            "marker": {
             "line": {
              "color": "#E5ECF6",
              "width": 0.5
             },
             "pattern": {
              "fillmode": "overlay",
              "size": 10,
              "solidity": 0.2
             }
            },
            "type": "bar"
           }
          ],
          "barpolar": [
           {
            "marker": {
             "line": {
              "color": "#E5ECF6",
              "width": 0.5
             },
             "pattern": {
              "fillmode": "overlay",
              "size": 10,
              "solidity": 0.2
             }
            },
            "type": "barpolar"
           }
          ],
          "carpet": [
           {
            "aaxis": {
             "endlinecolor": "#2a3f5f",
             "gridcolor": "white",
             "linecolor": "white",
             "minorgridcolor": "white",
             "startlinecolor": "#2a3f5f"
            },
            "baxis": {
             "endlinecolor": "#2a3f5f",
             "gridcolor": "white",
             "linecolor": "white",
             "minorgridcolor": "white",
             "startlinecolor": "#2a3f5f"
            },
            "type": "carpet"
           }
          ],
          "choropleth": [
           {
            "colorbar": {
             "outlinewidth": 0,
             "ticks": ""
            },
            "type": "choropleth"
           }
          ],
          "contour": [
           {
            "colorbar": {
             "outlinewidth": 0,
             "ticks": ""
            },
            "colorscale": [
             [
              0,
              "#0d0887"
             ],
             [
              0.1111111111111111,
              "#46039f"
             ],
             [
              0.2222222222222222,
              "#7201a8"
             ],
             [
              0.3333333333333333,
              "#9c179e"
             ],
             [
              0.4444444444444444,
              "#bd3786"
             ],
             [
              0.5555555555555556,
              "#d8576b"
             ],
             [
              0.6666666666666666,
              "#ed7953"
             ],
             [
              0.7777777777777778,
              "#fb9f3a"
             ],
             [
              0.8888888888888888,
              "#fdca26"
             ],
             [
              1,
              "#f0f921"
             ]
            ],
            "type": "contour"
           }
          ],
          "contourcarpet": [
           {
            "colorbar": {
             "outlinewidth": 0,
             "ticks": ""
            },
            "type": "contourcarpet"
           }
          ],
          "heatmap": [
           {
            "colorbar": {
             "outlinewidth": 0,
             "ticks": ""
            },
            "colorscale": [
             [
              0,
              "#0d0887"
             ],
             [
              0.1111111111111111,
              "#46039f"
             ],
             [
              0.2222222222222222,
              "#7201a8"
             ],
             [
              0.3333333333333333,
              "#9c179e"
             ],
             [
              0.4444444444444444,
              "#bd3786"
             ],
             [
              0.5555555555555556,
              "#d8576b"
             ],
             [
              0.6666666666666666,
              "#ed7953"
             ],
             [
              0.7777777777777778,
              "#fb9f3a"
             ],
             [
              0.8888888888888888,
              "#fdca26"
             ],
             [
              1,
              "#f0f921"
             ]
            ],
            "type": "heatmap"
           }
          ],
          "heatmapgl": [
           {
            "colorbar": {
             "outlinewidth": 0,
             "ticks": ""
            },
            "colorscale": [
             [
              0,
              "#0d0887"
             ],
             [
              0.1111111111111111,
              "#46039f"
             ],
             [
              0.2222222222222222,
              "#7201a8"
             ],
             [
              0.3333333333333333,
              "#9c179e"
             ],
             [
              0.4444444444444444,
              "#bd3786"
             ],
             [
              0.5555555555555556,
              "#d8576b"
             ],
             [
              0.6666666666666666,
              "#ed7953"
             ],
             [
              0.7777777777777778,
              "#fb9f3a"
             ],
             [
              0.8888888888888888,
              "#fdca26"
             ],
             [
              1,
              "#f0f921"
             ]
            ],
            "type": "heatmapgl"
           }
          ],
          "histogram": [
           {
            "marker": {
             "pattern": {
              "fillmode": "overlay",
              "size": 10,
              "solidity": 0.2
             }
            },
            "type": "histogram"
           }
          ],
          "histogram2d": [
           {
            "colorbar": {
             "outlinewidth": 0,
             "ticks": ""
            },
            "colorscale": [
             [
              0,
              "#0d0887"
             ],
             [
              0.1111111111111111,
              "#46039f"
             ],
             [
              0.2222222222222222,
              "#7201a8"
             ],
             [
              0.3333333333333333,
              "#9c179e"
             ],
             [
              0.4444444444444444,
              "#bd3786"
             ],
             [
              0.5555555555555556,
              "#d8576b"
             ],
             [
              0.6666666666666666,
              "#ed7953"
             ],
             [
              0.7777777777777778,
              "#fb9f3a"
             ],
             [
              0.8888888888888888,
              "#fdca26"
             ],
             [
              1,
              "#f0f921"
             ]
            ],
            "type": "histogram2d"
           }
          ],
          "histogram2dcontour": [
           {
            "colorbar": {
             "outlinewidth": 0,
             "ticks": ""
            },
            "colorscale": [
             [
              0,
              "#0d0887"
             ],
             [
              0.1111111111111111,
              "#46039f"
             ],
             [
              0.2222222222222222,
              "#7201a8"
             ],
             [
              0.3333333333333333,
              "#9c179e"
             ],
             [
              0.4444444444444444,
              "#bd3786"
             ],
             [
              0.5555555555555556,
              "#d8576b"
             ],
             [
              0.6666666666666666,
              "#ed7953"
             ],
             [
              0.7777777777777778,
              "#fb9f3a"
             ],
             [
              0.8888888888888888,
              "#fdca26"
             ],
             [
              1,
              "#f0f921"
             ]
            ],
            "type": "histogram2dcontour"
           }
          ],
          "mesh3d": [
           {
            "colorbar": {
             "outlinewidth": 0,
             "ticks": ""
            },
            "type": "mesh3d"
           }
          ],
          "parcoords": [
           {
            "line": {
             "colorbar": {
              "outlinewidth": 0,
              "ticks": ""
             }
            },
            "type": "parcoords"
           }
          ],
          "pie": [
           {
            "automargin": true,
            "type": "pie"
           }
          ],
          "scatter": [
           {
            "fillpattern": {
             "fillmode": "overlay",
             "size": 10,
             "solidity": 0.2
            },
            "type": "scatter"
           }
          ],
          "scatter3d": [
           {
            "line": {
             "colorbar": {
              "outlinewidth": 0,
              "ticks": ""
             }
            },
            "marker": {
             "colorbar": {
              "outlinewidth": 0,
              "ticks": ""
             }
            },
            "type": "scatter3d"
           }
          ],
          "scattercarpet": [
           {
            "marker": {
             "colorbar": {
              "outlinewidth": 0,
              "ticks": ""
             }
            },
            "type": "scattercarpet"
           }
          ],
          "scattergeo": [
           {
            "marker": {
             "colorbar": {
              "outlinewidth": 0,
              "ticks": ""
             }
            },
            "type": "scattergeo"
           }
          ],
          "scattergl": [
           {
            "marker": {
             "colorbar": {
              "outlinewidth": 0,
              "ticks": ""
             }
            },
            "type": "scattergl"
           }
          ],
          "scattermapbox": [
           {
            "marker": {
             "colorbar": {
              "outlinewidth": 0,
              "ticks": ""
             }
            },
            "type": "scattermapbox"
           }
          ],
          "scatterpolar": [
           {
            "marker": {
             "colorbar": {
              "outlinewidth": 0,
              "ticks": ""
             }
            },
            "type": "scatterpolar"
           }
          ],
          "scatterpolargl": [
           {
            "marker": {
             "colorbar": {
              "outlinewidth": 0,
              "ticks": ""
             }
            },
            "type": "scatterpolargl"
           }
          ],
          "scatterternary": [
           {
            "marker": {
             "colorbar": {
              "outlinewidth": 0,
              "ticks": ""
             }
            },
            "type": "scatterternary"
           }
          ],
          "surface": [
           {
            "colorbar": {
             "outlinewidth": 0,
             "ticks": ""
            },
            "colorscale": [
             [
              0,
              "#0d0887"
             ],
             [
              0.1111111111111111,
              "#46039f"
             ],
             [
              0.2222222222222222,
              "#7201a8"
             ],
             [
              0.3333333333333333,
              "#9c179e"
             ],
             [
              0.4444444444444444,
              "#bd3786"
             ],
             [
              0.5555555555555556,
              "#d8576b"
             ],
             [
              0.6666666666666666,
              "#ed7953"
             ],
             [
              0.7777777777777778,
              "#fb9f3a"
             ],
             [
              0.8888888888888888,
              "#fdca26"
             ],
             [
              1,
              "#f0f921"
             ]
            ],
            "type": "surface"
           }
          ],
          "table": [
           {
            "cells": {
             "fill": {
              "color": "#EBF0F8"
             },
             "line": {
              "color": "white"
             }
            },
            "header": {
             "fill": {
              "color": "#C8D4E3"
             },
             "line": {
              "color": "white"
             }
            },
            "type": "table"
           }
          ]
         },
         "layout": {
          "annotationdefaults": {
           "arrowcolor": "#2a3f5f",
           "arrowhead": 0,
           "arrowwidth": 1
          },
          "autotypenumbers": "strict",
          "coloraxis": {
           "colorbar": {
            "outlinewidth": 0,
            "ticks": ""
           }
          },
          "colorscale": {
           "diverging": [
            [
             0,
             "#8e0152"
            ],
            [
             0.1,
             "#c51b7d"
            ],
            [
             0.2,
             "#de77ae"
            ],
            [
             0.3,
             "#f1b6da"
            ],
            [
             0.4,
             "#fde0ef"
            ],
            [
             0.5,
             "#f7f7f7"
            ],
            [
             0.6,
             "#e6f5d0"
            ],
            [
             0.7,
             "#b8e186"
            ],
            [
             0.8,
             "#7fbc41"
            ],
            [
             0.9,
             "#4d9221"
            ],
            [
             1,
             "#276419"
            ]
           ],
           "sequential": [
            [
             0,
             "#0d0887"
            ],
            [
             0.1111111111111111,
             "#46039f"
            ],
            [
             0.2222222222222222,
             "#7201a8"
            ],
            [
             0.3333333333333333,
             "#9c179e"
            ],
            [
             0.4444444444444444,
             "#bd3786"
            ],
            [
             0.5555555555555556,
             "#d8576b"
            ],
            [
             0.6666666666666666,
             "#ed7953"
            ],
            [
             0.7777777777777778,
             "#fb9f3a"
            ],
            [
             0.8888888888888888,
             "#fdca26"
            ],
            [
             1,
             "#f0f921"
            ]
           ],
           "sequentialminus": [
            [
             0,
             "#0d0887"
            ],
            [
             0.1111111111111111,
             "#46039f"
            ],
            [
             0.2222222222222222,
             "#7201a8"
            ],
            [
             0.3333333333333333,
             "#9c179e"
            ],
            [
             0.4444444444444444,
             "#bd3786"
            ],
            [
             0.5555555555555556,
             "#d8576b"
            ],
            [
             0.6666666666666666,
             "#ed7953"
            ],
            [
             0.7777777777777778,
             "#fb9f3a"
            ],
            [
             0.8888888888888888,
             "#fdca26"
            ],
            [
             1,
             "#f0f921"
            ]
           ]
          },
          "colorway": [
           "#636efa",
           "#EF553B",
           "#00cc96",
           "#ab63fa",
           "#FFA15A",
           "#19d3f3",
           "#FF6692",
           "#B6E880",
           "#FF97FF",
           "#FECB52"
          ],
          "font": {
           "color": "#2a3f5f"
          },
          "geo": {
           "bgcolor": "white",
           "lakecolor": "white",
           "landcolor": "#E5ECF6",
           "showlakes": true,
           "showland": true,
           "subunitcolor": "white"
          },
          "hoverlabel": {
           "align": "left"
          },
          "hovermode": "closest",
          "mapbox": {
           "style": "light"
          },
          "paper_bgcolor": "white",
          "plot_bgcolor": "#E5ECF6",
          "polar": {
           "angularaxis": {
            "gridcolor": "white",
            "linecolor": "white",
            "ticks": ""
           },
           "bgcolor": "#E5ECF6",
           "radialaxis": {
            "gridcolor": "white",
            "linecolor": "white",
            "ticks": ""
           }
          },
          "scene": {
           "xaxis": {
            "backgroundcolor": "#E5ECF6",
            "gridcolor": "white",
            "gridwidth": 2,
            "linecolor": "white",
            "showbackground": true,
            "ticks": "",
            "zerolinecolor": "white"
           },
           "yaxis": {
            "backgroundcolor": "#E5ECF6",
            "gridcolor": "white",
            "gridwidth": 2,
            "linecolor": "white",
            "showbackground": true,
            "ticks": "",
            "zerolinecolor": "white"
           },
           "zaxis": {
            "backgroundcolor": "#E5ECF6",
            "gridcolor": "white",
            "gridwidth": 2,
            "linecolor": "white",
            "showbackground": true,
            "ticks": "",
            "zerolinecolor": "white"
           }
          },
          "shapedefaults": {
           "line": {
            "color": "#2a3f5f"
           }
          },
          "ternary": {
           "aaxis": {
            "gridcolor": "white",
            "linecolor": "white",
            "ticks": ""
           },
           "baxis": {
            "gridcolor": "white",
            "linecolor": "white",
            "ticks": ""
           },
           "bgcolor": "#E5ECF6",
           "caxis": {
            "gridcolor": "white",
            "linecolor": "white",
            "ticks": ""
           }
          },
          "title": {
           "x": 0.05
          },
          "xaxis": {
           "automargin": true,
           "gridcolor": "white",
           "linecolor": "white",
           "ticks": "",
           "title": {
            "standoff": 15
           },
           "zerolinecolor": "white",
           "zerolinewidth": 2
          },
          "yaxis": {
           "automargin": true,
           "gridcolor": "white",
           "linecolor": "white",
           "ticks": "",
           "title": {
            "standoff": 15
           },
           "zerolinecolor": "white",
           "zerolinewidth": 2
          }
         }
        },
        "title": {
         "text": "The Friday the 13th effect<br> <sub>Difference in the share of U.S. births on the 13th of each month <br> from the average of births per weekday on the 6th and the 20th, 1994-2014</sub>",
         "x": 0.5
        },
        "xaxis": {
         "anchor": "y",
         "domain": [
          0,
          1
         ],
         "gridcolor": "#D2D2D2",
         "showgrid": true,
         "side": "top",
         "title": {
          "standoff": 100,
          "text": " "
         }
        },
        "yaxis": {
         "anchor": "x",
         "domain": [
          0,
          1
         ],
         "gridcolor": "#D2D2D2",
         "showgrid": true,
         "title": {
          "text": "Difference in percent to avg 6th and 20th weekday"
         }
        }
       }
      },
      "text/html": [
       "<div>                            <div id=\"70809e40-96dd-4159-8524-94e0fda08196\" class=\"plotly-graph-div\" style=\"height:525px; width:100%;\"></div>            <script type=\"text/javascript\">                require([\"plotly\"], function(Plotly) {                    window.PLOTLYENV=window.PLOTLYENV || {};                                    if (document.getElementById(\"70809e40-96dd-4159-8524-94e0fda08196\")) {                    Plotly.newPlot(                        \"70809e40-96dd-4159-8524-94e0fda08196\",                        [{\"alignmentgroup\":\"True\",\"hovertemplate\":\" =%{x}<br>Difference in percent to avg 6th and 20th weekday=%{y}<extra></extra>\",\"legendgroup\":\"\",\"marker\":{\"color\":\"violet\",\"pattern\":{\"shape\":\"\"}},\"name\":\"\",\"offsetgroup\":\"\",\"orientation\":\"v\",\"showlegend\":false,\"textposition\":\"auto\",\"x\":[\"Monday\",\"Tuesday\",\"Wednesday\",\"Thursday\",\"Friday\",\"Saturday\",\"Sunday\"],\"xaxis\":\"x\",\"y\":[-3.149484222125012,-1.99522828335129,-3.026041514327221,-3.345712667515936,-6.588223104000663,-0.6536331966906289,-0.8759896162455245],\"yaxis\":\"y\",\"type\":\"bar\"}],                        {\"template\":{\"data\":{\"histogram2dcontour\":[{\"type\":\"histogram2dcontour\",\"colorbar\":{\"outlinewidth\":0,\"ticks\":\"\"},\"colorscale\":[[0.0,\"#0d0887\"],[0.1111111111111111,\"#46039f\"],[0.2222222222222222,\"#7201a8\"],[0.3333333333333333,\"#9c179e\"],[0.4444444444444444,\"#bd3786\"],[0.5555555555555556,\"#d8576b\"],[0.6666666666666666,\"#ed7953\"],[0.7777777777777778,\"#fb9f3a\"],[0.8888888888888888,\"#fdca26\"],[1.0,\"#f0f921\"]]}],\"choropleth\":[{\"type\":\"choropleth\",\"colorbar\":{\"outlinewidth\":0,\"ticks\":\"\"}}],\"histogram2d\":[{\"type\":\"histogram2d\",\"colorbar\":{\"outlinewidth\":0,\"ticks\":\"\"},\"colorscale\":[[0.0,\"#0d0887\"],[0.1111111111111111,\"#46039f\"],[0.2222222222222222,\"#7201a8\"],[0.3333333333333333,\"#9c179e\"],[0.4444444444444444,\"#bd3786\"],[0.5555555555555556,\"#d8576b\"],[0.6666666666666666,\"#ed7953\"],[0.7777777777777778,\"#fb9f3a\"],[0.8888888888888888,\"#fdca26\"],[1.0,\"#f0f921\"]]}],\"heatmap\":[{\"type\":\"heatmap\",\"colorbar\":{\"outlinewidth\":0,\"ticks\":\"\"},\"colorscale\":[[0.0,\"#0d0887\"],[0.1111111111111111,\"#46039f\"],[0.2222222222222222,\"#7201a8\"],[0.3333333333333333,\"#9c179e\"],[0.4444444444444444,\"#bd3786\"],[0.5555555555555556,\"#d8576b\"],[0.6666666666666666,\"#ed7953\"],[0.7777777777777778,\"#fb9f3a\"],[0.8888888888888888,\"#fdca26\"],[1.0,\"#f0f921\"]]}],\"heatmapgl\":[{\"type\":\"heatmapgl\",\"colorbar\":{\"outlinewidth\":0,\"ticks\":\"\"},\"colorscale\":[[0.0,\"#0d0887\"],[0.1111111111111111,\"#46039f\"],[0.2222222222222222,\"#7201a8\"],[0.3333333333333333,\"#9c179e\"],[0.4444444444444444,\"#bd3786\"],[0.5555555555555556,\"#d8576b\"],[0.6666666666666666,\"#ed7953\"],[0.7777777777777778,\"#fb9f3a\"],[0.8888888888888888,\"#fdca26\"],[1.0,\"#f0f921\"]]}],\"contourcarpet\":[{\"type\":\"contourcarpet\",\"colorbar\":{\"outlinewidth\":0,\"ticks\":\"\"}}],\"contour\":[{\"type\":\"contour\",\"colorbar\":{\"outlinewidth\":0,\"ticks\":\"\"},\"colorscale\":[[0.0,\"#0d0887\"],[0.1111111111111111,\"#46039f\"],[0.2222222222222222,\"#7201a8\"],[0.3333333333333333,\"#9c179e\"],[0.4444444444444444,\"#bd3786\"],[0.5555555555555556,\"#d8576b\"],[0.6666666666666666,\"#ed7953\"],[0.7777777777777778,\"#fb9f3a\"],[0.8888888888888888,\"#fdca26\"],[1.0,\"#f0f921\"]]}],\"surface\":[{\"type\":\"surface\",\"colorbar\":{\"outlinewidth\":0,\"ticks\":\"\"},\"colorscale\":[[0.0,\"#0d0887\"],[0.1111111111111111,\"#46039f\"],[0.2222222222222222,\"#7201a8\"],[0.3333333333333333,\"#9c179e\"],[0.4444444444444444,\"#bd3786\"],[0.5555555555555556,\"#d8576b\"],[0.6666666666666666,\"#ed7953\"],[0.7777777777777778,\"#fb9f3a\"],[0.8888888888888888,\"#fdca26\"],[1.0,\"#f0f921\"]]}],\"mesh3d\":[{\"type\":\"mesh3d\",\"colorbar\":{\"outlinewidth\":0,\"ticks\":\"\"}}],\"scatter\":[{\"fillpattern\":{\"fillmode\":\"overlay\",\"size\":10,\"solidity\":0.2},\"type\":\"scatter\"}],\"parcoords\":[{\"type\":\"parcoords\",\"line\":{\"colorbar\":{\"outlinewidth\":0,\"ticks\":\"\"}}}],\"scatterpolargl\":[{\"type\":\"scatterpolargl\",\"marker\":{\"colorbar\":{\"outlinewidth\":0,\"ticks\":\"\"}}}],\"bar\":[{\"error_x\":{\"color\":\"#2a3f5f\"},\"error_y\":{\"color\":\"#2a3f5f\"},\"marker\":{\"line\":{\"color\":\"#E5ECF6\",\"width\":0.5},\"pattern\":{\"fillmode\":\"overlay\",\"size\":10,\"solidity\":0.2}},\"type\":\"bar\"}],\"scattergeo\":[{\"type\":\"scattergeo\",\"marker\":{\"colorbar\":{\"outlinewidth\":0,\"ticks\":\"\"}}}],\"scatterpolar\":[{\"type\":\"scatterpolar\",\"marker\":{\"colorbar\":{\"outlinewidth\":0,\"ticks\":\"\"}}}],\"histogram\":[{\"marker\":{\"pattern\":{\"fillmode\":\"overlay\",\"size\":10,\"solidity\":0.2}},\"type\":\"histogram\"}],\"scattergl\":[{\"type\":\"scattergl\",\"marker\":{\"colorbar\":{\"outlinewidth\":0,\"ticks\":\"\"}}}],\"scatter3d\":[{\"type\":\"scatter3d\",\"line\":{\"colorbar\":{\"outlinewidth\":0,\"ticks\":\"\"}},\"marker\":{\"colorbar\":{\"outlinewidth\":0,\"ticks\":\"\"}}}],\"scattermapbox\":[{\"type\":\"scattermapbox\",\"marker\":{\"colorbar\":{\"outlinewidth\":0,\"ticks\":\"\"}}}],\"scatterternary\":[{\"type\":\"scatterternary\",\"marker\":{\"colorbar\":{\"outlinewidth\":0,\"ticks\":\"\"}}}],\"scattercarpet\":[{\"type\":\"scattercarpet\",\"marker\":{\"colorbar\":{\"outlinewidth\":0,\"ticks\":\"\"}}}],\"carpet\":[{\"aaxis\":{\"endlinecolor\":\"#2a3f5f\",\"gridcolor\":\"white\",\"linecolor\":\"white\",\"minorgridcolor\":\"white\",\"startlinecolor\":\"#2a3f5f\"},\"baxis\":{\"endlinecolor\":\"#2a3f5f\",\"gridcolor\":\"white\",\"linecolor\":\"white\",\"minorgridcolor\":\"white\",\"startlinecolor\":\"#2a3f5f\"},\"type\":\"carpet\"}],\"table\":[{\"cells\":{\"fill\":{\"color\":\"#EBF0F8\"},\"line\":{\"color\":\"white\"}},\"header\":{\"fill\":{\"color\":\"#C8D4E3\"},\"line\":{\"color\":\"white\"}},\"type\":\"table\"}],\"barpolar\":[{\"marker\":{\"line\":{\"color\":\"#E5ECF6\",\"width\":0.5},\"pattern\":{\"fillmode\":\"overlay\",\"size\":10,\"solidity\":0.2}},\"type\":\"barpolar\"}],\"pie\":[{\"automargin\":true,\"type\":\"pie\"}]},\"layout\":{\"autotypenumbers\":\"strict\",\"colorway\":[\"#636efa\",\"#EF553B\",\"#00cc96\",\"#ab63fa\",\"#FFA15A\",\"#19d3f3\",\"#FF6692\",\"#B6E880\",\"#FF97FF\",\"#FECB52\"],\"font\":{\"color\":\"#2a3f5f\"},\"hovermode\":\"closest\",\"hoverlabel\":{\"align\":\"left\"},\"paper_bgcolor\":\"white\",\"plot_bgcolor\":\"#E5ECF6\",\"polar\":{\"bgcolor\":\"#E5ECF6\",\"angularaxis\":{\"gridcolor\":\"white\",\"linecolor\":\"white\",\"ticks\":\"\"},\"radialaxis\":{\"gridcolor\":\"white\",\"linecolor\":\"white\",\"ticks\":\"\"}},\"ternary\":{\"bgcolor\":\"#E5ECF6\",\"aaxis\":{\"gridcolor\":\"white\",\"linecolor\":\"white\",\"ticks\":\"\"},\"baxis\":{\"gridcolor\":\"white\",\"linecolor\":\"white\",\"ticks\":\"\"},\"caxis\":{\"gridcolor\":\"white\",\"linecolor\":\"white\",\"ticks\":\"\"}},\"coloraxis\":{\"colorbar\":{\"outlinewidth\":0,\"ticks\":\"\"}},\"colorscale\":{\"sequential\":[[0.0,\"#0d0887\"],[0.1111111111111111,\"#46039f\"],[0.2222222222222222,\"#7201a8\"],[0.3333333333333333,\"#9c179e\"],[0.4444444444444444,\"#bd3786\"],[0.5555555555555556,\"#d8576b\"],[0.6666666666666666,\"#ed7953\"],[0.7777777777777778,\"#fb9f3a\"],[0.8888888888888888,\"#fdca26\"],[1.0,\"#f0f921\"]],\"sequentialminus\":[[0.0,\"#0d0887\"],[0.1111111111111111,\"#46039f\"],[0.2222222222222222,\"#7201a8\"],[0.3333333333333333,\"#9c179e\"],[0.4444444444444444,\"#bd3786\"],[0.5555555555555556,\"#d8576b\"],[0.6666666666666666,\"#ed7953\"],[0.7777777777777778,\"#fb9f3a\"],[0.8888888888888888,\"#fdca26\"],[1.0,\"#f0f921\"]],\"diverging\":[[0,\"#8e0152\"],[0.1,\"#c51b7d\"],[0.2,\"#de77ae\"],[0.3,\"#f1b6da\"],[0.4,\"#fde0ef\"],[0.5,\"#f7f7f7\"],[0.6,\"#e6f5d0\"],[0.7,\"#b8e186\"],[0.8,\"#7fbc41\"],[0.9,\"#4d9221\"],[1,\"#276419\"]]},\"xaxis\":{\"gridcolor\":\"white\",\"linecolor\":\"white\",\"ticks\":\"\",\"title\":{\"standoff\":15},\"zerolinecolor\":\"white\",\"automargin\":true,\"zerolinewidth\":2},\"yaxis\":{\"gridcolor\":\"white\",\"linecolor\":\"white\",\"ticks\":\"\",\"title\":{\"standoff\":15},\"zerolinecolor\":\"white\",\"automargin\":true,\"zerolinewidth\":2},\"scene\":{\"xaxis\":{\"backgroundcolor\":\"#E5ECF6\",\"gridcolor\":\"white\",\"linecolor\":\"white\",\"showbackground\":true,\"ticks\":\"\",\"zerolinecolor\":\"white\",\"gridwidth\":2},\"yaxis\":{\"backgroundcolor\":\"#E5ECF6\",\"gridcolor\":\"white\",\"linecolor\":\"white\",\"showbackground\":true,\"ticks\":\"\",\"zerolinecolor\":\"white\",\"gridwidth\":2},\"zaxis\":{\"backgroundcolor\":\"#E5ECF6\",\"gridcolor\":\"white\",\"linecolor\":\"white\",\"showbackground\":true,\"ticks\":\"\",\"zerolinecolor\":\"white\",\"gridwidth\":2}},\"shapedefaults\":{\"line\":{\"color\":\"#2a3f5f\"}},\"annotationdefaults\":{\"arrowcolor\":\"#2a3f5f\",\"arrowhead\":0,\"arrowwidth\":1},\"geo\":{\"bgcolor\":\"white\",\"landcolor\":\"#E5ECF6\",\"subunitcolor\":\"white\",\"showland\":true,\"showlakes\":true,\"lakecolor\":\"white\"},\"title\":{\"x\":0.05},\"mapbox\":{\"style\":\"light\"}}},\"xaxis\":{\"anchor\":\"y\",\"domain\":[0.0,1.0],\"title\":{\"text\":\" \",\"standoff\":100},\"showgrid\":true,\"side\":\"top\",\"gridcolor\":\"#D2D2D2\"},\"yaxis\":{\"anchor\":\"x\",\"domain\":[0.0,1.0],\"title\":{\"text\":\"Difference in percent to avg 6th and 20th weekday\"},\"showgrid\":true,\"gridcolor\":\"#D2D2D2\"},\"legend\":{\"tracegroupgap\":0},\"title\":{\"text\":\"The Friday the 13th effect<br> <sub>Difference in the share of U.S. births on the 13th of each month <br> from the average of births per weekday on the 6th and the 20th, 1994-2014</sub>\",\"x\":0.5},\"barmode\":\"relative\",\"paper_bgcolor\":\"rgba(240,240,240,240)\",\"plot_bgcolor\":\"rgba(0,0,0,0)\",\"annotations\":[{\"showarrow\":false,\"text\":\"Excluding holidays\",\"x\":0,\"y\":-6.5,\"yshift\":10}]},                        {\"responsive\": true}                    ).then(function(){\n",
       "                            \n",
       "var gd = document.getElementById('70809e40-96dd-4159-8524-94e0fda08196');\n",
       "var x = new MutationObserver(function (mutations, observer) {{\n",
       "        var display = window.getComputedStyle(gd).display;\n",
       "        if (!display || display === 'none') {{\n",
       "            console.log([gd, 'removed!']);\n",
       "            Plotly.purge(gd);\n",
       "            observer.disconnect();\n",
       "        }}\n",
       "}});\n",
       "\n",
       "// Listen for the removal of the full notebook cells\n",
       "var notebookContainer = gd.closest('#notebook-container');\n",
       "if (notebookContainer) {{\n",
       "    x.observe(notebookContainer, {childList: true});\n",
       "}}\n",
       "\n",
       "// Listen for the clearing of the current output cell\n",
       "var outputEl = gd.closest('.output');\n",
       "if (outputEl) {{\n",
       "    x.observe(outputEl, {childList: true});\n",
       "}}\n",
       "\n",
       "                        })                };                });            </script>        </div>"
      ]
     },
     "metadata": {},
     "output_type": "display_data"
    }
   ],
   "source": [
    "fig = px.bar(births_per_day_and_weekday[births_per_day_and_weekday[\"date_of_month\"]==13], \n",
    "             x='weekday', \n",
    "             y='percentage_6_20_day_of_week', \n",
    "             title=\"The Friday the 13th effect<br> <sub>Difference in the share of U.S. births on the 13th of each month <br> from the average of births per weekday on the 6th and the 20th, 1994-2014</sub>\",\n",
    "                labels=dict(weekday=\" \", percentage_6_20_day_of_week=\"Difference in percent to avg 6th and 20th weekday\"),\n",
    "             color_discrete_sequence=[\"violet\"],)\n",
    "fig.update_layout(title_x=0.5, paper_bgcolor='rgba(240,240,240,240)',\n",
    "    plot_bgcolor='rgba(0,0,0,0)')\n",
    "fig.update_xaxes(showgrid=True, side=\"top\", title_standoff=100, gridcolor=\"#D2D2D2\")\n",
    "fig.update_yaxes(showgrid=True, gridcolor=\"#D2D2D2\")\n",
    "fig.add_annotation(x=0, y=-6.5,\n",
    "            text=\"Excluding holidays\",\n",
    "            showarrow=False,\n",
    "            yshift=10)\n",
    "fig.show()"
   ]
  },
  {
   "cell_type": "markdown",
   "id": "d6591544",
   "metadata": {},
   "source": [
    "Therefore, we created a plot, that takes all weekdays into account, and not just the 6th and 20th and we can see that the values differ significantly"
   ]
  },
  {
   "cell_type": "code",
   "execution_count": 101,
   "id": "9f62034f",
   "metadata": {},
   "outputs": [
    {
     "data": {
      "application/vnd.plotly.v1+json": {
       "config": {
        "plotlyServerURL": "https://plot.ly"
       },
       "data": [
        {
         "alignmentgroup": "True",
         "hovertemplate": " =%{x}<br>Difference in percent to avg weekday=%{y}<extra></extra>",
         "legendgroup": "",
         "marker": {
          "color": "violet",
          "pattern": {
           "shape": ""
          }
         },
         "name": "",
         "offsetgroup": "",
         "orientation": "v",
         "showlegend": false,
         "textposition": "auto",
         "type": "bar",
         "x": [
          "Monday",
          "Tuesday",
          "Wednesday",
          "Thursday",
          "Friday",
          "Saturday",
          "Sunday"
         ],
         "xaxis": "x",
         "y": [
          -9.148638618216012,
          -2.6156042207426142,
          -1.6454611977367664,
          9.796099250955406,
          -7.574131016006221,
          2.4671933233643446,
          3.075324323999049
         ],
         "yaxis": "y"
        }
       ],
       "layout": {
        "barmode": "relative",
        "legend": {
         "tracegroupgap": 0
        },
        "paper_bgcolor": "rgba(240,240,240,240)",
        "plot_bgcolor": "rgba(0,0,0,0)",
        "template": {
         "data": {
          "bar": [
           {
            "error_x": {
             "color": "#2a3f5f"
            },
            "error_y": {
             "color": "#2a3f5f"
            },
            "marker": {
             "line": {
              "color": "#E5ECF6",
              "width": 0.5
             },
             "pattern": {
              "fillmode": "overlay",
              "size": 10,
              "solidity": 0.2
             }
            },
            "type": "bar"
           }
          ],
          "barpolar": [
           {
            "marker": {
             "line": {
              "color": "#E5ECF6",
              "width": 0.5
             },
             "pattern": {
              "fillmode": "overlay",
              "size": 10,
              "solidity": 0.2
             }
            },
            "type": "barpolar"
           }
          ],
          "carpet": [
           {
            "aaxis": {
             "endlinecolor": "#2a3f5f",
             "gridcolor": "white",
             "linecolor": "white",
             "minorgridcolor": "white",
             "startlinecolor": "#2a3f5f"
            },
            "baxis": {
             "endlinecolor": "#2a3f5f",
             "gridcolor": "white",
             "linecolor": "white",
             "minorgridcolor": "white",
             "startlinecolor": "#2a3f5f"
            },
            "type": "carpet"
           }
          ],
          "choropleth": [
           {
            "colorbar": {
             "outlinewidth": 0,
             "ticks": ""
            },
            "type": "choropleth"
           }
          ],
          "contour": [
           {
            "colorbar": {
             "outlinewidth": 0,
             "ticks": ""
            },
            "colorscale": [
             [
              0,
              "#0d0887"
             ],
             [
              0.1111111111111111,
              "#46039f"
             ],
             [
              0.2222222222222222,
              "#7201a8"
             ],
             [
              0.3333333333333333,
              "#9c179e"
             ],
             [
              0.4444444444444444,
              "#bd3786"
             ],
             [
              0.5555555555555556,
              "#d8576b"
             ],
             [
              0.6666666666666666,
              "#ed7953"
             ],
             [
              0.7777777777777778,
              "#fb9f3a"
             ],
             [
              0.8888888888888888,
              "#fdca26"
             ],
             [
              1,
              "#f0f921"
             ]
            ],
            "type": "contour"
           }
          ],
          "contourcarpet": [
           {
            "colorbar": {
             "outlinewidth": 0,
             "ticks": ""
            },
            "type": "contourcarpet"
           }
          ],
          "heatmap": [
           {
            "colorbar": {
             "outlinewidth": 0,
             "ticks": ""
            },
            "colorscale": [
             [
              0,
              "#0d0887"
             ],
             [
              0.1111111111111111,
              "#46039f"
             ],
             [
              0.2222222222222222,
              "#7201a8"
             ],
             [
              0.3333333333333333,
              "#9c179e"
             ],
             [
              0.4444444444444444,
              "#bd3786"
             ],
             [
              0.5555555555555556,
              "#d8576b"
             ],
             [
              0.6666666666666666,
              "#ed7953"
             ],
             [
              0.7777777777777778,
              "#fb9f3a"
             ],
             [
              0.8888888888888888,
              "#fdca26"
             ],
             [
              1,
              "#f0f921"
             ]
            ],
            "type": "heatmap"
           }
          ],
          "heatmapgl": [
           {
            "colorbar": {
             "outlinewidth": 0,
             "ticks": ""
            },
            "colorscale": [
             [
              0,
              "#0d0887"
             ],
             [
              0.1111111111111111,
              "#46039f"
             ],
             [
              0.2222222222222222,
              "#7201a8"
             ],
             [
              0.3333333333333333,
              "#9c179e"
             ],
             [
              0.4444444444444444,
              "#bd3786"
             ],
             [
              0.5555555555555556,
              "#d8576b"
             ],
             [
              0.6666666666666666,
              "#ed7953"
             ],
             [
              0.7777777777777778,
              "#fb9f3a"
             ],
             [
              0.8888888888888888,
              "#fdca26"
             ],
             [
              1,
              "#f0f921"
             ]
            ],
            "type": "heatmapgl"
           }
          ],
          "histogram": [
           {
            "marker": {
             "pattern": {
              "fillmode": "overlay",
              "size": 10,
              "solidity": 0.2
             }
            },
            "type": "histogram"
           }
          ],
          "histogram2d": [
           {
            "colorbar": {
             "outlinewidth": 0,
             "ticks": ""
            },
            "colorscale": [
             [
              0,
              "#0d0887"
             ],
             [
              0.1111111111111111,
              "#46039f"
             ],
             [
              0.2222222222222222,
              "#7201a8"
             ],
             [
              0.3333333333333333,
              "#9c179e"
             ],
             [
              0.4444444444444444,
              "#bd3786"
             ],
             [
              0.5555555555555556,
              "#d8576b"
             ],
             [
              0.6666666666666666,
              "#ed7953"
             ],
             [
              0.7777777777777778,
              "#fb9f3a"
             ],
             [
              0.8888888888888888,
              "#fdca26"
             ],
             [
              1,
              "#f0f921"
             ]
            ],
            "type": "histogram2d"
           }
          ],
          "histogram2dcontour": [
           {
            "colorbar": {
             "outlinewidth": 0,
             "ticks": ""
            },
            "colorscale": [
             [
              0,
              "#0d0887"
             ],
             [
              0.1111111111111111,
              "#46039f"
             ],
             [
              0.2222222222222222,
              "#7201a8"
             ],
             [
              0.3333333333333333,
              "#9c179e"
             ],
             [
              0.4444444444444444,
              "#bd3786"
             ],
             [
              0.5555555555555556,
              "#d8576b"
             ],
             [
              0.6666666666666666,
              "#ed7953"
             ],
             [
              0.7777777777777778,
              "#fb9f3a"
             ],
             [
              0.8888888888888888,
              "#fdca26"
             ],
             [
              1,
              "#f0f921"
             ]
            ],
            "type": "histogram2dcontour"
           }
          ],
          "mesh3d": [
           {
            "colorbar": {
             "outlinewidth": 0,
             "ticks": ""
            },
            "type": "mesh3d"
           }
          ],
          "parcoords": [
           {
            "line": {
             "colorbar": {
              "outlinewidth": 0,
              "ticks": ""
             }
            },
            "type": "parcoords"
           }
          ],
          "pie": [
           {
            "automargin": true,
            "type": "pie"
           }
          ],
          "scatter": [
           {
            "fillpattern": {
             "fillmode": "overlay",
             "size": 10,
             "solidity": 0.2
            },
            "type": "scatter"
           }
          ],
          "scatter3d": [
           {
            "line": {
             "colorbar": {
              "outlinewidth": 0,
              "ticks": ""
             }
            },
            "marker": {
             "colorbar": {
              "outlinewidth": 0,
              "ticks": ""
             }
            },
            "type": "scatter3d"
           }
          ],
          "scattercarpet": [
           {
            "marker": {
             "colorbar": {
              "outlinewidth": 0,
              "ticks": ""
             }
            },
            "type": "scattercarpet"
           }
          ],
          "scattergeo": [
           {
            "marker": {
             "colorbar": {
              "outlinewidth": 0,
              "ticks": ""
             }
            },
            "type": "scattergeo"
           }
          ],
          "scattergl": [
           {
            "marker": {
             "colorbar": {
              "outlinewidth": 0,
              "ticks": ""
             }
            },
            "type": "scattergl"
           }
          ],
          "scattermapbox": [
           {
            "marker": {
             "colorbar": {
              "outlinewidth": 0,
              "ticks": ""
             }
            },
            "type": "scattermapbox"
           }
          ],
          "scatterpolar": [
           {
            "marker": {
             "colorbar": {
              "outlinewidth": 0,
              "ticks": ""
             }
            },
            "type": "scatterpolar"
           }
          ],
          "scatterpolargl": [
           {
            "marker": {
             "colorbar": {
              "outlinewidth": 0,
              "ticks": ""
             }
            },
            "type": "scatterpolargl"
           }
          ],
          "scatterternary": [
           {
            "marker": {
             "colorbar": {
              "outlinewidth": 0,
              "ticks": ""
             }
            },
            "type": "scatterternary"
           }
          ],
          "surface": [
           {
            "colorbar": {
             "outlinewidth": 0,
             "ticks": ""
            },
            "colorscale": [
             [
              0,
              "#0d0887"
             ],
             [
              0.1111111111111111,
              "#46039f"
             ],
             [
              0.2222222222222222,
              "#7201a8"
             ],
             [
              0.3333333333333333,
              "#9c179e"
             ],
             [
              0.4444444444444444,
              "#bd3786"
             ],
             [
              0.5555555555555556,
              "#d8576b"
             ],
             [
              0.6666666666666666,
              "#ed7953"
             ],
             [
              0.7777777777777778,
              "#fb9f3a"
             ],
             [
              0.8888888888888888,
              "#fdca26"
             ],
             [
              1,
              "#f0f921"
             ]
            ],
            "type": "surface"
           }
          ],
          "table": [
           {
            "cells": {
             "fill": {
              "color": "#EBF0F8"
             },
             "line": {
              "color": "white"
             }
            },
            "header": {
             "fill": {
              "color": "#C8D4E3"
             },
             "line": {
              "color": "white"
             }
            },
            "type": "table"
           }
          ]
         },
         "layout": {
          "annotationdefaults": {
           "arrowcolor": "#2a3f5f",
           "arrowhead": 0,
           "arrowwidth": 1
          },
          "autotypenumbers": "strict",
          "coloraxis": {
           "colorbar": {
            "outlinewidth": 0,
            "ticks": ""
           }
          },
          "colorscale": {
           "diverging": [
            [
             0,
             "#8e0152"
            ],
            [
             0.1,
             "#c51b7d"
            ],
            [
             0.2,
             "#de77ae"
            ],
            [
             0.3,
             "#f1b6da"
            ],
            [
             0.4,
             "#fde0ef"
            ],
            [
             0.5,
             "#f7f7f7"
            ],
            [
             0.6,
             "#e6f5d0"
            ],
            [
             0.7,
             "#b8e186"
            ],
            [
             0.8,
             "#7fbc41"
            ],
            [
             0.9,
             "#4d9221"
            ],
            [
             1,
             "#276419"
            ]
           ],
           "sequential": [
            [
             0,
             "#0d0887"
            ],
            [
             0.1111111111111111,
             "#46039f"
            ],
            [
             0.2222222222222222,
             "#7201a8"
            ],
            [
             0.3333333333333333,
             "#9c179e"
            ],
            [
             0.4444444444444444,
             "#bd3786"
            ],
            [
             0.5555555555555556,
             "#d8576b"
            ],
            [
             0.6666666666666666,
             "#ed7953"
            ],
            [
             0.7777777777777778,
             "#fb9f3a"
            ],
            [
             0.8888888888888888,
             "#fdca26"
            ],
            [
             1,
             "#f0f921"
            ]
           ],
           "sequentialminus": [
            [
             0,
             "#0d0887"
            ],
            [
             0.1111111111111111,
             "#46039f"
            ],
            [
             0.2222222222222222,
             "#7201a8"
            ],
            [
             0.3333333333333333,
             "#9c179e"
            ],
            [
             0.4444444444444444,
             "#bd3786"
            ],
            [
             0.5555555555555556,
             "#d8576b"
            ],
            [
             0.6666666666666666,
             "#ed7953"
            ],
            [
             0.7777777777777778,
             "#fb9f3a"
            ],
            [
             0.8888888888888888,
             "#fdca26"
            ],
            [
             1,
             "#f0f921"
            ]
           ]
          },
          "colorway": [
           "#636efa",
           "#EF553B",
           "#00cc96",
           "#ab63fa",
           "#FFA15A",
           "#19d3f3",
           "#FF6692",
           "#B6E880",
           "#FF97FF",
           "#FECB52"
          ],
          "font": {
           "color": "#2a3f5f"
          },
          "geo": {
           "bgcolor": "white",
           "lakecolor": "white",
           "landcolor": "#E5ECF6",
           "showlakes": true,
           "showland": true,
           "subunitcolor": "white"
          },
          "hoverlabel": {
           "align": "left"
          },
          "hovermode": "closest",
          "mapbox": {
           "style": "light"
          },
          "paper_bgcolor": "white",
          "plot_bgcolor": "#E5ECF6",
          "polar": {
           "angularaxis": {
            "gridcolor": "white",
            "linecolor": "white",
            "ticks": ""
           },
           "bgcolor": "#E5ECF6",
           "radialaxis": {
            "gridcolor": "white",
            "linecolor": "white",
            "ticks": ""
           }
          },
          "scene": {
           "xaxis": {
            "backgroundcolor": "#E5ECF6",
            "gridcolor": "white",
            "gridwidth": 2,
            "linecolor": "white",
            "showbackground": true,
            "ticks": "",
            "zerolinecolor": "white"
           },
           "yaxis": {
            "backgroundcolor": "#E5ECF6",
            "gridcolor": "white",
            "gridwidth": 2,
            "linecolor": "white",
            "showbackground": true,
            "ticks": "",
            "zerolinecolor": "white"
           },
           "zaxis": {
            "backgroundcolor": "#E5ECF6",
            "gridcolor": "white",
            "gridwidth": 2,
            "linecolor": "white",
            "showbackground": true,
            "ticks": "",
            "zerolinecolor": "white"
           }
          },
          "shapedefaults": {
           "line": {
            "color": "#2a3f5f"
           }
          },
          "ternary": {
           "aaxis": {
            "gridcolor": "white",
            "linecolor": "white",
            "ticks": ""
           },
           "baxis": {
            "gridcolor": "white",
            "linecolor": "white",
            "ticks": ""
           },
           "bgcolor": "#E5ECF6",
           "caxis": {
            "gridcolor": "white",
            "linecolor": "white",
            "ticks": ""
           }
          },
          "title": {
           "x": 0.05
          },
          "xaxis": {
           "automargin": true,
           "gridcolor": "white",
           "linecolor": "white",
           "ticks": "",
           "title": {
            "standoff": 15
           },
           "zerolinecolor": "white",
           "zerolinewidth": 2
          },
          "yaxis": {
           "automargin": true,
           "gridcolor": "white",
           "linecolor": "white",
           "ticks": "",
           "title": {
            "standoff": 15
           },
           "zerolinecolor": "white",
           "zerolinewidth": 2
          }
         }
        },
        "title": {
         "text": "The Friday the 13th effect<br> <sub>Difference in the share of U.S. births on the 13th of each month <br> from the average of births per weekday, 1994-2014</sub>",
         "x": 0.5
        },
        "xaxis": {
         "anchor": "y",
         "domain": [
          0,
          1
         ],
         "gridcolor": "#D2D2D2",
         "showgrid": true,
         "side": "top",
         "title": {
          "standoff": 100,
          "text": " "
         }
        },
        "yaxis": {
         "anchor": "x",
         "domain": [
          0,
          1
         ],
         "gridcolor": "#D2D2D2",
         "showgrid": true,
         "title": {
          "text": "Difference in percent to avg weekday"
         }
        }
       }
      },
      "text/html": [
       "<div>                            <div id=\"43359e6b-52c8-42d6-afb5-218a92329fac\" class=\"plotly-graph-div\" style=\"height:525px; width:100%;\"></div>            <script type=\"text/javascript\">                require([\"plotly\"], function(Plotly) {                    window.PLOTLYENV=window.PLOTLYENV || {};                                    if (document.getElementById(\"43359e6b-52c8-42d6-afb5-218a92329fac\")) {                    Plotly.newPlot(                        \"43359e6b-52c8-42d6-afb5-218a92329fac\",                        [{\"alignmentgroup\":\"True\",\"hovertemplate\":\" =%{x}<br>Difference in percent to avg weekday=%{y}<extra></extra>\",\"legendgroup\":\"\",\"marker\":{\"color\":\"violet\",\"pattern\":{\"shape\":\"\"}},\"name\":\"\",\"offsetgroup\":\"\",\"orientation\":\"v\",\"showlegend\":false,\"textposition\":\"auto\",\"x\":[\"Monday\",\"Tuesday\",\"Wednesday\",\"Thursday\",\"Friday\",\"Saturday\",\"Sunday\"],\"xaxis\":\"x\",\"y\":[-9.148638618216012,-2.6156042207426142,-1.6454611977367664,9.796099250955406,-7.574131016006221,2.4671933233643446,3.075324323999049],\"yaxis\":\"y\",\"type\":\"bar\"}],                        {\"template\":{\"data\":{\"histogram2dcontour\":[{\"type\":\"histogram2dcontour\",\"colorbar\":{\"outlinewidth\":0,\"ticks\":\"\"},\"colorscale\":[[0.0,\"#0d0887\"],[0.1111111111111111,\"#46039f\"],[0.2222222222222222,\"#7201a8\"],[0.3333333333333333,\"#9c179e\"],[0.4444444444444444,\"#bd3786\"],[0.5555555555555556,\"#d8576b\"],[0.6666666666666666,\"#ed7953\"],[0.7777777777777778,\"#fb9f3a\"],[0.8888888888888888,\"#fdca26\"],[1.0,\"#f0f921\"]]}],\"choropleth\":[{\"type\":\"choropleth\",\"colorbar\":{\"outlinewidth\":0,\"ticks\":\"\"}}],\"histogram2d\":[{\"type\":\"histogram2d\",\"colorbar\":{\"outlinewidth\":0,\"ticks\":\"\"},\"colorscale\":[[0.0,\"#0d0887\"],[0.1111111111111111,\"#46039f\"],[0.2222222222222222,\"#7201a8\"],[0.3333333333333333,\"#9c179e\"],[0.4444444444444444,\"#bd3786\"],[0.5555555555555556,\"#d8576b\"],[0.6666666666666666,\"#ed7953\"],[0.7777777777777778,\"#fb9f3a\"],[0.8888888888888888,\"#fdca26\"],[1.0,\"#f0f921\"]]}],\"heatmap\":[{\"type\":\"heatmap\",\"colorbar\":{\"outlinewidth\":0,\"ticks\":\"\"},\"colorscale\":[[0.0,\"#0d0887\"],[0.1111111111111111,\"#46039f\"],[0.2222222222222222,\"#7201a8\"],[0.3333333333333333,\"#9c179e\"],[0.4444444444444444,\"#bd3786\"],[0.5555555555555556,\"#d8576b\"],[0.6666666666666666,\"#ed7953\"],[0.7777777777777778,\"#fb9f3a\"],[0.8888888888888888,\"#fdca26\"],[1.0,\"#f0f921\"]]}],\"heatmapgl\":[{\"type\":\"heatmapgl\",\"colorbar\":{\"outlinewidth\":0,\"ticks\":\"\"},\"colorscale\":[[0.0,\"#0d0887\"],[0.1111111111111111,\"#46039f\"],[0.2222222222222222,\"#7201a8\"],[0.3333333333333333,\"#9c179e\"],[0.4444444444444444,\"#bd3786\"],[0.5555555555555556,\"#d8576b\"],[0.6666666666666666,\"#ed7953\"],[0.7777777777777778,\"#fb9f3a\"],[0.8888888888888888,\"#fdca26\"],[1.0,\"#f0f921\"]]}],\"contourcarpet\":[{\"type\":\"contourcarpet\",\"colorbar\":{\"outlinewidth\":0,\"ticks\":\"\"}}],\"contour\":[{\"type\":\"contour\",\"colorbar\":{\"outlinewidth\":0,\"ticks\":\"\"},\"colorscale\":[[0.0,\"#0d0887\"],[0.1111111111111111,\"#46039f\"],[0.2222222222222222,\"#7201a8\"],[0.3333333333333333,\"#9c179e\"],[0.4444444444444444,\"#bd3786\"],[0.5555555555555556,\"#d8576b\"],[0.6666666666666666,\"#ed7953\"],[0.7777777777777778,\"#fb9f3a\"],[0.8888888888888888,\"#fdca26\"],[1.0,\"#f0f921\"]]}],\"surface\":[{\"type\":\"surface\",\"colorbar\":{\"outlinewidth\":0,\"ticks\":\"\"},\"colorscale\":[[0.0,\"#0d0887\"],[0.1111111111111111,\"#46039f\"],[0.2222222222222222,\"#7201a8\"],[0.3333333333333333,\"#9c179e\"],[0.4444444444444444,\"#bd3786\"],[0.5555555555555556,\"#d8576b\"],[0.6666666666666666,\"#ed7953\"],[0.7777777777777778,\"#fb9f3a\"],[0.8888888888888888,\"#fdca26\"],[1.0,\"#f0f921\"]]}],\"mesh3d\":[{\"type\":\"mesh3d\",\"colorbar\":{\"outlinewidth\":0,\"ticks\":\"\"}}],\"scatter\":[{\"fillpattern\":{\"fillmode\":\"overlay\",\"size\":10,\"solidity\":0.2},\"type\":\"scatter\"}],\"parcoords\":[{\"type\":\"parcoords\",\"line\":{\"colorbar\":{\"outlinewidth\":0,\"ticks\":\"\"}}}],\"scatterpolargl\":[{\"type\":\"scatterpolargl\",\"marker\":{\"colorbar\":{\"outlinewidth\":0,\"ticks\":\"\"}}}],\"bar\":[{\"error_x\":{\"color\":\"#2a3f5f\"},\"error_y\":{\"color\":\"#2a3f5f\"},\"marker\":{\"line\":{\"color\":\"#E5ECF6\",\"width\":0.5},\"pattern\":{\"fillmode\":\"overlay\",\"size\":10,\"solidity\":0.2}},\"type\":\"bar\"}],\"scattergeo\":[{\"type\":\"scattergeo\",\"marker\":{\"colorbar\":{\"outlinewidth\":0,\"ticks\":\"\"}}}],\"scatterpolar\":[{\"type\":\"scatterpolar\",\"marker\":{\"colorbar\":{\"outlinewidth\":0,\"ticks\":\"\"}}}],\"histogram\":[{\"marker\":{\"pattern\":{\"fillmode\":\"overlay\",\"size\":10,\"solidity\":0.2}},\"type\":\"histogram\"}],\"scattergl\":[{\"type\":\"scattergl\",\"marker\":{\"colorbar\":{\"outlinewidth\":0,\"ticks\":\"\"}}}],\"scatter3d\":[{\"type\":\"scatter3d\",\"line\":{\"colorbar\":{\"outlinewidth\":0,\"ticks\":\"\"}},\"marker\":{\"colorbar\":{\"outlinewidth\":0,\"ticks\":\"\"}}}],\"scattermapbox\":[{\"type\":\"scattermapbox\",\"marker\":{\"colorbar\":{\"outlinewidth\":0,\"ticks\":\"\"}}}],\"scatterternary\":[{\"type\":\"scatterternary\",\"marker\":{\"colorbar\":{\"outlinewidth\":0,\"ticks\":\"\"}}}],\"scattercarpet\":[{\"type\":\"scattercarpet\",\"marker\":{\"colorbar\":{\"outlinewidth\":0,\"ticks\":\"\"}}}],\"carpet\":[{\"aaxis\":{\"endlinecolor\":\"#2a3f5f\",\"gridcolor\":\"white\",\"linecolor\":\"white\",\"minorgridcolor\":\"white\",\"startlinecolor\":\"#2a3f5f\"},\"baxis\":{\"endlinecolor\":\"#2a3f5f\",\"gridcolor\":\"white\",\"linecolor\":\"white\",\"minorgridcolor\":\"white\",\"startlinecolor\":\"#2a3f5f\"},\"type\":\"carpet\"}],\"table\":[{\"cells\":{\"fill\":{\"color\":\"#EBF0F8\"},\"line\":{\"color\":\"white\"}},\"header\":{\"fill\":{\"color\":\"#C8D4E3\"},\"line\":{\"color\":\"white\"}},\"type\":\"table\"}],\"barpolar\":[{\"marker\":{\"line\":{\"color\":\"#E5ECF6\",\"width\":0.5},\"pattern\":{\"fillmode\":\"overlay\",\"size\":10,\"solidity\":0.2}},\"type\":\"barpolar\"}],\"pie\":[{\"automargin\":true,\"type\":\"pie\"}]},\"layout\":{\"autotypenumbers\":\"strict\",\"colorway\":[\"#636efa\",\"#EF553B\",\"#00cc96\",\"#ab63fa\",\"#FFA15A\",\"#19d3f3\",\"#FF6692\",\"#B6E880\",\"#FF97FF\",\"#FECB52\"],\"font\":{\"color\":\"#2a3f5f\"},\"hovermode\":\"closest\",\"hoverlabel\":{\"align\":\"left\"},\"paper_bgcolor\":\"white\",\"plot_bgcolor\":\"#E5ECF6\",\"polar\":{\"bgcolor\":\"#E5ECF6\",\"angularaxis\":{\"gridcolor\":\"white\",\"linecolor\":\"white\",\"ticks\":\"\"},\"radialaxis\":{\"gridcolor\":\"white\",\"linecolor\":\"white\",\"ticks\":\"\"}},\"ternary\":{\"bgcolor\":\"#E5ECF6\",\"aaxis\":{\"gridcolor\":\"white\",\"linecolor\":\"white\",\"ticks\":\"\"},\"baxis\":{\"gridcolor\":\"white\",\"linecolor\":\"white\",\"ticks\":\"\"},\"caxis\":{\"gridcolor\":\"white\",\"linecolor\":\"white\",\"ticks\":\"\"}},\"coloraxis\":{\"colorbar\":{\"outlinewidth\":0,\"ticks\":\"\"}},\"colorscale\":{\"sequential\":[[0.0,\"#0d0887\"],[0.1111111111111111,\"#46039f\"],[0.2222222222222222,\"#7201a8\"],[0.3333333333333333,\"#9c179e\"],[0.4444444444444444,\"#bd3786\"],[0.5555555555555556,\"#d8576b\"],[0.6666666666666666,\"#ed7953\"],[0.7777777777777778,\"#fb9f3a\"],[0.8888888888888888,\"#fdca26\"],[1.0,\"#f0f921\"]],\"sequentialminus\":[[0.0,\"#0d0887\"],[0.1111111111111111,\"#46039f\"],[0.2222222222222222,\"#7201a8\"],[0.3333333333333333,\"#9c179e\"],[0.4444444444444444,\"#bd3786\"],[0.5555555555555556,\"#d8576b\"],[0.6666666666666666,\"#ed7953\"],[0.7777777777777778,\"#fb9f3a\"],[0.8888888888888888,\"#fdca26\"],[1.0,\"#f0f921\"]],\"diverging\":[[0,\"#8e0152\"],[0.1,\"#c51b7d\"],[0.2,\"#de77ae\"],[0.3,\"#f1b6da\"],[0.4,\"#fde0ef\"],[0.5,\"#f7f7f7\"],[0.6,\"#e6f5d0\"],[0.7,\"#b8e186\"],[0.8,\"#7fbc41\"],[0.9,\"#4d9221\"],[1,\"#276419\"]]},\"xaxis\":{\"gridcolor\":\"white\",\"linecolor\":\"white\",\"ticks\":\"\",\"title\":{\"standoff\":15},\"zerolinecolor\":\"white\",\"automargin\":true,\"zerolinewidth\":2},\"yaxis\":{\"gridcolor\":\"white\",\"linecolor\":\"white\",\"ticks\":\"\",\"title\":{\"standoff\":15},\"zerolinecolor\":\"white\",\"automargin\":true,\"zerolinewidth\":2},\"scene\":{\"xaxis\":{\"backgroundcolor\":\"#E5ECF6\",\"gridcolor\":\"white\",\"linecolor\":\"white\",\"showbackground\":true,\"ticks\":\"\",\"zerolinecolor\":\"white\",\"gridwidth\":2},\"yaxis\":{\"backgroundcolor\":\"#E5ECF6\",\"gridcolor\":\"white\",\"linecolor\":\"white\",\"showbackground\":true,\"ticks\":\"\",\"zerolinecolor\":\"white\",\"gridwidth\":2},\"zaxis\":{\"backgroundcolor\":\"#E5ECF6\",\"gridcolor\":\"white\",\"linecolor\":\"white\",\"showbackground\":true,\"ticks\":\"\",\"zerolinecolor\":\"white\",\"gridwidth\":2}},\"shapedefaults\":{\"line\":{\"color\":\"#2a3f5f\"}},\"annotationdefaults\":{\"arrowcolor\":\"#2a3f5f\",\"arrowhead\":0,\"arrowwidth\":1},\"geo\":{\"bgcolor\":\"white\",\"landcolor\":\"#E5ECF6\",\"subunitcolor\":\"white\",\"showland\":true,\"showlakes\":true,\"lakecolor\":\"white\"},\"title\":{\"x\":0.05},\"mapbox\":{\"style\":\"light\"}}},\"xaxis\":{\"anchor\":\"y\",\"domain\":[0.0,1.0],\"title\":{\"text\":\" \",\"standoff\":100},\"showgrid\":true,\"side\":\"top\",\"gridcolor\":\"#D2D2D2\"},\"yaxis\":{\"anchor\":\"x\",\"domain\":[0.0,1.0],\"title\":{\"text\":\"Difference in percent to avg weekday\"},\"showgrid\":true,\"gridcolor\":\"#D2D2D2\"},\"legend\":{\"tracegroupgap\":0},\"title\":{\"text\":\"The Friday the 13th effect<br> <sub>Difference in the share of U.S. births on the 13th of each month <br> from the average of births per weekday, 1994-2014</sub>\",\"x\":0.5},\"barmode\":\"relative\",\"paper_bgcolor\":\"rgba(240,240,240,240)\",\"plot_bgcolor\":\"rgba(0,0,0,0)\"},                        {\"responsive\": true}                    ).then(function(){\n",
       "                            \n",
       "var gd = document.getElementById('43359e6b-52c8-42d6-afb5-218a92329fac');\n",
       "var x = new MutationObserver(function (mutations, observer) {{\n",
       "        var display = window.getComputedStyle(gd).display;\n",
       "        if (!display || display === 'none') {{\n",
       "            console.log([gd, 'removed!']);\n",
       "            Plotly.purge(gd);\n",
       "            observer.disconnect();\n",
       "        }}\n",
       "}});\n",
       "\n",
       "// Listen for the removal of the full notebook cells\n",
       "var notebookContainer = gd.closest('#notebook-container');\n",
       "if (notebookContainer) {{\n",
       "    x.observe(notebookContainer, {childList: true});\n",
       "}}\n",
       "\n",
       "// Listen for the clearing of the current output cell\n",
       "var outputEl = gd.closest('.output');\n",
       "if (outputEl) {{\n",
       "    x.observe(outputEl, {childList: true});\n",
       "}}\n",
       "\n",
       "                        })                };                });            </script>        </div>"
      ]
     },
     "metadata": {},
     "output_type": "display_data"
    }
   ],
   "source": [
    "fig = px.bar(births_per_day_and_weekday[births_per_day_and_weekday[\"date_of_month\"]==13], \n",
    "             x='weekday', \n",
    "             y='percentage_total_day_of_week', \n",
    "             title=\"The Friday the 13th effect<br> <sub>Difference in the share of U.S. births on the 13th of each month <br> from the average of births per weekday, 1994-2014</sub>\",\n",
    "             labels=dict(weekday=\" \", percentage_total_day_of_week=\"Difference in percent to avg weekday\"),\n",
    "            color_discrete_sequence=[\"violet\"],)\n",
    "fig.update_layout(title_x=0.5, paper_bgcolor='rgba(240,240,240,240)',\n",
    "    plot_bgcolor='rgba(0,0,0,0)')\n",
    "fig.update_layout(title_x=0.5)\n",
    "fig.update_xaxes(showgrid=True, side=\"top\", title_standoff=100, gridcolor=\"#D2D2D2\")\n",
    "fig.update_yaxes(showgrid=True, gridcolor=\"#D2D2D2\")\n",
    "fig.update_layout(title_x=0.5)\n",
    "fig.show()"
   ]
  },
  {
   "cell_type": "markdown",
   "id": "60d8b06c",
   "metadata": {},
   "source": [
    "## Comparing for all days of the year\n",
    "Here we are lookin into the second part of the article, as in the article, only with the SSA dataset from 2000-2014\n",
    "\n",
    "and do a similar preprocessing as before, but taking the month into account"
   ]
  },
  {
   "cell_type": "code",
   "execution_count": 102,
   "id": "1f89e49f",
   "metadata": {},
   "outputs": [],
   "source": [
    "df_ssa = pd.read_csv('US_births_2000-2014_SSA.csv')  \n",
    "births_per_day_and_weekday_ssa = df_ssa[[\"month\",\"date_of_month\", \"day_of_week\", \"births\"]].groupby(by=['month','date_of_month']).mean().reset_index()"
   ]
  },
  {
   "cell_type": "code",
   "execution_count": 103,
   "id": "a71272db",
   "metadata": {},
   "outputs": [
    {
     "data": {
      "text/html": [
       "<div>\n",
       "<style scoped>\n",
       "    .dataframe tbody tr th:only-of-type {\n",
       "        vertical-align: middle;\n",
       "    }\n",
       "\n",
       "    .dataframe tbody tr th {\n",
       "        vertical-align: top;\n",
       "    }\n",
       "\n",
       "    .dataframe thead th {\n",
       "        text-align: right;\n",
       "    }\n",
       "</style>\n",
       "<table border=\"1\" class=\"dataframe\">\n",
       "  <thead>\n",
       "    <tr style=\"text-align: right;\">\n",
       "      <th></th>\n",
       "      <th>month</th>\n",
       "      <th>date_of_month</th>\n",
       "      <th>day_of_week</th>\n",
       "      <th>births</th>\n",
       "    </tr>\n",
       "  </thead>\n",
       "  <tbody>\n",
       "    <tr>\n",
       "      <th>0</th>\n",
       "      <td>1</td>\n",
       "      <td>1</td>\n",
       "      <td>3.933333</td>\n",
       "      <td>7735.333333</td>\n",
       "    </tr>\n",
       "    <tr>\n",
       "      <th>1</th>\n",
       "      <td>1</td>\n",
       "      <td>2</td>\n",
       "      <td>4.000000</td>\n",
       "      <td>9605.533333</td>\n",
       "    </tr>\n",
       "    <tr>\n",
       "      <th>2</th>\n",
       "      <td>1</td>\n",
       "      <td>3</td>\n",
       "      <td>3.600000</td>\n",
       "      <td>11341.000000</td>\n",
       "    </tr>\n",
       "    <tr>\n",
       "      <th>3</th>\n",
       "      <td>1</td>\n",
       "      <td>4</td>\n",
       "      <td>4.133333</td>\n",
       "      <td>11444.200000</td>\n",
       "    </tr>\n",
       "    <tr>\n",
       "      <th>4</th>\n",
       "      <td>1</td>\n",
       "      <td>5</td>\n",
       "      <td>4.200000</td>\n",
       "      <td>11112.133333</td>\n",
       "    </tr>\n",
       "    <tr>\n",
       "      <th>...</th>\n",
       "      <td>...</td>\n",
       "      <td>...</td>\n",
       "      <td>...</td>\n",
       "      <td>...</td>\n",
       "    </tr>\n",
       "    <tr>\n",
       "      <th>361</th>\n",
       "      <td>12</td>\n",
       "      <td>27</td>\n",
       "      <td>3.933333</td>\n",
       "      <td>12189.266667</td>\n",
       "    </tr>\n",
       "    <tr>\n",
       "      <th>362</th>\n",
       "      <td>12</td>\n",
       "      <td>28</td>\n",
       "      <td>4.466667</td>\n",
       "      <td>12192.533333</td>\n",
       "    </tr>\n",
       "    <tr>\n",
       "      <th>363</th>\n",
       "      <td>12</td>\n",
       "      <td>29</td>\n",
       "      <td>4.066667</td>\n",
       "      <td>12068.066667</td>\n",
       "    </tr>\n",
       "    <tr>\n",
       "      <th>364</th>\n",
       "      <td>12</td>\n",
       "      <td>30</td>\n",
       "      <td>4.133333</td>\n",
       "      <td>11917.933333</td>\n",
       "    </tr>\n",
       "    <tr>\n",
       "      <th>365</th>\n",
       "      <td>12</td>\n",
       "      <td>31</td>\n",
       "      <td>3.733333</td>\n",
       "      <td>10548.666667</td>\n",
       "    </tr>\n",
       "  </tbody>\n",
       "</table>\n",
       "<p>366 rows × 4 columns</p>\n",
       "</div>"
      ],
      "text/plain": [
       "     month  date_of_month  day_of_week        births\n",
       "0        1              1     3.933333   7735.333333\n",
       "1        1              2     4.000000   9605.533333\n",
       "2        1              3     3.600000  11341.000000\n",
       "3        1              4     4.133333  11444.200000\n",
       "4        1              5     4.200000  11112.133333\n",
       "..     ...            ...          ...           ...\n",
       "361     12             27     3.933333  12189.266667\n",
       "362     12             28     4.466667  12192.533333\n",
       "363     12             29     4.066667  12068.066667\n",
       "364     12             30     4.133333  11917.933333\n",
       "365     12             31     3.733333  10548.666667\n",
       "\n",
       "[366 rows x 4 columns]"
      ]
     },
     "execution_count": 103,
     "metadata": {},
     "output_type": "execute_result"
    }
   ],
   "source": [
    "births_per_day_and_weekday_ssa"
   ]
  },
  {
   "cell_type": "code",
   "execution_count": 104,
   "id": "517bb4a7",
   "metadata": {},
   "outputs": [],
   "source": [
    "average_births_by_day = births_per_day_and_weekday_ssa[[\"births\", \"day_of_week\",\"month\"]].groupby(by=[\"day_of_week\",\"month\"]).mean()\n",
    "\n",
    "average_births_6_20_by_day = births_per_day_and_weekday_ssa[(births_per_day_and_weekday_ssa['date_of_month']==6) | (births_per_day_and_weekday_ssa['date_of_month']==20)][[\"births\", \"day_of_week\",\"month\"]].groupby(by=[\"day_of_week\",\"month\"]).mean()"
   ]
  },
  {
   "cell_type": "code",
   "execution_count": 105,
   "id": "f4f4a0be",
   "metadata": {},
   "outputs": [
    {
     "data": {
      "text/html": [
       "<div>\n",
       "<style scoped>\n",
       "    .dataframe tbody tr th:only-of-type {\n",
       "        vertical-align: middle;\n",
       "    }\n",
       "\n",
       "    .dataframe tbody tr th {\n",
       "        vertical-align: top;\n",
       "    }\n",
       "\n",
       "    .dataframe thead th {\n",
       "        text-align: right;\n",
       "    }\n",
       "</style>\n",
       "<table border=\"1\" class=\"dataframe\">\n",
       "  <thead>\n",
       "    <tr style=\"text-align: right;\">\n",
       "      <th></th>\n",
       "      <th>month</th>\n",
       "      <th>date_of_month</th>\n",
       "      <th>day_of_week</th>\n",
       "      <th>births</th>\n",
       "    </tr>\n",
       "  </thead>\n",
       "  <tbody>\n",
       "    <tr>\n",
       "      <th>0</th>\n",
       "      <td>1</td>\n",
       "      <td>1</td>\n",
       "      <td>3.933333</td>\n",
       "      <td>7735.333333</td>\n",
       "    </tr>\n",
       "    <tr>\n",
       "      <th>1</th>\n",
       "      <td>1</td>\n",
       "      <td>2</td>\n",
       "      <td>4.000000</td>\n",
       "      <td>9605.533333</td>\n",
       "    </tr>\n",
       "    <tr>\n",
       "      <th>2</th>\n",
       "      <td>1</td>\n",
       "      <td>3</td>\n",
       "      <td>3.600000</td>\n",
       "      <td>11341.000000</td>\n",
       "    </tr>\n",
       "    <tr>\n",
       "      <th>3</th>\n",
       "      <td>1</td>\n",
       "      <td>4</td>\n",
       "      <td>4.133333</td>\n",
       "      <td>11444.200000</td>\n",
       "    </tr>\n",
       "    <tr>\n",
       "      <th>4</th>\n",
       "      <td>1</td>\n",
       "      <td>5</td>\n",
       "      <td>4.200000</td>\n",
       "      <td>11112.133333</td>\n",
       "    </tr>\n",
       "    <tr>\n",
       "      <th>...</th>\n",
       "      <td>...</td>\n",
       "      <td>...</td>\n",
       "      <td>...</td>\n",
       "      <td>...</td>\n",
       "    </tr>\n",
       "    <tr>\n",
       "      <th>361</th>\n",
       "      <td>12</td>\n",
       "      <td>27</td>\n",
       "      <td>3.933333</td>\n",
       "      <td>12189.266667</td>\n",
       "    </tr>\n",
       "    <tr>\n",
       "      <th>362</th>\n",
       "      <td>12</td>\n",
       "      <td>28</td>\n",
       "      <td>4.466667</td>\n",
       "      <td>12192.533333</td>\n",
       "    </tr>\n",
       "    <tr>\n",
       "      <th>363</th>\n",
       "      <td>12</td>\n",
       "      <td>29</td>\n",
       "      <td>4.066667</td>\n",
       "      <td>12068.066667</td>\n",
       "    </tr>\n",
       "    <tr>\n",
       "      <th>364</th>\n",
       "      <td>12</td>\n",
       "      <td>30</td>\n",
       "      <td>4.133333</td>\n",
       "      <td>11917.933333</td>\n",
       "    </tr>\n",
       "    <tr>\n",
       "      <th>365</th>\n",
       "      <td>12</td>\n",
       "      <td>31</td>\n",
       "      <td>3.733333</td>\n",
       "      <td>10548.666667</td>\n",
       "    </tr>\n",
       "  </tbody>\n",
       "</table>\n",
       "<p>366 rows × 4 columns</p>\n",
       "</div>"
      ],
      "text/plain": [
       "     month  date_of_month  day_of_week        births\n",
       "0        1              1     3.933333   7735.333333\n",
       "1        1              2     4.000000   9605.533333\n",
       "2        1              3     3.600000  11341.000000\n",
       "3        1              4     4.133333  11444.200000\n",
       "4        1              5     4.200000  11112.133333\n",
       "..     ...            ...          ...           ...\n",
       "361     12             27     3.933333  12189.266667\n",
       "362     12             28     4.466667  12192.533333\n",
       "363     12             29     4.066667  12068.066667\n",
       "364     12             30     4.133333  11917.933333\n",
       "365     12             31     3.733333  10548.666667\n",
       "\n",
       "[366 rows x 4 columns]"
      ]
     },
     "execution_count": 105,
     "metadata": {},
     "output_type": "execute_result"
    }
   ],
   "source": [
    "births_per_day_and_weekday_ssa"
   ]
  },
  {
   "cell_type": "code",
   "execution_count": 106,
   "id": "8e5dce5c",
   "metadata": {},
   "outputs": [],
   "source": [
    "births_per_day_and_weekday_ssa = births_per_day_and_weekday_ssa.join(average_births_6_20_by_day, on=[\"day_of_week\",\"month\"], rsuffix=\"_avg_per_day_6_20\")\n",
    "births_per_day_and_weekday_ssa = births_per_day_and_weekday_ssa.join(average_births_by_day, on=[\"day_of_week\",\"month\"], rsuffix=\"_avg_per_day\")\n",
    "\n",
    "births_per_day_and_weekday_ssa[\"percentage_6_20_day_of_week\"] = ((births_per_day_and_weekday_ssa[\"births\"]-births_per_day_and_weekday_ssa[\"births_avg_per_day_6_20\"])/births_per_day_and_weekday_ssa[\"births_avg_per_day_6_20\"])*100\n",
    "births_per_day_and_weekday_ssa[\"percentage_total_day_of_week\"] = ((births_per_day_and_weekday_ssa[\"births\"]-births_per_day_and_weekday_ssa[\"births_avg_per_day\"])/births_per_day_and_weekday_ssa[\"births_avg_per_day\"])*100\n",
    "\n",
    "births_per_day_and_weekday_ssa[\"date\"]=pd.to_datetime(\"2020\" + \"/\" + births_per_day_and_weekday_ssa[\"month\"].apply(str) + \"/\" + births_per_day_and_weekday_ssa[\"date_of_month\"].apply(str))"
   ]
  },
  {
   "cell_type": "code",
   "execution_count": 107,
   "id": "6965507f",
   "metadata": {},
   "outputs": [
    {
     "data": {
      "text/html": [
       "<div>\n",
       "<style scoped>\n",
       "    .dataframe tbody tr th:only-of-type {\n",
       "        vertical-align: middle;\n",
       "    }\n",
       "\n",
       "    .dataframe tbody tr th {\n",
       "        vertical-align: top;\n",
       "    }\n",
       "\n",
       "    .dataframe thead th {\n",
       "        text-align: right;\n",
       "    }\n",
       "</style>\n",
       "<table border=\"1\" class=\"dataframe\">\n",
       "  <thead>\n",
       "    <tr style=\"text-align: right;\">\n",
       "      <th></th>\n",
       "      <th>month</th>\n",
       "      <th>date_of_month</th>\n",
       "      <th>day_of_week</th>\n",
       "      <th>births</th>\n",
       "      <th>births_avg_per_day_6_20</th>\n",
       "      <th>births_avg_per_day</th>\n",
       "      <th>percentage_6_20_day_of_week</th>\n",
       "      <th>percentage_total_day_of_week</th>\n",
       "      <th>date</th>\n",
       "    </tr>\n",
       "  </thead>\n",
       "  <tbody>\n",
       "    <tr>\n",
       "      <th>0</th>\n",
       "      <td>1</td>\n",
       "      <td>1</td>\n",
       "      <td>3.933333</td>\n",
       "      <td>7735.333333</td>\n",
       "      <td>NaN</td>\n",
       "      <td>10194.013333</td>\n",
       "      <td>NaN</td>\n",
       "      <td>-24.118862</td>\n",
       "      <td>2020-01-01</td>\n",
       "    </tr>\n",
       "    <tr>\n",
       "      <th>31</th>\n",
       "      <td>2</td>\n",
       "      <td>1</td>\n",
       "      <td>4.133333</td>\n",
       "      <td>11296.266667</td>\n",
       "      <td>NaN</td>\n",
       "      <td>11408.700000</td>\n",
       "      <td>NaN</td>\n",
       "      <td>-0.985505</td>\n",
       "      <td>2020-02-01</td>\n",
       "    </tr>\n",
       "    <tr>\n",
       "      <th>60</th>\n",
       "      <td>3</td>\n",
       "      <td>1</td>\n",
       "      <td>3.933333</td>\n",
       "      <td>11446.533333</td>\n",
       "      <td>NaN</td>\n",
       "      <td>11271.466667</td>\n",
       "      <td>NaN</td>\n",
       "      <td>1.553184</td>\n",
       "      <td>2020-03-01</td>\n",
       "    </tr>\n",
       "    <tr>\n",
       "      <th>91</th>\n",
       "      <td>4</td>\n",
       "      <td>1</td>\n",
       "      <td>4.133333</td>\n",
       "      <td>10315.800000</td>\n",
       "      <td>NaN</td>\n",
       "      <td>10725.986667</td>\n",
       "      <td>NaN</td>\n",
       "      <td>-3.824232</td>\n",
       "      <td>2020-04-01</td>\n",
       "    </tr>\n",
       "    <tr>\n",
       "      <th>121</th>\n",
       "      <td>5</td>\n",
       "      <td>1</td>\n",
       "      <td>3.800000</td>\n",
       "      <td>11295.866667</td>\n",
       "      <td>NaN</td>\n",
       "      <td>11310.373333</td>\n",
       "      <td>NaN</td>\n",
       "      <td>-0.128260</td>\n",
       "      <td>2020-05-01</td>\n",
       "    </tr>\n",
       "    <tr>\n",
       "      <th>152</th>\n",
       "      <td>6</td>\n",
       "      <td>1</td>\n",
       "      <td>4.466667</td>\n",
       "      <td>11423.200000</td>\n",
       "      <td>NaN</td>\n",
       "      <td>11369.560000</td>\n",
       "      <td>NaN</td>\n",
       "      <td>0.471786</td>\n",
       "      <td>2020-06-01</td>\n",
       "    </tr>\n",
       "    <tr>\n",
       "      <th>182</th>\n",
       "      <td>7</td>\n",
       "      <td>1</td>\n",
       "      <td>4.133333</td>\n",
       "      <td>11854.666667</td>\n",
       "      <td>NaN</td>\n",
       "      <td>11754.106667</td>\n",
       "      <td>NaN</td>\n",
       "      <td>0.855531</td>\n",
       "      <td>2020-07-01</td>\n",
       "    </tr>\n",
       "    <tr>\n",
       "      <th>213</th>\n",
       "      <td>8</td>\n",
       "      <td>1</td>\n",
       "      <td>3.866667</td>\n",
       "      <td>12216.933333</td>\n",
       "      <td>NaN</td>\n",
       "      <td>12318.413333</td>\n",
       "      <td>NaN</td>\n",
       "      <td>-0.823807</td>\n",
       "      <td>2020-08-01</td>\n",
       "    </tr>\n",
       "    <tr>\n",
       "      <th>244</th>\n",
       "      <td>9</td>\n",
       "      <td>1</td>\n",
       "      <td>4.066667</td>\n",
       "      <td>10931.933333</td>\n",
       "      <td>NaN</td>\n",
       "      <td>11767.466667</td>\n",
       "      <td>NaN</td>\n",
       "      <td>-7.100367</td>\n",
       "      <td>2020-09-01</td>\n",
       "    </tr>\n",
       "    <tr>\n",
       "      <th>274</th>\n",
       "      <td>10</td>\n",
       "      <td>1</td>\n",
       "      <td>3.733333</td>\n",
       "      <td>11955.600000</td>\n",
       "      <td>NaN</td>\n",
       "      <td>11527.560000</td>\n",
       "      <td>NaN</td>\n",
       "      <td>3.713188</td>\n",
       "      <td>2020-10-01</td>\n",
       "    </tr>\n",
       "    <tr>\n",
       "      <th>305</th>\n",
       "      <td>11</td>\n",
       "      <td>1</td>\n",
       "      <td>3.933333</td>\n",
       "      <td>11752.666667</td>\n",
       "      <td>NaN</td>\n",
       "      <td>11352.546667</td>\n",
       "      <td>NaN</td>\n",
       "      <td>3.524496</td>\n",
       "      <td>2020-11-01</td>\n",
       "    </tr>\n",
       "    <tr>\n",
       "      <th>335</th>\n",
       "      <td>12</td>\n",
       "      <td>1</td>\n",
       "      <td>4.066667</td>\n",
       "      <td>11350.333333</td>\n",
       "      <td>NaN</td>\n",
       "      <td>11420.026667</td>\n",
       "      <td>NaN</td>\n",
       "      <td>-0.610273</td>\n",
       "      <td>2020-12-01</td>\n",
       "    </tr>\n",
       "  </tbody>\n",
       "</table>\n",
       "</div>"
      ],
      "text/plain": [
       "     month  date_of_month  day_of_week        births  births_avg_per_day_6_20  \\\n",
       "0        1              1     3.933333   7735.333333                      NaN   \n",
       "31       2              1     4.133333  11296.266667                      NaN   \n",
       "60       3              1     3.933333  11446.533333                      NaN   \n",
       "91       4              1     4.133333  10315.800000                      NaN   \n",
       "121      5              1     3.800000  11295.866667                      NaN   \n",
       "152      6              1     4.466667  11423.200000                      NaN   \n",
       "182      7              1     4.133333  11854.666667                      NaN   \n",
       "213      8              1     3.866667  12216.933333                      NaN   \n",
       "244      9              1     4.066667  10931.933333                      NaN   \n",
       "274     10              1     3.733333  11955.600000                      NaN   \n",
       "305     11              1     3.933333  11752.666667                      NaN   \n",
       "335     12              1     4.066667  11350.333333                      NaN   \n",
       "\n",
       "     births_avg_per_day  percentage_6_20_day_of_week  \\\n",
       "0          10194.013333                          NaN   \n",
       "31         11408.700000                          NaN   \n",
       "60         11271.466667                          NaN   \n",
       "91         10725.986667                          NaN   \n",
       "121        11310.373333                          NaN   \n",
       "152        11369.560000                          NaN   \n",
       "182        11754.106667                          NaN   \n",
       "213        12318.413333                          NaN   \n",
       "244        11767.466667                          NaN   \n",
       "274        11527.560000                          NaN   \n",
       "305        11352.546667                          NaN   \n",
       "335        11420.026667                          NaN   \n",
       "\n",
       "     percentage_total_day_of_week       date  \n",
       "0                      -24.118862 2020-01-01  \n",
       "31                      -0.985505 2020-02-01  \n",
       "60                       1.553184 2020-03-01  \n",
       "91                      -3.824232 2020-04-01  \n",
       "121                     -0.128260 2020-05-01  \n",
       "152                      0.471786 2020-06-01  \n",
       "182                      0.855531 2020-07-01  \n",
       "213                     -0.823807 2020-08-01  \n",
       "244                     -7.100367 2020-09-01  \n",
       "274                      3.713188 2020-10-01  \n",
       "305                      3.524496 2020-11-01  \n",
       "335                     -0.610273 2020-12-01  "
      ]
     },
     "execution_count": 107,
     "metadata": {},
     "output_type": "execute_result"
    }
   ],
   "source": [
    "births_per_day_and_weekday_ssa[births_per_day_and_weekday_ssa[\"date_of_month\"]==1]"
   ]
  },
  {
   "cell_type": "markdown",
   "id": "aa691773",
   "metadata": {},
   "source": [
    "We are then recreating the plot, by using 4 different subplots and merging them (Feb 14th needed an individual plot to be readable).\n",
    "Our results are again fairly similar, but the differences for Feb 14th and 29th are not that significant (without performing a significance test)"
   ]
  },
  {
   "cell_type": "code",
   "execution_count": 108,
   "id": "7d916386",
   "metadata": {},
   "outputs": [
    {
     "data": {
      "application/vnd.plotly.v1+json": {
       "config": {
        "plotlyServerURL": "https://plot.ly"
       },
       "data": [
        {
         "hovertemplate": "date=%{x}<br>percentage_total_day_of_week=%{y}<extra></extra>",
         "legendgroup": "",
         "line": {
          "color": "black",
          "dash": "solid"
         },
         "marker": {
          "symbol": "circle"
         },
         "mode": "lines",
         "name": "",
         "orientation": "v",
         "showlegend": false,
         "type": "scatter",
         "x": [
          "2020-01-01T00:00:00",
          "2020-01-02T00:00:00",
          "2020-01-03T00:00:00",
          "2020-01-04T00:00:00",
          "2020-01-05T00:00:00",
          "2020-01-06T00:00:00",
          "2020-01-07T00:00:00",
          "2020-01-08T00:00:00",
          "2020-01-09T00:00:00",
          "2020-01-10T00:00:00",
          "2020-01-11T00:00:00",
          "2020-01-12T00:00:00",
          "2020-01-13T00:00:00",
          "2020-01-14T00:00:00",
          "2020-01-15T00:00:00",
          "2020-01-16T00:00:00",
          "2020-01-17T00:00:00",
          "2020-01-18T00:00:00",
          "2020-01-19T00:00:00",
          "2020-01-20T00:00:00",
          "2020-01-21T00:00:00",
          "2020-01-22T00:00:00",
          "2020-01-23T00:00:00",
          "2020-01-24T00:00:00",
          "2020-01-25T00:00:00",
          "2020-01-26T00:00:00",
          "2020-01-27T00:00:00",
          "2020-01-28T00:00:00",
          "2020-01-29T00:00:00",
          "2020-01-30T00:00:00",
          "2020-01-31T00:00:00",
          "2020-02-01T00:00:00",
          "2020-02-02T00:00:00",
          "2020-02-03T00:00:00",
          "2020-02-04T00:00:00",
          "2020-02-05T00:00:00",
          "2020-02-06T00:00:00",
          "2020-02-07T00:00:00",
          "2020-02-08T00:00:00",
          "2020-02-09T00:00:00",
          "2020-02-10T00:00:00",
          "2020-02-11T00:00:00",
          "2020-02-12T00:00:00",
          "2020-02-13T00:00:00",
          "2020-02-14T00:00:00",
          "2020-02-15T00:00:00",
          "2020-02-16T00:00:00",
          "2020-02-17T00:00:00",
          "2020-02-18T00:00:00",
          "2020-02-19T00:00:00",
          "2020-02-20T00:00:00",
          "2020-02-21T00:00:00",
          "2020-02-22T00:00:00",
          "2020-02-23T00:00:00",
          "2020-02-24T00:00:00",
          "2020-02-25T00:00:00",
          "2020-02-26T00:00:00",
          "2020-02-27T00:00:00",
          "2020-02-28T00:00:00",
          "2020-02-29T00:00:00",
          "2020-03-01T00:00:00",
          "2020-03-02T00:00:00",
          "2020-03-03T00:00:00",
          "2020-03-04T00:00:00",
          "2020-03-05T00:00:00",
          "2020-03-06T00:00:00",
          "2020-03-07T00:00:00",
          "2020-03-08T00:00:00",
          "2020-03-09T00:00:00",
          "2020-03-10T00:00:00",
          "2020-03-11T00:00:00",
          "2020-03-12T00:00:00",
          "2020-03-13T00:00:00",
          "2020-03-14T00:00:00",
          "2020-03-15T00:00:00",
          "2020-03-16T00:00:00",
          "2020-03-17T00:00:00",
          "2020-03-18T00:00:00",
          "2020-03-19T00:00:00",
          "2020-03-20T00:00:00",
          "2020-03-21T00:00:00",
          "2020-03-22T00:00:00",
          "2020-03-23T00:00:00",
          "2020-03-24T00:00:00",
          "2020-03-25T00:00:00",
          "2020-03-26T00:00:00",
          "2020-03-27T00:00:00",
          "2020-03-28T00:00:00",
          "2020-03-29T00:00:00",
          "2020-03-30T00:00:00",
          "2020-03-31T00:00:00",
          "2020-04-01T00:00:00",
          "2020-04-02T00:00:00",
          "2020-04-03T00:00:00",
          "2020-04-04T00:00:00",
          "2020-04-05T00:00:00",
          "2020-04-06T00:00:00",
          "2020-04-07T00:00:00",
          "2020-04-08T00:00:00",
          "2020-04-09T00:00:00",
          "2020-04-10T00:00:00",
          "2020-04-11T00:00:00",
          "2020-04-12T00:00:00",
          "2020-04-13T00:00:00",
          "2020-04-14T00:00:00",
          "2020-04-15T00:00:00",
          "2020-04-16T00:00:00",
          "2020-04-17T00:00:00",
          "2020-04-18T00:00:00",
          "2020-04-19T00:00:00",
          "2020-04-20T00:00:00",
          "2020-04-21T00:00:00",
          "2020-04-22T00:00:00",
          "2020-04-23T00:00:00",
          "2020-04-24T00:00:00",
          "2020-04-25T00:00:00",
          "2020-04-26T00:00:00",
          "2020-04-27T00:00:00",
          "2020-04-28T00:00:00",
          "2020-04-29T00:00:00",
          "2020-04-30T00:00:00",
          "2020-05-01T00:00:00",
          "2020-05-02T00:00:00",
          "2020-05-03T00:00:00",
          "2020-05-04T00:00:00",
          "2020-05-05T00:00:00",
          "2020-05-06T00:00:00",
          "2020-05-07T00:00:00",
          "2020-05-08T00:00:00",
          "2020-05-09T00:00:00",
          "2020-05-10T00:00:00",
          "2020-05-11T00:00:00",
          "2020-05-12T00:00:00",
          "2020-05-13T00:00:00",
          "2020-05-14T00:00:00",
          "2020-05-15T00:00:00",
          "2020-05-16T00:00:00",
          "2020-05-17T00:00:00",
          "2020-05-18T00:00:00",
          "2020-05-19T00:00:00",
          "2020-05-20T00:00:00",
          "2020-05-21T00:00:00",
          "2020-05-22T00:00:00",
          "2020-05-23T00:00:00",
          "2020-05-24T00:00:00",
          "2020-05-25T00:00:00",
          "2020-05-26T00:00:00",
          "2020-05-27T00:00:00",
          "2020-05-28T00:00:00",
          "2020-05-29T00:00:00",
          "2020-05-30T00:00:00",
          "2020-05-31T00:00:00",
          "2020-06-01T00:00:00",
          "2020-06-02T00:00:00",
          "2020-06-03T00:00:00",
          "2020-06-04T00:00:00",
          "2020-06-05T00:00:00",
          "2020-06-06T00:00:00",
          "2020-06-07T00:00:00",
          "2020-06-08T00:00:00",
          "2020-06-09T00:00:00",
          "2020-06-10T00:00:00",
          "2020-06-11T00:00:00",
          "2020-06-12T00:00:00",
          "2020-06-13T00:00:00",
          "2020-06-14T00:00:00",
          "2020-06-15T00:00:00",
          "2020-06-16T00:00:00",
          "2020-06-17T00:00:00",
          "2020-06-18T00:00:00",
          "2020-06-19T00:00:00",
          "2020-06-20T00:00:00",
          "2020-06-21T00:00:00",
          "2020-06-22T00:00:00",
          "2020-06-23T00:00:00",
          "2020-06-24T00:00:00",
          "2020-06-25T00:00:00",
          "2020-06-26T00:00:00",
          "2020-06-27T00:00:00",
          "2020-06-28T00:00:00",
          "2020-06-29T00:00:00",
          "2020-06-30T00:00:00",
          "2020-07-01T00:00:00",
          "2020-07-02T00:00:00",
          "2020-07-03T00:00:00",
          "2020-07-04T00:00:00",
          "2020-07-05T00:00:00",
          "2020-07-06T00:00:00",
          "2020-07-07T00:00:00",
          "2020-07-08T00:00:00",
          "2020-07-09T00:00:00",
          "2020-07-10T00:00:00",
          "2020-07-11T00:00:00",
          "2020-07-12T00:00:00",
          "2020-07-13T00:00:00",
          "2020-07-14T00:00:00",
          "2020-07-15T00:00:00",
          "2020-07-16T00:00:00",
          "2020-07-17T00:00:00",
          "2020-07-18T00:00:00",
          "2020-07-19T00:00:00",
          "2020-07-20T00:00:00",
          "2020-07-21T00:00:00",
          "2020-07-22T00:00:00",
          "2020-07-23T00:00:00",
          "2020-07-24T00:00:00",
          "2020-07-25T00:00:00",
          "2020-07-26T00:00:00",
          "2020-07-27T00:00:00",
          "2020-07-28T00:00:00",
          "2020-07-29T00:00:00",
          "2020-07-30T00:00:00",
          "2020-07-31T00:00:00",
          "2020-08-01T00:00:00",
          "2020-08-02T00:00:00",
          "2020-08-03T00:00:00",
          "2020-08-04T00:00:00",
          "2020-08-05T00:00:00",
          "2020-08-06T00:00:00",
          "2020-08-07T00:00:00",
          "2020-08-08T00:00:00",
          "2020-08-09T00:00:00",
          "2020-08-10T00:00:00",
          "2020-08-11T00:00:00",
          "2020-08-12T00:00:00",
          "2020-08-13T00:00:00",
          "2020-08-14T00:00:00",
          "2020-08-15T00:00:00",
          "2020-08-16T00:00:00",
          "2020-08-17T00:00:00",
          "2020-08-18T00:00:00",
          "2020-08-19T00:00:00",
          "2020-08-20T00:00:00",
          "2020-08-21T00:00:00",
          "2020-08-22T00:00:00",
          "2020-08-23T00:00:00",
          "2020-08-24T00:00:00",
          "2020-08-25T00:00:00",
          "2020-08-26T00:00:00",
          "2020-08-27T00:00:00",
          "2020-08-28T00:00:00",
          "2020-08-29T00:00:00",
          "2020-08-30T00:00:00",
          "2020-08-31T00:00:00",
          "2020-09-01T00:00:00",
          "2020-09-02T00:00:00",
          "2020-09-03T00:00:00",
          "2020-09-04T00:00:00",
          "2020-09-05T00:00:00",
          "2020-09-06T00:00:00",
          "2020-09-07T00:00:00",
          "2020-09-08T00:00:00",
          "2020-09-09T00:00:00",
          "2020-09-10T00:00:00",
          "2020-09-11T00:00:00",
          "2020-09-12T00:00:00",
          "2020-09-13T00:00:00",
          "2020-09-14T00:00:00",
          "2020-09-15T00:00:00",
          "2020-09-16T00:00:00",
          "2020-09-17T00:00:00",
          "2020-09-18T00:00:00",
          "2020-09-19T00:00:00",
          "2020-09-20T00:00:00",
          "2020-09-21T00:00:00",
          "2020-09-22T00:00:00",
          "2020-09-23T00:00:00",
          "2020-09-24T00:00:00",
          "2020-09-25T00:00:00",
          "2020-09-26T00:00:00",
          "2020-09-27T00:00:00",
          "2020-09-28T00:00:00",
          "2020-09-29T00:00:00",
          "2020-09-30T00:00:00",
          "2020-10-01T00:00:00",
          "2020-10-02T00:00:00",
          "2020-10-03T00:00:00",
          "2020-10-04T00:00:00",
          "2020-10-05T00:00:00",
          "2020-10-06T00:00:00",
          "2020-10-07T00:00:00",
          "2020-10-08T00:00:00",
          "2020-10-09T00:00:00",
          "2020-10-10T00:00:00",
          "2020-10-11T00:00:00",
          "2020-10-12T00:00:00",
          "2020-10-13T00:00:00",
          "2020-10-14T00:00:00",
          "2020-10-15T00:00:00",
          "2020-10-16T00:00:00",
          "2020-10-17T00:00:00",
          "2020-10-18T00:00:00",
          "2020-10-19T00:00:00",
          "2020-10-20T00:00:00",
          "2020-10-21T00:00:00",
          "2020-10-22T00:00:00",
          "2020-10-23T00:00:00",
          "2020-10-24T00:00:00",
          "2020-10-25T00:00:00",
          "2020-10-26T00:00:00",
          "2020-10-27T00:00:00",
          "2020-10-28T00:00:00",
          "2020-10-29T00:00:00",
          "2020-10-30T00:00:00",
          "2020-10-31T00:00:00",
          "2020-11-01T00:00:00",
          "2020-11-02T00:00:00",
          "2020-11-03T00:00:00",
          "2020-11-04T00:00:00",
          "2020-11-05T00:00:00",
          "2020-11-06T00:00:00",
          "2020-11-07T00:00:00",
          "2020-11-08T00:00:00",
          "2020-11-09T00:00:00",
          "2020-11-10T00:00:00",
          "2020-11-11T00:00:00",
          "2020-11-12T00:00:00",
          "2020-11-13T00:00:00",
          "2020-11-14T00:00:00",
          "2020-11-15T00:00:00",
          "2020-11-16T00:00:00",
          "2020-11-17T00:00:00",
          "2020-11-18T00:00:00",
          "2020-11-19T00:00:00",
          "2020-11-20T00:00:00",
          "2020-11-21T00:00:00",
          "2020-11-22T00:00:00",
          "2020-11-23T00:00:00",
          "2020-11-24T00:00:00",
          "2020-11-25T00:00:00",
          "2020-11-26T00:00:00",
          "2020-11-27T00:00:00",
          "2020-11-28T00:00:00",
          "2020-11-29T00:00:00",
          "2020-11-30T00:00:00",
          "2020-12-01T00:00:00",
          "2020-12-02T00:00:00",
          "2020-12-03T00:00:00",
          "2020-12-04T00:00:00",
          "2020-12-05T00:00:00",
          "2020-12-06T00:00:00",
          "2020-12-07T00:00:00",
          "2020-12-08T00:00:00",
          "2020-12-09T00:00:00",
          "2020-12-10T00:00:00",
          "2020-12-11T00:00:00",
          "2020-12-12T00:00:00",
          "2020-12-13T00:00:00",
          "2020-12-14T00:00:00",
          "2020-12-15T00:00:00",
          "2020-12-16T00:00:00",
          "2020-12-17T00:00:00",
          "2020-12-18T00:00:00",
          "2020-12-19T00:00:00",
          "2020-12-20T00:00:00",
          "2020-12-21T00:00:00",
          "2020-12-22T00:00:00",
          "2020-12-23T00:00:00",
          "2020-12-24T00:00:00",
          "2020-12-25T00:00:00",
          "2020-12-26T00:00:00",
          "2020-12-27T00:00:00",
          "2020-12-28T00:00:00",
          "2020-12-29T00:00:00",
          "2020-12-30T00:00:00",
          "2020-12-31T00:00:00"
         ],
         "xaxis": "x",
         "y": [
          -24.118861920264308,
          -10.36035531599057,
          -0.09877662623206346,
          1.0170079986583127,
          1.2352089985772756,
          1.3270212385120135,
          0.6395717976005154,
          6.649523707378589,
          1.9299994151894169,
          0.6282475311715986,
          0.21434697729569305,
          0.8058087468284729,
          -1.683773924958493,
          1.1006758957532536,
          5.4867497393895395,
          1.436021097975711,
          -0.5891362154340464,
          -0.8119292846224823,
          -1.7037836721617123,
          0,
          -1.1033776775783608,
          6.5010705629840375,
          4.068290947007467,
          0.8226295958732326,
          -0.41942569133152363,
          -0.33723407324401955,
          0.35675268644647956,
          -0.6368700157753919,
          5.481517910512186,
          2.926043855818078,
          -0.7629642853787054,
          -0.9855052138572694,
          0.5755053651756452,
          -0.31431515475328026,
          -0.4523103066720645,
          -0.39669779187310433,
          0.5538405665516616,
          -0.0753922121571245,
          -0.1259272894077922,
          -0.49949807937765084,
          1.036369881311297,
          0.5750567814440704,
          1.6649724841389517,
          -1.3637189032140977,
          3.579691294789316,
          0.974402575812021,
          0.03527828205364914,
          -0.4150669770637027,
          -0.2277230827583123,
          -0.824028029449821,
          0,
          -1.8750215817401124,
          0.13702992745302456,
          -0.11128556785164347,
          -0.3069877494943471,
          0.1049766079862739,
          -0.4442466628160264,
          0.8098783366624362,
          -1.629277500892032,
          0,
          1.5531844421311871,
          0.3585953291284269,
          1.147541381074415,
          0.3034654136219928,
          0.1730870585980525,
          0.298016217348364,
          -0.2719317613973014,
          -0.020701239708499655,
          0.2703163431800117,
          -0.1999044725746499,
          -0.46151714434934393,
          0.650424033347704,
          -2.160916788845339,
          0.015688370849854374,
          0.002365855966718873,
          -0.14246401870295536,
          1.5942654450147506,
          -0.06197211407131984,
          -0.14793253797135217,
          1.7055144968732234,
          0.5769834168109673,
          -0.11710987035106725,
          -0.10349950076710289,
          -0.5144903466384724,
          0.22002384479868753,
          -0.6755785539744208,
          0.1573860746237352,
          -0.32074002626348863,
          -1.41773918803821,
          -0.3829481528382973,
          -2.027412006876027,
          -3.8242324870812348,
          1.5962168744647736,
          0.5978217830658588,
          1.5367636674417162,
          0.25352573152426755,
          0.49570707148894916,
          0.17815018675054617,
          1.3613044456516112,
          -0.4478368804150132,
          -0.3255820208199081,
          -0.15855382603922324,
          0.3973785498803616,
          -2.461815693571904,
          0.2211519559661883,
          1.3631690759762254,
          0.44048936839102176,
          0.1256606147359088,
          -0.7822862326067712,
          -0.2868139870116468,
          1.287723741613075,
          -0.25186750540594227,
          1.0368587691699518,
          -0.30992046619358826,
          -0.3979003769818431,
          -0.5959236087957376,
          -0.3640902943930148,
          0.67838488046988,
          -0.14743463731079223,
          0.06290019628341251,
          -1.278948896247095,
          -0.12825983934513235,
          -0.7656463822342293,
          -1.2122181052156296,
          -1.4740063854885825,
          1.9850712814072495,
          0.3702622562952209,
          -0.36901140485674233,
          -0.6180756780206577,
          -1.4533423409378239,
          0.4464705550435531,
          -0.29042890260992826,
          1.4446651785028795,
          -1.799075112538228,
          0.9786045066880398,
          1.1042370543618802,
          1.0266359484257017,
          0.6645334512009461,
          0.6684571135344549,
          1.4127320906039802,
          3.1670481955476255,
          2.7879700191300496,
          2.3290713657550746,
          3.29354974680549,
          2.8104839468091374,
          1.095978174564006,
          -4.84246855051416,
          -1.7382353393046521,
          -3.39756312096138,
          -2.6869729027512292,
          -2.1011969720590913,
          -2.709269847837927,
          0.471786067358802,
          0.7285416130801606,
          -0.18133936514938126,
          -0.6126297312249989,
          -0.6125600846825304,
          -1.1899661981853793,
          -1.489403094388,
          -0.9272712986841011,
          -1.872973255487555,
          -0.3927292536663741,
          -1.2910121570069983,
          -0.06767660992242588,
          -2.5813200498132116,
          -0.2448960908175524,
          -0.8440080354912673,
          -0.3743127713826358,
          0.24321679750241693,
          0.7788942540255411,
          -0.6050404613578148,
          1.325742750400269,
          -0.394809118374073,
          -0.6053591050723839,
          -0.5698668235797183,
          0.3308518213133869,
          1.124747634206472,
          1.2852771559627711,
          2.4455434975982753,
          2.1291083035795944,
          1.9048523718889023,
          2.0886112373697325,
          0.8555307761939613,
          0.8773495852590107,
          -1.7652957752791285,
          -22.275043093503722,
          -7.4242859605769915,
          1.4811008878545675,
          3.412693373965671,
          1.7630150256704669,
          0.5543269413158775,
          1.3664095194877257,
          7.809439277469266,
          2.698120797655291,
          -2.087012338429618,
          -0.8593457910961542,
          -0.09279026450896459,
          0.2909993282914219,
          0.9966554059732128,
          7.501429102552983,
          2.273432561347035,
          0.32857383412417823,
          -0.8345149161605311,
          -0.9583033674471738,
          -0.45937278933121556,
          0.14173907684723097,
          6.964174713481473,
          2.452732601574618,
          0.2773376164508567,
          -1.718832666708986,
          -1.5674521699082744,
          -1.2633030655351096,
          -0.7395082270290257,
          -0.8238073951082556,
          -1.166702202052378,
          -1.269448982081113,
          -0.5498947344365455,
          -0.29321490423360236,
          -0.5829954056816838,
          -0.8417496754240963,
          0.8398267742274134,
          0.2617098301923908,
          -0.08276041316368044,
          0.10540839325044428,
          0.6835965408643287,
          -1.6636150208373157,
          -0.16336178886008085,
          0.3327268338671249,
          0.6334504712212903,
          0.5841106846429407,
          0.5596071609149199,
          -0.21776779437232838,
          1.2991024791345964,
          -0.5324846094904964,
          -0.5093729603704465,
          -0.4856379964229043,
          -0.33183961807093876,
          -0.1151208197287875,
          -0.17261384225838247,
          0.9475079473843878,
          1.5375960737746888,
          0.16062674738413438,
          0.757179897061526,
          1.0999383286728537,
          -7.100367113850613,
          -6.231947137261094,
          -7.369143622667508,
          -3.81094012853195,
          -4.189849105427959,
          0,
          -1.4075931832272985,
          3.0218908629441814,
          4.381299071284434,
          3.3360228186451915,
          -2.1635235202867826,
          2.3415044454028466,
          -0.8011483668273688,
          2.148255310592136,
          3.66094089920233,
          2.5176501178558794,
          2.8510850896871878,
          3.9110116280852405,
          2.025946473010153,
          1.9029305021396368,
          1.1405973333929131,
          1.8791923495286584,
          1.926392366783304,
          1.1820357143351443,
          2.0634520207334766,
          -0.17760181298501135,
          -1.1017821353122828,
          -1.8812594607577504,
          -1.461656997824495,
          -2.593394418662477,
          3.713188220230465,
          3.821825679719315,
          4.593368720138787,
          1.638695921315071,
          2.2037784136349736,
          1.3900175610374927,
          1.1538794015685085,
          0.03215482432245084,
          -0.10140985280453199,
          3.896006593241937,
          -0.04298782584771992,
          0.12144477817074002,
          0,
          -0.26678431010174114,
          -0.28071855622526,
          -0.052565657646384094,
          1.446594164058768,
          -0.9434394846046288,
          -1.3963187421875614,
          -0.7024414995461079,
          -0.8092954211466061,
          -0.9735509220222437,
          -0.5677556208620607,
          1.342278011192372,
          -0.652268610862738,
          -0.9289044496182012,
          -0.6875760614913686,
          -0.07779967032017748,
          -2.4910735663054595,
          -3.1000945484063385,
          -11.278247488631848,
          3.5244955316927333,
          3.7216728057718558,
          3.0593177904520146,
          2.3931101881260757,
          2.345540314626029,
          2.9648624464769355,
          2.0468167568776714,
          1.5748595616137835,
          1.7162723401976923,
          2.09572428280066,
          3.0338382604446608,
          1.5492903183510094,
          -0.011410246401266155,
          1.920724709683231,
          2.490953571650885,
          3.174081659225513,
          3.02328989631295,
          3.150500855118496,
          3.2544334615716957,
          6.851552694319503,
          4.635480675086351,
          -5.699866461680844,
          -9.871973189937467,
          -8.178331969565575,
          -8.577449303689216,
          -7.149264094548717,
          -9.805004894395172,
          -8.60302214164727,
          -1.890442203276574,
          1.2599463847424066,
          -0.6102729474070058,
          0.8439272501240179,
          7.6698262939221165,
          10.26212462322323,
          0.9785668711584993,
          -4.182885562298216,
          -5.29189071742769,
          -4.004894325991071,
          -2.3877403429500452,
          5.998341101292251,
          9.579097553730746,
          4.384729531558155,
          -4.605059588987859,
          -3.36950281235567,
          -1.5542287116667604,
          1.7565879519224372,
          10.910216827375104,
          17.46052872917683,
          8.530376558578109,
          5.454776656093483,
          3.397417726546074,
          0.4948032812532797,
          -7.059822010244277,
          -24.1563593844202,
          -37.30175090613086,
          -13.893672961294795,
          3.3331684951926217,
          5.263975803237255,
          5.674592703811557,
          6.847047151147834,
          -0.42202483816927316
         ],
         "yaxis": "y"
        },
        {
         "marker": {
          "color": "black"
         },
         "mode": "markers",
         "name": "Friday the 13th",
         "showlegend": true,
         "type": "scatter",
         "x": [
          "2020-01-13T00:00:00",
          "2020-02-13T00:00:00",
          "2020-03-13T00:00:00",
          "2020-04-13T00:00:00",
          "2020-05-13T00:00:00",
          "2020-06-13T00:00:00",
          "2020-07-13T00:00:00",
          "2020-08-13T00:00:00",
          "2020-09-13T00:00:00",
          "2020-10-13T00:00:00",
          "2020-11-13T00:00:00",
          "2020-12-13T00:00:00"
         ],
         "y": [
          -1.683773924958493,
          -1.3637189032140977,
          -2.160916788845339,
          -2.461815693571904,
          -1.799075112538228,
          -2.5813200498132116,
          -2.087012338429618,
          -1.6636150208373157,
          -0.8011483668273688,
          0,
          -0.011410246401266155,
          -4.605059588987859
         ]
        },
        {
         "marker": {
          "color": "red"
         },
         "mode": "markers+text",
         "showlegend": false,
         "text": [
          "Jan 1",
          "April 1",
          "July 4",
          "Oct 31",
          "Dec 25",
          "Dec 31"
         ],
         "textposition": "bottom center",
         "type": "scatter",
         "x": [
          "2020-01-01T00:00:00",
          "2020-04-01T00:00:00",
          "2020-07-04T00:00:00",
          "2020-10-31T00:00:00",
          "2020-12-25T00:00:00",
          "2020-12-31T00:00:00"
         ],
         "y": [
          -24.118861920264308,
          -3.8242324870812348,
          -22.275043093503722,
          -11.278247488631848,
          -37.30175090613086,
          -0.42202483816927316
         ]
        },
        {
         "marker": {
          "color": "red"
         },
         "mode": "markers+text",
         "showlegend": false,
         "text": [
          "Feb 14",
          "Feb 29"
         ],
         "textposition": "top center",
         "type": "scatter",
         "x": [
          "2020-02-14T00:00:00",
          "2020-02-29T00:00:00"
         ],
         "y": [
          3.579691294789316,
          0
         ]
        }
       ],
       "layout": {
        "annotations": [
         {
          "showarrow": false,
          "text": "Thanksgiving",
          "x": "2020-11-27T00:00:00",
          "xshift": 2,
          "y": -10,
          "yshift": -5
         },
         {
          "showarrow": false,
          "text": "Labor Day",
          "x": "2020-09-03T00:00:00",
          "xshift": 2,
          "y": -8,
          "yshift": -5
         },
         {
          "showarrow": false,
          "text": "Memorial Day",
          "x": "2020-05-26T00:00:00",
          "xshift": 2,
          "y": -5,
          "yshift": -5
         }
        ],
        "paper_bgcolor": "rgba(240,240,240,240)",
        "plot_bgcolor": "rgba(0,0,0,0)",
        "template": {
         "data": {
          "bar": [
           {
            "error_x": {
             "color": "#2a3f5f"
            },
            "error_y": {
             "color": "#2a3f5f"
            },
            "marker": {
             "line": {
              "color": "#E5ECF6",
              "width": 0.5
             },
             "pattern": {
              "fillmode": "overlay",
              "size": 10,
              "solidity": 0.2
             }
            },
            "type": "bar"
           }
          ],
          "barpolar": [
           {
            "marker": {
             "line": {
              "color": "#E5ECF6",
              "width": 0.5
             },
             "pattern": {
              "fillmode": "overlay",
              "size": 10,
              "solidity": 0.2
             }
            },
            "type": "barpolar"
           }
          ],
          "carpet": [
           {
            "aaxis": {
             "endlinecolor": "#2a3f5f",
             "gridcolor": "white",
             "linecolor": "white",
             "minorgridcolor": "white",
             "startlinecolor": "#2a3f5f"
            },
            "baxis": {
             "endlinecolor": "#2a3f5f",
             "gridcolor": "white",
             "linecolor": "white",
             "minorgridcolor": "white",
             "startlinecolor": "#2a3f5f"
            },
            "type": "carpet"
           }
          ],
          "choropleth": [
           {
            "colorbar": {
             "outlinewidth": 0,
             "ticks": ""
            },
            "type": "choropleth"
           }
          ],
          "contour": [
           {
            "colorbar": {
             "outlinewidth": 0,
             "ticks": ""
            },
            "colorscale": [
             [
              0,
              "#0d0887"
             ],
             [
              0.1111111111111111,
              "#46039f"
             ],
             [
              0.2222222222222222,
              "#7201a8"
             ],
             [
              0.3333333333333333,
              "#9c179e"
             ],
             [
              0.4444444444444444,
              "#bd3786"
             ],
             [
              0.5555555555555556,
              "#d8576b"
             ],
             [
              0.6666666666666666,
              "#ed7953"
             ],
             [
              0.7777777777777778,
              "#fb9f3a"
             ],
             [
              0.8888888888888888,
              "#fdca26"
             ],
             [
              1,
              "#f0f921"
             ]
            ],
            "type": "contour"
           }
          ],
          "contourcarpet": [
           {
            "colorbar": {
             "outlinewidth": 0,
             "ticks": ""
            },
            "type": "contourcarpet"
           }
          ],
          "heatmap": [
           {
            "colorbar": {
             "outlinewidth": 0,
             "ticks": ""
            },
            "colorscale": [
             [
              0,
              "#0d0887"
             ],
             [
              0.1111111111111111,
              "#46039f"
             ],
             [
              0.2222222222222222,
              "#7201a8"
             ],
             [
              0.3333333333333333,
              "#9c179e"
             ],
             [
              0.4444444444444444,
              "#bd3786"
             ],
             [
              0.5555555555555556,
              "#d8576b"
             ],
             [
              0.6666666666666666,
              "#ed7953"
             ],
             [
              0.7777777777777778,
              "#fb9f3a"
             ],
             [
              0.8888888888888888,
              "#fdca26"
             ],
             [
              1,
              "#f0f921"
             ]
            ],
            "type": "heatmap"
           }
          ],
          "heatmapgl": [
           {
            "colorbar": {
             "outlinewidth": 0,
             "ticks": ""
            },
            "colorscale": [
             [
              0,
              "#0d0887"
             ],
             [
              0.1111111111111111,
              "#46039f"
             ],
             [
              0.2222222222222222,
              "#7201a8"
             ],
             [
              0.3333333333333333,
              "#9c179e"
             ],
             [
              0.4444444444444444,
              "#bd3786"
             ],
             [
              0.5555555555555556,
              "#d8576b"
             ],
             [
              0.6666666666666666,
              "#ed7953"
             ],
             [
              0.7777777777777778,
              "#fb9f3a"
             ],
             [
              0.8888888888888888,
              "#fdca26"
             ],
             [
              1,
              "#f0f921"
             ]
            ],
            "type": "heatmapgl"
           }
          ],
          "histogram": [
           {
            "marker": {
             "pattern": {
              "fillmode": "overlay",
              "size": 10,
              "solidity": 0.2
             }
            },
            "type": "histogram"
           }
          ],
          "histogram2d": [
           {
            "colorbar": {
             "outlinewidth": 0,
             "ticks": ""
            },
            "colorscale": [
             [
              0,
              "#0d0887"
             ],
             [
              0.1111111111111111,
              "#46039f"
             ],
             [
              0.2222222222222222,
              "#7201a8"
             ],
             [
              0.3333333333333333,
              "#9c179e"
             ],
             [
              0.4444444444444444,
              "#bd3786"
             ],
             [
              0.5555555555555556,
              "#d8576b"
             ],
             [
              0.6666666666666666,
              "#ed7953"
             ],
             [
              0.7777777777777778,
              "#fb9f3a"
             ],
             [
              0.8888888888888888,
              "#fdca26"
             ],
             [
              1,
              "#f0f921"
             ]
            ],
            "type": "histogram2d"
           }
          ],
          "histogram2dcontour": [
           {
            "colorbar": {
             "outlinewidth": 0,
             "ticks": ""
            },
            "colorscale": [
             [
              0,
              "#0d0887"
             ],
             [
              0.1111111111111111,
              "#46039f"
             ],
             [
              0.2222222222222222,
              "#7201a8"
             ],
             [
              0.3333333333333333,
              "#9c179e"
             ],
             [
              0.4444444444444444,
              "#bd3786"
             ],
             [
              0.5555555555555556,
              "#d8576b"
             ],
             [
              0.6666666666666666,
              "#ed7953"
             ],
             [
              0.7777777777777778,
              "#fb9f3a"
             ],
             [
              0.8888888888888888,
              "#fdca26"
             ],
             [
              1,
              "#f0f921"
             ]
            ],
            "type": "histogram2dcontour"
           }
          ],
          "mesh3d": [
           {
            "colorbar": {
             "outlinewidth": 0,
             "ticks": ""
            },
            "type": "mesh3d"
           }
          ],
          "parcoords": [
           {
            "line": {
             "colorbar": {
              "outlinewidth": 0,
              "ticks": ""
             }
            },
            "type": "parcoords"
           }
          ],
          "pie": [
           {
            "automargin": true,
            "type": "pie"
           }
          ],
          "scatter": [
           {
            "fillpattern": {
             "fillmode": "overlay",
             "size": 10,
             "solidity": 0.2
            },
            "type": "scatter"
           }
          ],
          "scatter3d": [
           {
            "line": {
             "colorbar": {
              "outlinewidth": 0,
              "ticks": ""
             }
            },
            "marker": {
             "colorbar": {
              "outlinewidth": 0,
              "ticks": ""
             }
            },
            "type": "scatter3d"
           }
          ],
          "scattercarpet": [
           {
            "marker": {
             "colorbar": {
              "outlinewidth": 0,
              "ticks": ""
             }
            },
            "type": "scattercarpet"
           }
          ],
          "scattergeo": [
           {
            "marker": {
             "colorbar": {
              "outlinewidth": 0,
              "ticks": ""
             }
            },
            "type": "scattergeo"
           }
          ],
          "scattergl": [
           {
            "marker": {
             "colorbar": {
              "outlinewidth": 0,
              "ticks": ""
             }
            },
            "type": "scattergl"
           }
          ],
          "scattermapbox": [
           {
            "marker": {
             "colorbar": {
              "outlinewidth": 0,
              "ticks": ""
             }
            },
            "type": "scattermapbox"
           }
          ],
          "scatterpolar": [
           {
            "marker": {
             "colorbar": {
              "outlinewidth": 0,
              "ticks": ""
             }
            },
            "type": "scatterpolar"
           }
          ],
          "scatterpolargl": [
           {
            "marker": {
             "colorbar": {
              "outlinewidth": 0,
              "ticks": ""
             }
            },
            "type": "scatterpolargl"
           }
          ],
          "scatterternary": [
           {
            "marker": {
             "colorbar": {
              "outlinewidth": 0,
              "ticks": ""
             }
            },
            "type": "scatterternary"
           }
          ],
          "surface": [
           {
            "colorbar": {
             "outlinewidth": 0,
             "ticks": ""
            },
            "colorscale": [
             [
              0,
              "#0d0887"
             ],
             [
              0.1111111111111111,
              "#46039f"
             ],
             [
              0.2222222222222222,
              "#7201a8"
             ],
             [
              0.3333333333333333,
              "#9c179e"
             ],
             [
              0.4444444444444444,
              "#bd3786"
             ],
             [
              0.5555555555555556,
              "#d8576b"
             ],
             [
              0.6666666666666666,
              "#ed7953"
             ],
             [
              0.7777777777777778,
              "#fb9f3a"
             ],
             [
              0.8888888888888888,
              "#fdca26"
             ],
             [
              1,
              "#f0f921"
             ]
            ],
            "type": "surface"
           }
          ],
          "table": [
           {
            "cells": {
             "fill": {
              "color": "#EBF0F8"
             },
             "line": {
              "color": "white"
             }
            },
            "header": {
             "fill": {
              "color": "#C8D4E3"
             },
             "line": {
              "color": "white"
             }
            },
            "type": "table"
           }
          ]
         },
         "layout": {
          "annotationdefaults": {
           "arrowcolor": "#2a3f5f",
           "arrowhead": 0,
           "arrowwidth": 1
          },
          "autotypenumbers": "strict",
          "coloraxis": {
           "colorbar": {
            "outlinewidth": 0,
            "ticks": ""
           }
          },
          "colorscale": {
           "diverging": [
            [
             0,
             "#8e0152"
            ],
            [
             0.1,
             "#c51b7d"
            ],
            [
             0.2,
             "#de77ae"
            ],
            [
             0.3,
             "#f1b6da"
            ],
            [
             0.4,
             "#fde0ef"
            ],
            [
             0.5,
             "#f7f7f7"
            ],
            [
             0.6,
             "#e6f5d0"
            ],
            [
             0.7,
             "#b8e186"
            ],
            [
             0.8,
             "#7fbc41"
            ],
            [
             0.9,
             "#4d9221"
            ],
            [
             1,
             "#276419"
            ]
           ],
           "sequential": [
            [
             0,
             "#0d0887"
            ],
            [
             0.1111111111111111,
             "#46039f"
            ],
            [
             0.2222222222222222,
             "#7201a8"
            ],
            [
             0.3333333333333333,
             "#9c179e"
            ],
            [
             0.4444444444444444,
             "#bd3786"
            ],
            [
             0.5555555555555556,
             "#d8576b"
            ],
            [
             0.6666666666666666,
             "#ed7953"
            ],
            [
             0.7777777777777778,
             "#fb9f3a"
            ],
            [
             0.8888888888888888,
             "#fdca26"
            ],
            [
             1,
             "#f0f921"
            ]
           ],
           "sequentialminus": [
            [
             0,
             "#0d0887"
            ],
            [
             0.1111111111111111,
             "#46039f"
            ],
            [
             0.2222222222222222,
             "#7201a8"
            ],
            [
             0.3333333333333333,
             "#9c179e"
            ],
            [
             0.4444444444444444,
             "#bd3786"
            ],
            [
             0.5555555555555556,
             "#d8576b"
            ],
            [
             0.6666666666666666,
             "#ed7953"
            ],
            [
             0.7777777777777778,
             "#fb9f3a"
            ],
            [
             0.8888888888888888,
             "#fdca26"
            ],
            [
             1,
             "#f0f921"
            ]
           ]
          },
          "colorway": [
           "#636efa",
           "#EF553B",
           "#00cc96",
           "#ab63fa",
           "#FFA15A",
           "#19d3f3",
           "#FF6692",
           "#B6E880",
           "#FF97FF",
           "#FECB52"
          ],
          "font": {
           "color": "#2a3f5f"
          },
          "geo": {
           "bgcolor": "white",
           "lakecolor": "white",
           "landcolor": "#E5ECF6",
           "showlakes": true,
           "showland": true,
           "subunitcolor": "white"
          },
          "hoverlabel": {
           "align": "left"
          },
          "hovermode": "closest",
          "mapbox": {
           "style": "light"
          },
          "paper_bgcolor": "white",
          "plot_bgcolor": "#E5ECF6",
          "polar": {
           "angularaxis": {
            "gridcolor": "white",
            "linecolor": "white",
            "ticks": ""
           },
           "bgcolor": "#E5ECF6",
           "radialaxis": {
            "gridcolor": "white",
            "linecolor": "white",
            "ticks": ""
           }
          },
          "scene": {
           "xaxis": {
            "backgroundcolor": "#E5ECF6",
            "gridcolor": "white",
            "gridwidth": 2,
            "linecolor": "white",
            "showbackground": true,
            "ticks": "",
            "zerolinecolor": "white"
           },
           "yaxis": {
            "backgroundcolor": "#E5ECF6",
            "gridcolor": "white",
            "gridwidth": 2,
            "linecolor": "white",
            "showbackground": true,
            "ticks": "",
            "zerolinecolor": "white"
           },
           "zaxis": {
            "backgroundcolor": "#E5ECF6",
            "gridcolor": "white",
            "gridwidth": 2,
            "linecolor": "white",
            "showbackground": true,
            "ticks": "",
            "zerolinecolor": "white"
           }
          },
          "shapedefaults": {
           "line": {
            "color": "#2a3f5f"
           }
          },
          "ternary": {
           "aaxis": {
            "gridcolor": "white",
            "linecolor": "white",
            "ticks": ""
           },
           "baxis": {
            "gridcolor": "white",
            "linecolor": "white",
            "ticks": ""
           },
           "bgcolor": "#E5ECF6",
           "caxis": {
            "gridcolor": "white",
            "linecolor": "white",
            "ticks": ""
           }
          },
          "title": {
           "x": 0.05
          },
          "xaxis": {
           "automargin": true,
           "gridcolor": "white",
           "linecolor": "white",
           "ticks": "",
           "title": {
            "standoff": 15
           },
           "zerolinecolor": "white",
           "zerolinewidth": 2
          },
          "yaxis": {
           "automargin": true,
           "gridcolor": "white",
           "linecolor": "white",
           "ticks": "",
           "title": {
            "standoff": 15
           },
           "zerolinecolor": "white",
           "zerolinewidth": 2
          }
         }
        },
        "title": {
         "text": "Fewer babies are born on Fridays the 13th of each month <br> <sub>US births relative to average adjusted to month and day of the week</sub>",
         "x": 0.5
        },
        "xaxis": {
         "gridcolor": "#D2D2D2",
         "showgrid": true,
         "side": "bottom",
         "ticktext": [
          "Jan",
          "April",
          "July",
          "Oct",
          "Jan"
         ],
         "tickvals": [
          "2020-01-01",
          "2020-04-01",
          "2020-07-01",
          "2020-10-01",
          "2020-12-31"
         ],
         "title": {
          "text": "Day of the Year"
         }
        },
        "yaxis": {
         "gridcolor": "#D2D2D2",
         "showgrid": true,
         "title": {
          "text": "Percentage change from the average births per day"
         }
        }
       }
      },
      "text/html": [
       "<div>                            <div id=\"9e495459-5dc3-4e1c-92d4-ef1237376678\" class=\"plotly-graph-div\" style=\"height:525px; width:100%;\"></div>            <script type=\"text/javascript\">                require([\"plotly\"], function(Plotly) {                    window.PLOTLYENV=window.PLOTLYENV || {};                                    if (document.getElementById(\"9e495459-5dc3-4e1c-92d4-ef1237376678\")) {                    Plotly.newPlot(                        \"9e495459-5dc3-4e1c-92d4-ef1237376678\",                        [{\"hovertemplate\":\"date=%{x}<br>percentage_total_day_of_week=%{y}<extra></extra>\",\"legendgroup\":\"\",\"line\":{\"color\":\"black\",\"dash\":\"solid\"},\"marker\":{\"symbol\":\"circle\"},\"mode\":\"lines\",\"name\":\"\",\"orientation\":\"v\",\"showlegend\":false,\"x\":[\"2020-01-01T00:00:00\",\"2020-01-02T00:00:00\",\"2020-01-03T00:00:00\",\"2020-01-04T00:00:00\",\"2020-01-05T00:00:00\",\"2020-01-06T00:00:00\",\"2020-01-07T00:00:00\",\"2020-01-08T00:00:00\",\"2020-01-09T00:00:00\",\"2020-01-10T00:00:00\",\"2020-01-11T00:00:00\",\"2020-01-12T00:00:00\",\"2020-01-13T00:00:00\",\"2020-01-14T00:00:00\",\"2020-01-15T00:00:00\",\"2020-01-16T00:00:00\",\"2020-01-17T00:00:00\",\"2020-01-18T00:00:00\",\"2020-01-19T00:00:00\",\"2020-01-20T00:00:00\",\"2020-01-21T00:00:00\",\"2020-01-22T00:00:00\",\"2020-01-23T00:00:00\",\"2020-01-24T00:00:00\",\"2020-01-25T00:00:00\",\"2020-01-26T00:00:00\",\"2020-01-27T00:00:00\",\"2020-01-28T00:00:00\",\"2020-01-29T00:00:00\",\"2020-01-30T00:00:00\",\"2020-01-31T00:00:00\",\"2020-02-01T00:00:00\",\"2020-02-02T00:00:00\",\"2020-02-03T00:00:00\",\"2020-02-04T00:00:00\",\"2020-02-05T00:00:00\",\"2020-02-06T00:00:00\",\"2020-02-07T00:00:00\",\"2020-02-08T00:00:00\",\"2020-02-09T00:00:00\",\"2020-02-10T00:00:00\",\"2020-02-11T00:00:00\",\"2020-02-12T00:00:00\",\"2020-02-13T00:00:00\",\"2020-02-14T00:00:00\",\"2020-02-15T00:00:00\",\"2020-02-16T00:00:00\",\"2020-02-17T00:00:00\",\"2020-02-18T00:00:00\",\"2020-02-19T00:00:00\",\"2020-02-20T00:00:00\",\"2020-02-21T00:00:00\",\"2020-02-22T00:00:00\",\"2020-02-23T00:00:00\",\"2020-02-24T00:00:00\",\"2020-02-25T00:00:00\",\"2020-02-26T00:00:00\",\"2020-02-27T00:00:00\",\"2020-02-28T00:00:00\",\"2020-02-29T00:00:00\",\"2020-03-01T00:00:00\",\"2020-03-02T00:00:00\",\"2020-03-03T00:00:00\",\"2020-03-04T00:00:00\",\"2020-03-05T00:00:00\",\"2020-03-06T00:00:00\",\"2020-03-07T00:00:00\",\"2020-03-08T00:00:00\",\"2020-03-09T00:00:00\",\"2020-03-10T00:00:00\",\"2020-03-11T00:00:00\",\"2020-03-12T00:00:00\",\"2020-03-13T00:00:00\",\"2020-03-14T00:00:00\",\"2020-03-15T00:00:00\",\"2020-03-16T00:00:00\",\"2020-03-17T00:00:00\",\"2020-03-18T00:00:00\",\"2020-03-19T00:00:00\",\"2020-03-20T00:00:00\",\"2020-03-21T00:00:00\",\"2020-03-22T00:00:00\",\"2020-03-23T00:00:00\",\"2020-03-24T00:00:00\",\"2020-03-25T00:00:00\",\"2020-03-26T00:00:00\",\"2020-03-27T00:00:00\",\"2020-03-28T00:00:00\",\"2020-03-29T00:00:00\",\"2020-03-30T00:00:00\",\"2020-03-31T00:00:00\",\"2020-04-01T00:00:00\",\"2020-04-02T00:00:00\",\"2020-04-03T00:00:00\",\"2020-04-04T00:00:00\",\"2020-04-05T00:00:00\",\"2020-04-06T00:00:00\",\"2020-04-07T00:00:00\",\"2020-04-08T00:00:00\",\"2020-04-09T00:00:00\",\"2020-04-10T00:00:00\",\"2020-04-11T00:00:00\",\"2020-04-12T00:00:00\",\"2020-04-13T00:00:00\",\"2020-04-14T00:00:00\",\"2020-04-15T00:00:00\",\"2020-04-16T00:00:00\",\"2020-04-17T00:00:00\",\"2020-04-18T00:00:00\",\"2020-04-19T00:00:00\",\"2020-04-20T00:00:00\",\"2020-04-21T00:00:00\",\"2020-04-22T00:00:00\",\"2020-04-23T00:00:00\",\"2020-04-24T00:00:00\",\"2020-04-25T00:00:00\",\"2020-04-26T00:00:00\",\"2020-04-27T00:00:00\",\"2020-04-28T00:00:00\",\"2020-04-29T00:00:00\",\"2020-04-30T00:00:00\",\"2020-05-01T00:00:00\",\"2020-05-02T00:00:00\",\"2020-05-03T00:00:00\",\"2020-05-04T00:00:00\",\"2020-05-05T00:00:00\",\"2020-05-06T00:00:00\",\"2020-05-07T00:00:00\",\"2020-05-08T00:00:00\",\"2020-05-09T00:00:00\",\"2020-05-10T00:00:00\",\"2020-05-11T00:00:00\",\"2020-05-12T00:00:00\",\"2020-05-13T00:00:00\",\"2020-05-14T00:00:00\",\"2020-05-15T00:00:00\",\"2020-05-16T00:00:00\",\"2020-05-17T00:00:00\",\"2020-05-18T00:00:00\",\"2020-05-19T00:00:00\",\"2020-05-20T00:00:00\",\"2020-05-21T00:00:00\",\"2020-05-22T00:00:00\",\"2020-05-23T00:00:00\",\"2020-05-24T00:00:00\",\"2020-05-25T00:00:00\",\"2020-05-26T00:00:00\",\"2020-05-27T00:00:00\",\"2020-05-28T00:00:00\",\"2020-05-29T00:00:00\",\"2020-05-30T00:00:00\",\"2020-05-31T00:00:00\",\"2020-06-01T00:00:00\",\"2020-06-02T00:00:00\",\"2020-06-03T00:00:00\",\"2020-06-04T00:00:00\",\"2020-06-05T00:00:00\",\"2020-06-06T00:00:00\",\"2020-06-07T00:00:00\",\"2020-06-08T00:00:00\",\"2020-06-09T00:00:00\",\"2020-06-10T00:00:00\",\"2020-06-11T00:00:00\",\"2020-06-12T00:00:00\",\"2020-06-13T00:00:00\",\"2020-06-14T00:00:00\",\"2020-06-15T00:00:00\",\"2020-06-16T00:00:00\",\"2020-06-17T00:00:00\",\"2020-06-18T00:00:00\",\"2020-06-19T00:00:00\",\"2020-06-20T00:00:00\",\"2020-06-21T00:00:00\",\"2020-06-22T00:00:00\",\"2020-06-23T00:00:00\",\"2020-06-24T00:00:00\",\"2020-06-25T00:00:00\",\"2020-06-26T00:00:00\",\"2020-06-27T00:00:00\",\"2020-06-28T00:00:00\",\"2020-06-29T00:00:00\",\"2020-06-30T00:00:00\",\"2020-07-01T00:00:00\",\"2020-07-02T00:00:00\",\"2020-07-03T00:00:00\",\"2020-07-04T00:00:00\",\"2020-07-05T00:00:00\",\"2020-07-06T00:00:00\",\"2020-07-07T00:00:00\",\"2020-07-08T00:00:00\",\"2020-07-09T00:00:00\",\"2020-07-10T00:00:00\",\"2020-07-11T00:00:00\",\"2020-07-12T00:00:00\",\"2020-07-13T00:00:00\",\"2020-07-14T00:00:00\",\"2020-07-15T00:00:00\",\"2020-07-16T00:00:00\",\"2020-07-17T00:00:00\",\"2020-07-18T00:00:00\",\"2020-07-19T00:00:00\",\"2020-07-20T00:00:00\",\"2020-07-21T00:00:00\",\"2020-07-22T00:00:00\",\"2020-07-23T00:00:00\",\"2020-07-24T00:00:00\",\"2020-07-25T00:00:00\",\"2020-07-26T00:00:00\",\"2020-07-27T00:00:00\",\"2020-07-28T00:00:00\",\"2020-07-29T00:00:00\",\"2020-07-30T00:00:00\",\"2020-07-31T00:00:00\",\"2020-08-01T00:00:00\",\"2020-08-02T00:00:00\",\"2020-08-03T00:00:00\",\"2020-08-04T00:00:00\",\"2020-08-05T00:00:00\",\"2020-08-06T00:00:00\",\"2020-08-07T00:00:00\",\"2020-08-08T00:00:00\",\"2020-08-09T00:00:00\",\"2020-08-10T00:00:00\",\"2020-08-11T00:00:00\",\"2020-08-12T00:00:00\",\"2020-08-13T00:00:00\",\"2020-08-14T00:00:00\",\"2020-08-15T00:00:00\",\"2020-08-16T00:00:00\",\"2020-08-17T00:00:00\",\"2020-08-18T00:00:00\",\"2020-08-19T00:00:00\",\"2020-08-20T00:00:00\",\"2020-08-21T00:00:00\",\"2020-08-22T00:00:00\",\"2020-08-23T00:00:00\",\"2020-08-24T00:00:00\",\"2020-08-25T00:00:00\",\"2020-08-26T00:00:00\",\"2020-08-27T00:00:00\",\"2020-08-28T00:00:00\",\"2020-08-29T00:00:00\",\"2020-08-30T00:00:00\",\"2020-08-31T00:00:00\",\"2020-09-01T00:00:00\",\"2020-09-02T00:00:00\",\"2020-09-03T00:00:00\",\"2020-09-04T00:00:00\",\"2020-09-05T00:00:00\",\"2020-09-06T00:00:00\",\"2020-09-07T00:00:00\",\"2020-09-08T00:00:00\",\"2020-09-09T00:00:00\",\"2020-09-10T00:00:00\",\"2020-09-11T00:00:00\",\"2020-09-12T00:00:00\",\"2020-09-13T00:00:00\",\"2020-09-14T00:00:00\",\"2020-09-15T00:00:00\",\"2020-09-16T00:00:00\",\"2020-09-17T00:00:00\",\"2020-09-18T00:00:00\",\"2020-09-19T00:00:00\",\"2020-09-20T00:00:00\",\"2020-09-21T00:00:00\",\"2020-09-22T00:00:00\",\"2020-09-23T00:00:00\",\"2020-09-24T00:00:00\",\"2020-09-25T00:00:00\",\"2020-09-26T00:00:00\",\"2020-09-27T00:00:00\",\"2020-09-28T00:00:00\",\"2020-09-29T00:00:00\",\"2020-09-30T00:00:00\",\"2020-10-01T00:00:00\",\"2020-10-02T00:00:00\",\"2020-10-03T00:00:00\",\"2020-10-04T00:00:00\",\"2020-10-05T00:00:00\",\"2020-10-06T00:00:00\",\"2020-10-07T00:00:00\",\"2020-10-08T00:00:00\",\"2020-10-09T00:00:00\",\"2020-10-10T00:00:00\",\"2020-10-11T00:00:00\",\"2020-10-12T00:00:00\",\"2020-10-13T00:00:00\",\"2020-10-14T00:00:00\",\"2020-10-15T00:00:00\",\"2020-10-16T00:00:00\",\"2020-10-17T00:00:00\",\"2020-10-18T00:00:00\",\"2020-10-19T00:00:00\",\"2020-10-20T00:00:00\",\"2020-10-21T00:00:00\",\"2020-10-22T00:00:00\",\"2020-10-23T00:00:00\",\"2020-10-24T00:00:00\",\"2020-10-25T00:00:00\",\"2020-10-26T00:00:00\",\"2020-10-27T00:00:00\",\"2020-10-28T00:00:00\",\"2020-10-29T00:00:00\",\"2020-10-30T00:00:00\",\"2020-10-31T00:00:00\",\"2020-11-01T00:00:00\",\"2020-11-02T00:00:00\",\"2020-11-03T00:00:00\",\"2020-11-04T00:00:00\",\"2020-11-05T00:00:00\",\"2020-11-06T00:00:00\",\"2020-11-07T00:00:00\",\"2020-11-08T00:00:00\",\"2020-11-09T00:00:00\",\"2020-11-10T00:00:00\",\"2020-11-11T00:00:00\",\"2020-11-12T00:00:00\",\"2020-11-13T00:00:00\",\"2020-11-14T00:00:00\",\"2020-11-15T00:00:00\",\"2020-11-16T00:00:00\",\"2020-11-17T00:00:00\",\"2020-11-18T00:00:00\",\"2020-11-19T00:00:00\",\"2020-11-20T00:00:00\",\"2020-11-21T00:00:00\",\"2020-11-22T00:00:00\",\"2020-11-23T00:00:00\",\"2020-11-24T00:00:00\",\"2020-11-25T00:00:00\",\"2020-11-26T00:00:00\",\"2020-11-27T00:00:00\",\"2020-11-28T00:00:00\",\"2020-11-29T00:00:00\",\"2020-11-30T00:00:00\",\"2020-12-01T00:00:00\",\"2020-12-02T00:00:00\",\"2020-12-03T00:00:00\",\"2020-12-04T00:00:00\",\"2020-12-05T00:00:00\",\"2020-12-06T00:00:00\",\"2020-12-07T00:00:00\",\"2020-12-08T00:00:00\",\"2020-12-09T00:00:00\",\"2020-12-10T00:00:00\",\"2020-12-11T00:00:00\",\"2020-12-12T00:00:00\",\"2020-12-13T00:00:00\",\"2020-12-14T00:00:00\",\"2020-12-15T00:00:00\",\"2020-12-16T00:00:00\",\"2020-12-17T00:00:00\",\"2020-12-18T00:00:00\",\"2020-12-19T00:00:00\",\"2020-12-20T00:00:00\",\"2020-12-21T00:00:00\",\"2020-12-22T00:00:00\",\"2020-12-23T00:00:00\",\"2020-12-24T00:00:00\",\"2020-12-25T00:00:00\",\"2020-12-26T00:00:00\",\"2020-12-27T00:00:00\",\"2020-12-28T00:00:00\",\"2020-12-29T00:00:00\",\"2020-12-30T00:00:00\",\"2020-12-31T00:00:00\"],\"xaxis\":\"x\",\"y\":[-24.118861920264308,-10.36035531599057,-0.09877662623206346,1.0170079986583127,1.2352089985772756,1.3270212385120135,0.6395717976005154,6.649523707378589,1.9299994151894169,0.6282475311715986,0.21434697729569305,0.8058087468284729,-1.683773924958493,1.1006758957532536,5.4867497393895395,1.436021097975711,-0.5891362154340464,-0.8119292846224823,-1.7037836721617123,0.0,-1.1033776775783608,6.5010705629840375,4.068290947007467,0.8226295958732326,-0.41942569133152363,-0.33723407324401955,0.35675268644647956,-0.6368700157753919,5.481517910512186,2.926043855818078,-0.7629642853787054,-0.9855052138572694,0.5755053651756452,-0.31431515475328026,-0.4523103066720645,-0.39669779187310433,0.5538405665516616,-0.0753922121571245,-0.1259272894077922,-0.49949807937765084,1.036369881311297,0.5750567814440704,1.6649724841389517,-1.3637189032140977,3.579691294789316,0.974402575812021,0.03527828205364914,-0.4150669770637027,-0.2277230827583123,-0.824028029449821,0.0,-1.8750215817401124,0.13702992745302456,-0.11128556785164347,-0.3069877494943471,0.1049766079862739,-0.4442466628160264,0.8098783366624362,-1.629277500892032,0.0,1.5531844421311871,0.3585953291284269,1.147541381074415,0.3034654136219928,0.1730870585980525,0.298016217348364,-0.2719317613973014,-0.020701239708499655,0.2703163431800117,-0.1999044725746499,-0.46151714434934393,0.650424033347704,-2.160916788845339,0.015688370849854374,0.002365855966718873,-0.14246401870295536,1.5942654450147506,-0.06197211407131984,-0.14793253797135217,1.7055144968732234,0.5769834168109673,-0.11710987035106725,-0.10349950076710289,-0.5144903466384724,0.22002384479868753,-0.6755785539744208,0.1573860746237352,-0.32074002626348863,-1.41773918803821,-0.3829481528382973,-2.027412006876027,-3.8242324870812348,1.5962168744647736,0.5978217830658588,1.5367636674417162,0.25352573152426755,0.49570707148894916,0.17815018675054617,1.3613044456516112,-0.4478368804150132,-0.3255820208199081,-0.15855382603922324,0.3973785498803616,-2.461815693571904,0.2211519559661883,1.3631690759762254,0.44048936839102176,0.1256606147359088,-0.7822862326067712,-0.2868139870116468,1.287723741613075,-0.25186750540594227,1.0368587691699518,-0.30992046619358826,-0.3979003769818431,-0.5959236087957376,-0.3640902943930148,0.67838488046988,-0.14743463731079223,0.06290019628341251,-1.278948896247095,-0.12825983934513235,-0.7656463822342293,-1.2122181052156296,-1.4740063854885825,1.9850712814072495,0.3702622562952209,-0.36901140485674233,-0.6180756780206577,-1.4533423409378239,0.4464705550435531,-0.29042890260992826,1.4446651785028795,-1.799075112538228,0.9786045066880398,1.1042370543618802,1.0266359484257017,0.6645334512009461,0.6684571135344549,1.4127320906039802,3.1670481955476255,2.7879700191300496,2.3290713657550746,3.29354974680549,2.8104839468091374,1.095978174564006,-4.84246855051416,-1.7382353393046521,-3.39756312096138,-2.6869729027512292,-2.1011969720590913,-2.709269847837927,0.471786067358802,0.7285416130801606,-0.18133936514938126,-0.6126297312249989,-0.6125600846825304,-1.1899661981853793,-1.489403094388,-0.9272712986841011,-1.872973255487555,-0.3927292536663741,-1.2910121570069983,-0.06767660992242588,-2.5813200498132116,-0.2448960908175524,-0.8440080354912673,-0.3743127713826358,0.24321679750241693,0.7788942540255411,-0.6050404613578148,1.325742750400269,-0.394809118374073,-0.6053591050723839,-0.5698668235797183,0.3308518213133869,1.124747634206472,1.2852771559627711,2.4455434975982753,2.1291083035795944,1.9048523718889023,2.0886112373697325,0.8555307761939613,0.8773495852590107,-1.7652957752791285,-22.275043093503722,-7.4242859605769915,1.4811008878545675,3.412693373965671,1.7630150256704669,0.5543269413158775,1.3664095194877257,7.809439277469266,2.698120797655291,-2.087012338429618,-0.8593457910961542,-0.09279026450896459,0.2909993282914219,0.9966554059732128,7.501429102552983,2.273432561347035,0.32857383412417823,-0.8345149161605311,-0.9583033674471738,-0.45937278933121556,0.14173907684723097,6.964174713481473,2.452732601574618,0.2773376164508567,-1.718832666708986,-1.5674521699082744,-1.2633030655351096,-0.7395082270290257,-0.8238073951082556,-1.166702202052378,-1.269448982081113,-0.5498947344365455,-0.29321490423360236,-0.5829954056816838,-0.8417496754240963,0.8398267742274134,0.2617098301923908,-0.08276041316368044,0.10540839325044428,0.6835965408643287,-1.6636150208373157,-0.16336178886008085,0.3327268338671249,0.6334504712212903,0.5841106846429407,0.5596071609149199,-0.21776779437232838,1.2991024791345964,-0.5324846094904964,-0.5093729603704465,-0.4856379964229043,-0.33183961807093876,-0.1151208197287875,-0.17261384225838247,0.9475079473843878,1.5375960737746888,0.16062674738413438,0.757179897061526,1.0999383286728537,-7.100367113850613,-6.231947137261094,-7.369143622667508,-3.81094012853195,-4.189849105427959,0.0,-1.4075931832272985,3.0218908629441814,4.381299071284434,3.3360228186451915,-2.1635235202867826,2.3415044454028466,-0.8011483668273688,2.148255310592136,3.66094089920233,2.5176501178558794,2.8510850896871878,3.9110116280852405,2.025946473010153,1.9029305021396368,1.1405973333929131,1.8791923495286584,1.926392366783304,1.1820357143351443,2.0634520207334766,-0.17760181298501135,-1.1017821353122828,-1.8812594607577504,-1.461656997824495,-2.593394418662477,3.713188220230465,3.821825679719315,4.593368720138787,1.638695921315071,2.2037784136349736,1.3900175610374927,1.1538794015685085,0.03215482432245084,-0.10140985280453199,3.896006593241937,-0.04298782584771992,0.12144477817074002,0.0,-0.26678431010174114,-0.28071855622526,-0.052565657646384094,1.446594164058768,-0.9434394846046288,-1.3963187421875614,-0.7024414995461079,-0.8092954211466061,-0.9735509220222437,-0.5677556208620607,1.342278011192372,-0.652268610862738,-0.9289044496182012,-0.6875760614913686,-0.07779967032017748,-2.4910735663054595,-3.1000945484063385,-11.278247488631848,3.5244955316927333,3.7216728057718558,3.0593177904520146,2.3931101881260757,2.345540314626029,2.9648624464769355,2.0468167568776714,1.5748595616137835,1.7162723401976923,2.09572428280066,3.0338382604446608,1.5492903183510094,-0.011410246401266155,1.920724709683231,2.490953571650885,3.174081659225513,3.02328989631295,3.150500855118496,3.2544334615716957,6.851552694319503,4.635480675086351,-5.699866461680844,-9.871973189937467,-8.178331969565575,-8.577449303689216,-7.149264094548717,-9.805004894395172,-8.60302214164727,-1.890442203276574,1.2599463847424066,-0.6102729474070058,0.8439272501240179,7.6698262939221165,10.26212462322323,0.9785668711584993,-4.182885562298216,-5.29189071742769,-4.004894325991071,-2.3877403429500452,5.998341101292251,9.579097553730746,4.384729531558155,-4.605059588987859,-3.36950281235567,-1.5542287116667604,1.7565879519224372,10.910216827375104,17.46052872917683,8.530376558578109,5.454776656093483,3.397417726546074,0.4948032812532797,-7.059822010244277,-24.1563593844202,-37.30175090613086,-13.893672961294795,3.3331684951926217,5.263975803237255,5.674592703811557,6.847047151147834,-0.42202483816927316],\"yaxis\":\"y\",\"type\":\"scatter\"},{\"marker\":{\"color\":\"black\"},\"mode\":\"markers\",\"name\":\"Friday the 13th\",\"showlegend\":true,\"x\":[\"2020-01-13T00:00:00\",\"2020-02-13T00:00:00\",\"2020-03-13T00:00:00\",\"2020-04-13T00:00:00\",\"2020-05-13T00:00:00\",\"2020-06-13T00:00:00\",\"2020-07-13T00:00:00\",\"2020-08-13T00:00:00\",\"2020-09-13T00:00:00\",\"2020-10-13T00:00:00\",\"2020-11-13T00:00:00\",\"2020-12-13T00:00:00\"],\"y\":[-1.683773924958493,-1.3637189032140977,-2.160916788845339,-2.461815693571904,-1.799075112538228,-2.5813200498132116,-2.087012338429618,-1.6636150208373157,-0.8011483668273688,0.0,-0.011410246401266155,-4.605059588987859],\"type\":\"scatter\"},{\"marker\":{\"color\":\"red\"},\"mode\":\"markers+text\",\"showlegend\":false,\"text\":[\"Jan 1\",\"April 1\",\"July 4\",\"Oct 31\",\"Dec 25\",\"Dec 31\"],\"textposition\":\"bottom center\",\"x\":[\"2020-01-01T00:00:00\",\"2020-04-01T00:00:00\",\"2020-07-04T00:00:00\",\"2020-10-31T00:00:00\",\"2020-12-25T00:00:00\",\"2020-12-31T00:00:00\"],\"y\":[-24.118861920264308,-3.8242324870812348,-22.275043093503722,-11.278247488631848,-37.30175090613086,-0.42202483816927316],\"type\":\"scatter\"},{\"marker\":{\"color\":\"red\"},\"mode\":\"markers+text\",\"showlegend\":false,\"text\":[\"Feb 14\",\"Feb 29\"],\"textposition\":\"top center\",\"x\":[\"2020-02-14T00:00:00\",\"2020-02-29T00:00:00\"],\"y\":[3.579691294789316,0.0],\"type\":\"scatter\"}],                        {\"template\":{\"data\":{\"histogram2dcontour\":[{\"type\":\"histogram2dcontour\",\"colorbar\":{\"outlinewidth\":0,\"ticks\":\"\"},\"colorscale\":[[0.0,\"#0d0887\"],[0.1111111111111111,\"#46039f\"],[0.2222222222222222,\"#7201a8\"],[0.3333333333333333,\"#9c179e\"],[0.4444444444444444,\"#bd3786\"],[0.5555555555555556,\"#d8576b\"],[0.6666666666666666,\"#ed7953\"],[0.7777777777777778,\"#fb9f3a\"],[0.8888888888888888,\"#fdca26\"],[1.0,\"#f0f921\"]]}],\"choropleth\":[{\"type\":\"choropleth\",\"colorbar\":{\"outlinewidth\":0,\"ticks\":\"\"}}],\"histogram2d\":[{\"type\":\"histogram2d\",\"colorbar\":{\"outlinewidth\":0,\"ticks\":\"\"},\"colorscale\":[[0.0,\"#0d0887\"],[0.1111111111111111,\"#46039f\"],[0.2222222222222222,\"#7201a8\"],[0.3333333333333333,\"#9c179e\"],[0.4444444444444444,\"#bd3786\"],[0.5555555555555556,\"#d8576b\"],[0.6666666666666666,\"#ed7953\"],[0.7777777777777778,\"#fb9f3a\"],[0.8888888888888888,\"#fdca26\"],[1.0,\"#f0f921\"]]}],\"heatmap\":[{\"type\":\"heatmap\",\"colorbar\":{\"outlinewidth\":0,\"ticks\":\"\"},\"colorscale\":[[0.0,\"#0d0887\"],[0.1111111111111111,\"#46039f\"],[0.2222222222222222,\"#7201a8\"],[0.3333333333333333,\"#9c179e\"],[0.4444444444444444,\"#bd3786\"],[0.5555555555555556,\"#d8576b\"],[0.6666666666666666,\"#ed7953\"],[0.7777777777777778,\"#fb9f3a\"],[0.8888888888888888,\"#fdca26\"],[1.0,\"#f0f921\"]]}],\"heatmapgl\":[{\"type\":\"heatmapgl\",\"colorbar\":{\"outlinewidth\":0,\"ticks\":\"\"},\"colorscale\":[[0.0,\"#0d0887\"],[0.1111111111111111,\"#46039f\"],[0.2222222222222222,\"#7201a8\"],[0.3333333333333333,\"#9c179e\"],[0.4444444444444444,\"#bd3786\"],[0.5555555555555556,\"#d8576b\"],[0.6666666666666666,\"#ed7953\"],[0.7777777777777778,\"#fb9f3a\"],[0.8888888888888888,\"#fdca26\"],[1.0,\"#f0f921\"]]}],\"contourcarpet\":[{\"type\":\"contourcarpet\",\"colorbar\":{\"outlinewidth\":0,\"ticks\":\"\"}}],\"contour\":[{\"type\":\"contour\",\"colorbar\":{\"outlinewidth\":0,\"ticks\":\"\"},\"colorscale\":[[0.0,\"#0d0887\"],[0.1111111111111111,\"#46039f\"],[0.2222222222222222,\"#7201a8\"],[0.3333333333333333,\"#9c179e\"],[0.4444444444444444,\"#bd3786\"],[0.5555555555555556,\"#d8576b\"],[0.6666666666666666,\"#ed7953\"],[0.7777777777777778,\"#fb9f3a\"],[0.8888888888888888,\"#fdca26\"],[1.0,\"#f0f921\"]]}],\"surface\":[{\"type\":\"surface\",\"colorbar\":{\"outlinewidth\":0,\"ticks\":\"\"},\"colorscale\":[[0.0,\"#0d0887\"],[0.1111111111111111,\"#46039f\"],[0.2222222222222222,\"#7201a8\"],[0.3333333333333333,\"#9c179e\"],[0.4444444444444444,\"#bd3786\"],[0.5555555555555556,\"#d8576b\"],[0.6666666666666666,\"#ed7953\"],[0.7777777777777778,\"#fb9f3a\"],[0.8888888888888888,\"#fdca26\"],[1.0,\"#f0f921\"]]}],\"mesh3d\":[{\"type\":\"mesh3d\",\"colorbar\":{\"outlinewidth\":0,\"ticks\":\"\"}}],\"scatter\":[{\"fillpattern\":{\"fillmode\":\"overlay\",\"size\":10,\"solidity\":0.2},\"type\":\"scatter\"}],\"parcoords\":[{\"type\":\"parcoords\",\"line\":{\"colorbar\":{\"outlinewidth\":0,\"ticks\":\"\"}}}],\"scatterpolargl\":[{\"type\":\"scatterpolargl\",\"marker\":{\"colorbar\":{\"outlinewidth\":0,\"ticks\":\"\"}}}],\"bar\":[{\"error_x\":{\"color\":\"#2a3f5f\"},\"error_y\":{\"color\":\"#2a3f5f\"},\"marker\":{\"line\":{\"color\":\"#E5ECF6\",\"width\":0.5},\"pattern\":{\"fillmode\":\"overlay\",\"size\":10,\"solidity\":0.2}},\"type\":\"bar\"}],\"scattergeo\":[{\"type\":\"scattergeo\",\"marker\":{\"colorbar\":{\"outlinewidth\":0,\"ticks\":\"\"}}}],\"scatterpolar\":[{\"type\":\"scatterpolar\",\"marker\":{\"colorbar\":{\"outlinewidth\":0,\"ticks\":\"\"}}}],\"histogram\":[{\"marker\":{\"pattern\":{\"fillmode\":\"overlay\",\"size\":10,\"solidity\":0.2}},\"type\":\"histogram\"}],\"scattergl\":[{\"type\":\"scattergl\",\"marker\":{\"colorbar\":{\"outlinewidth\":0,\"ticks\":\"\"}}}],\"scatter3d\":[{\"type\":\"scatter3d\",\"line\":{\"colorbar\":{\"outlinewidth\":0,\"ticks\":\"\"}},\"marker\":{\"colorbar\":{\"outlinewidth\":0,\"ticks\":\"\"}}}],\"scattermapbox\":[{\"type\":\"scattermapbox\",\"marker\":{\"colorbar\":{\"outlinewidth\":0,\"ticks\":\"\"}}}],\"scatterternary\":[{\"type\":\"scatterternary\",\"marker\":{\"colorbar\":{\"outlinewidth\":0,\"ticks\":\"\"}}}],\"scattercarpet\":[{\"type\":\"scattercarpet\",\"marker\":{\"colorbar\":{\"outlinewidth\":0,\"ticks\":\"\"}}}],\"carpet\":[{\"aaxis\":{\"endlinecolor\":\"#2a3f5f\",\"gridcolor\":\"white\",\"linecolor\":\"white\",\"minorgridcolor\":\"white\",\"startlinecolor\":\"#2a3f5f\"},\"baxis\":{\"endlinecolor\":\"#2a3f5f\",\"gridcolor\":\"white\",\"linecolor\":\"white\",\"minorgridcolor\":\"white\",\"startlinecolor\":\"#2a3f5f\"},\"type\":\"carpet\"}],\"table\":[{\"cells\":{\"fill\":{\"color\":\"#EBF0F8\"},\"line\":{\"color\":\"white\"}},\"header\":{\"fill\":{\"color\":\"#C8D4E3\"},\"line\":{\"color\":\"white\"}},\"type\":\"table\"}],\"barpolar\":[{\"marker\":{\"line\":{\"color\":\"#E5ECF6\",\"width\":0.5},\"pattern\":{\"fillmode\":\"overlay\",\"size\":10,\"solidity\":0.2}},\"type\":\"barpolar\"}],\"pie\":[{\"automargin\":true,\"type\":\"pie\"}]},\"layout\":{\"autotypenumbers\":\"strict\",\"colorway\":[\"#636efa\",\"#EF553B\",\"#00cc96\",\"#ab63fa\",\"#FFA15A\",\"#19d3f3\",\"#FF6692\",\"#B6E880\",\"#FF97FF\",\"#FECB52\"],\"font\":{\"color\":\"#2a3f5f\"},\"hovermode\":\"closest\",\"hoverlabel\":{\"align\":\"left\"},\"paper_bgcolor\":\"white\",\"plot_bgcolor\":\"#E5ECF6\",\"polar\":{\"bgcolor\":\"#E5ECF6\",\"angularaxis\":{\"gridcolor\":\"white\",\"linecolor\":\"white\",\"ticks\":\"\"},\"radialaxis\":{\"gridcolor\":\"white\",\"linecolor\":\"white\",\"ticks\":\"\"}},\"ternary\":{\"bgcolor\":\"#E5ECF6\",\"aaxis\":{\"gridcolor\":\"white\",\"linecolor\":\"white\",\"ticks\":\"\"},\"baxis\":{\"gridcolor\":\"white\",\"linecolor\":\"white\",\"ticks\":\"\"},\"caxis\":{\"gridcolor\":\"white\",\"linecolor\":\"white\",\"ticks\":\"\"}},\"coloraxis\":{\"colorbar\":{\"outlinewidth\":0,\"ticks\":\"\"}},\"colorscale\":{\"sequential\":[[0.0,\"#0d0887\"],[0.1111111111111111,\"#46039f\"],[0.2222222222222222,\"#7201a8\"],[0.3333333333333333,\"#9c179e\"],[0.4444444444444444,\"#bd3786\"],[0.5555555555555556,\"#d8576b\"],[0.6666666666666666,\"#ed7953\"],[0.7777777777777778,\"#fb9f3a\"],[0.8888888888888888,\"#fdca26\"],[1.0,\"#f0f921\"]],\"sequentialminus\":[[0.0,\"#0d0887\"],[0.1111111111111111,\"#46039f\"],[0.2222222222222222,\"#7201a8\"],[0.3333333333333333,\"#9c179e\"],[0.4444444444444444,\"#bd3786\"],[0.5555555555555556,\"#d8576b\"],[0.6666666666666666,\"#ed7953\"],[0.7777777777777778,\"#fb9f3a\"],[0.8888888888888888,\"#fdca26\"],[1.0,\"#f0f921\"]],\"diverging\":[[0,\"#8e0152\"],[0.1,\"#c51b7d\"],[0.2,\"#de77ae\"],[0.3,\"#f1b6da\"],[0.4,\"#fde0ef\"],[0.5,\"#f7f7f7\"],[0.6,\"#e6f5d0\"],[0.7,\"#b8e186\"],[0.8,\"#7fbc41\"],[0.9,\"#4d9221\"],[1,\"#276419\"]]},\"xaxis\":{\"gridcolor\":\"white\",\"linecolor\":\"white\",\"ticks\":\"\",\"title\":{\"standoff\":15},\"zerolinecolor\":\"white\",\"automargin\":true,\"zerolinewidth\":2},\"yaxis\":{\"gridcolor\":\"white\",\"linecolor\":\"white\",\"ticks\":\"\",\"title\":{\"standoff\":15},\"zerolinecolor\":\"white\",\"automargin\":true,\"zerolinewidth\":2},\"scene\":{\"xaxis\":{\"backgroundcolor\":\"#E5ECF6\",\"gridcolor\":\"white\",\"linecolor\":\"white\",\"showbackground\":true,\"ticks\":\"\",\"zerolinecolor\":\"white\",\"gridwidth\":2},\"yaxis\":{\"backgroundcolor\":\"#E5ECF6\",\"gridcolor\":\"white\",\"linecolor\":\"white\",\"showbackground\":true,\"ticks\":\"\",\"zerolinecolor\":\"white\",\"gridwidth\":2},\"zaxis\":{\"backgroundcolor\":\"#E5ECF6\",\"gridcolor\":\"white\",\"linecolor\":\"white\",\"showbackground\":true,\"ticks\":\"\",\"zerolinecolor\":\"white\",\"gridwidth\":2}},\"shapedefaults\":{\"line\":{\"color\":\"#2a3f5f\"}},\"annotationdefaults\":{\"arrowcolor\":\"#2a3f5f\",\"arrowhead\":0,\"arrowwidth\":1},\"geo\":{\"bgcolor\":\"white\",\"landcolor\":\"#E5ECF6\",\"subunitcolor\":\"white\",\"showland\":true,\"showlakes\":true,\"lakecolor\":\"white\"},\"title\":{\"x\":0.05},\"mapbox\":{\"style\":\"light\"}}},\"xaxis\":{\"title\":{\"text\":\"Day of the Year\"},\"showgrid\":true,\"side\":\"bottom\",\"gridcolor\":\"#D2D2D2\",\"ticktext\":[\"Jan\",\"April\",\"July\",\"Oct\",\"Jan\"],\"tickvals\":[\"2020-01-01\",\"2020-04-01\",\"2020-07-01\",\"2020-10-01\",\"2020-12-31\"]},\"title\":{\"text\":\"Fewer babies are born on Fridays the 13th of each month <br> <sub>US births relative to average adjusted to month and day of the week</sub>\",\"x\":0.5},\"yaxis\":{\"title\":{\"text\":\"Percentage change from the average births per day\"},\"showgrid\":true,\"gridcolor\":\"#D2D2D2\"},\"paper_bgcolor\":\"rgba(240,240,240,240)\",\"plot_bgcolor\":\"rgba(0,0,0,0)\",\"annotations\":[{\"showarrow\":false,\"text\":\"Thanksgiving\",\"x\":\"2020-11-27T00:00:00\",\"xshift\":2,\"y\":-10,\"yshift\":-5},{\"showarrow\":false,\"text\":\"Labor Day\",\"x\":\"2020-09-03T00:00:00\",\"xshift\":2,\"y\":-8,\"yshift\":-5},{\"showarrow\":false,\"text\":\"Memorial Day\",\"x\":\"2020-05-26T00:00:00\",\"xshift\":2,\"y\":-5,\"yshift\":-5}]},                        {\"responsive\": true}                    ).then(function(){\n",
       "                            \n",
       "var gd = document.getElementById('9e495459-5dc3-4e1c-92d4-ef1237376678');\n",
       "var x = new MutationObserver(function (mutations, observer) {{\n",
       "        var display = window.getComputedStyle(gd).display;\n",
       "        if (!display || display === 'none') {{\n",
       "            console.log([gd, 'removed!']);\n",
       "            Plotly.purge(gd);\n",
       "            observer.disconnect();\n",
       "        }}\n",
       "}});\n",
       "\n",
       "// Listen for the removal of the full notebook cells\n",
       "var notebookContainer = gd.closest('#notebook-container');\n",
       "if (notebookContainer) {{\n",
       "    x.observe(notebookContainer, {childList: true});\n",
       "}}\n",
       "\n",
       "// Listen for the clearing of the current output cell\n",
       "var outputEl = gd.closest('.output');\n",
       "if (outputEl) {{\n",
       "    x.observe(outputEl, {childList: true});\n",
       "}}\n",
       "\n",
       "                        })                };                });            </script>        </div>"
      ]
     },
     "metadata": {},
     "output_type": "display_data"
    }
   ],
   "source": [
    "# A line graph with the births per day\n",
    "fig1 = px.line(births_per_day_and_weekday_ssa, \n",
    "             x='date', \n",
    "             y='percentage_total_day_of_week', color_discrete_sequence=[\"black\"])\n",
    "# Scatter of all 13th\n",
    "fig2 = go.Figure()\n",
    "fig2.add_trace(go.Scatter(\n",
    "    mode=\"markers\",\n",
    "    marker=dict(color='black'),\n",
    "    x=births_per_day_and_weekday_ssa[(births_per_day_and_weekday_ssa[\"date_of_month\"]==13)][\"date\"],\n",
    "    y=births_per_day_and_weekday_ssa[(births_per_day_and_weekday_ssa[\"date_of_month\"]==13)][\"percentage_total_day_of_week\"],\n",
    "    name=\"Friday the 13th\",\n",
    "    showlegend=True\n",
    "))\n",
    "\n",
    "#All Important dates\n",
    "important_days = [pd.to_datetime(\"2020/01/01\"),pd.to_datetime(\"2020/04/01\"),pd.to_datetime(\"2020/07/04\"),pd.to_datetime(\"2020/10/31\"),pd.to_datetime(\"2020/12/25\"),pd.to_datetime(\"2020/12/31\") ]\n",
    "important_days_text = [\"Jan 1\", \"April 1\", \"July 4\", \"Oct 31\", \"Dec 25\", \"Dec 31\"]\n",
    "fig3 = go.Figure()\n",
    "fig3.add_trace(go.Scatter(\n",
    "    mode=\"markers+text\",\n",
    "    marker=dict(color='red'),\n",
    "    x=births_per_day_and_weekday_ssa[(births_per_day_and_weekday_ssa[\"date\"].isin(important_days) )][\"date\"],\n",
    "    y=births_per_day_and_weekday_ssa[(births_per_day_and_weekday_ssa[\"date\"].isin(important_days) )][\"percentage_total_day_of_week\"],\n",
    "    text = important_days_text,\n",
    "    textposition=\"bottom center\",\n",
    "    showlegend=False\n",
    "))\n",
    "#Feb 14\n",
    "fig4 = go.Figure()\n",
    "fig4.add_trace(go.Scatter(\n",
    "    mode=\"markers+text\",\n",
    "    marker=dict(color='red'),\n",
    "    x=births_per_day_and_weekday_ssa[(births_per_day_and_weekday_ssa[\"date\"].isin([pd.to_datetime(\"2020/02/14\"),pd.to_datetime(\"2020/02/29\")] ))][\"date\"],\n",
    "    y=births_per_day_and_weekday_ssa[(births_per_day_and_weekday_ssa[\"date\"].isin([pd.to_datetime(\"2020/02/14\"),pd.to_datetime(\"2020/02/29\")] ))][\"percentage_total_day_of_week\"],\n",
    "    text = [\"Feb 14\", \"Feb 29\"],\n",
    "    textposition=\"top center\",\n",
    "    showlegend=False\n",
    "))\n",
    "\n",
    "\n",
    "fig = go.Figure(data=fig1.data+fig2.data+fig3.data+fig4.data)\n",
    "fig.update_xaxes(\n",
    "    showgrid=True, \n",
    "    side=\"bottom\", \n",
    "    title_standoff=100, \n",
    "    gridcolor=\"#D2D2D2\",\n",
    "    ticktext=[\"Jan\", \"April\", \"July\", \"Oct\", \"Jan\"],\n",
    "    tickvals=[\"2020-01-01\", \"2020-04-01\", \"2020-07-01\",\"2020-10-01\",\"2020-12-31\" ],\n",
    ")\n",
    "fig.update_layout(\n",
    "    title=\"Fewer babies are born on Fridays the 13th of each month <br> <sub>US births relative to average adjusted to month and day of the week</sub>\",\n",
    "    yaxis_title=\"Percentage change from the average births per day\",\n",
    "    xaxis_title=\"Day of the Year\",\n",
    "    title_x=0.5, \n",
    "    paper_bgcolor='rgba(240,240,240,240)',\n",
    "    plot_bgcolor='rgba(0,0,0,0)')\n",
    "fig.update_yaxes(showgrid=True, gridcolor=\"#D2D2D2\")\n",
    "fig.update_layout(title_x=0.5)\n",
    "fig.add_annotation(\n",
    "            x=pd.to_datetime(\"2020/11/27\"), y=-10,\n",
    "            text=\"Thanksgiving\",\n",
    "            showarrow=False,\n",
    "            yshift=-5,\n",
    "            xshift=2)\n",
    "fig.add_annotation(\n",
    "            x=pd.to_datetime(\"2020/09/03\"), y=-8,\n",
    "            text=\"Labor Day\",\n",
    "            showarrow=False,\n",
    "            yshift=-5,\n",
    "            xshift=2)\n",
    "fig.add_annotation(\n",
    "            x=pd.to_datetime(\"2020/05/26\"), y=-5,\n",
    "            text=\"Memorial Day\",\n",
    "            showarrow=False,\n",
    "            yshift=-5,\n",
    "            xshift=2)\n",
    "fig.show()"
   ]
  },
  {
   "cell_type": "code",
   "execution_count": null,
   "id": "2e540dfc",
   "metadata": {},
   "outputs": [],
   "source": []
  }
 ],
 "metadata": {
  "kernelspec": {
   "display_name": "Python 3 (ipykernel)",
   "language": "python",
   "name": "python3"
  },
  "language_info": {
   "codemirror_mode": {
    "name": "ipython",
    "version": 3
   },
   "file_extension": ".py",
   "mimetype": "text/x-python",
   "name": "python",
   "nbconvert_exporter": "python",
   "pygments_lexer": "ipython3",
   "version": "3.9.7"
  }
 },
 "nbformat": 4,
 "nbformat_minor": 5
}
